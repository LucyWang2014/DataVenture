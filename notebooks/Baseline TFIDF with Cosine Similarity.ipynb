{
 "cells": [
  {
   "cell_type": "code",
   "execution_count": 1,
   "metadata": {
    "collapsed": true
   },
   "outputs": [],
   "source": [
    "import pandas as pd\n",
    "import numpy as np\n",
    "from os import listdir\n",
    "from os.path import isfile, join\n",
    "import matplotlib.pyplot as plt\n",
    "import seaborn as sn\n",
    "%matplotlib inline  "
   ]
  },
  {
   "cell_type": "code",
   "execution_count": 2,
   "metadata": {
    "collapsed": false
   },
   "outputs": [],
   "source": [
    "from sklearn.datasets import fetch_20newsgroups\n",
    "from sklearn.decomposition import TruncatedSVD\n",
    "from sklearn.feature_extraction.text import TfidfVectorizer\n",
    "from sklearn.feature_extraction.text import HashingVectorizer\n",
    "from sklearn.feature_extraction.text import TfidfTransformer\n",
    "from sklearn.pipeline import make_pipeline\n",
    "from sklearn.preprocessing import Normalizer\n",
    "from sklearn import metrics\n",
    "from sklearn.metrics.pairwise import cosine_similarity"
   ]
  },
  {
   "cell_type": "code",
   "execution_count": 3,
   "metadata": {
    "collapsed": false
   },
   "outputs": [],
   "source": [
    "mypath = '/Users/Lucy/Google Drive/MSDS/2016Fall/DSGA1006/Data/unsupervised'\n",
    "df = pd.read_csv(mypath + '/clustering_data.csv')\n",
    "comps = pd.read_csv(mypath + '/competitors.csv')"
   ]
  },
  {
   "cell_type": "code",
   "execution_count": 4,
   "metadata": {
    "collapsed": false
   },
   "outputs": [
    {
     "data": {
      "text/plain": [
       "Unnamed: 0                int64\n",
       "company_uuid             object\n",
       "company_name             object\n",
       "company_category_list    object\n",
       "category_group_list      object\n",
       "short_description        object\n",
       "description              object\n",
       "founded_on               object\n",
       "dtype: object"
      ]
     },
     "execution_count": 4,
     "metadata": {},
     "output_type": "execute_result"
    }
   ],
   "source": [
    "df.dtypes"
   ]
  },
  {
   "cell_type": "code",
   "execution_count": 5,
   "metadata": {
    "collapsed": false
   },
   "outputs": [],
   "source": [
    "df.description = df.description.astype(str)"
   ]
  },
  {
   "cell_type": "code",
   "execution_count": 6,
   "metadata": {
    "collapsed": false
   },
   "outputs": [],
   "source": [
    "vectorizer = TfidfVectorizer(max_df=0.5, max_features=1000,\n",
    "                                 min_df=2, stop_words='english',\n",
    "                                 use_idf=True)"
   ]
  },
  {
   "cell_type": "code",
   "execution_count": 7,
   "metadata": {
    "collapsed": true
   },
   "outputs": [],
   "source": [
    "X = vectorizer.fit_transform(df.description)"
   ]
  },
  {
   "cell_type": "code",
   "execution_count": 8,
   "metadata": {
    "collapsed": false
   },
   "outputs": [],
   "source": [
    "score = cosine_similarity(X, Y=None, dense_output=False)"
   ]
  },
  {
   "cell_type": "code",
   "execution_count": 9,
   "metadata": {
    "collapsed": false
   },
   "outputs": [],
   "source": [
    "#result = score.todense()"
   ]
  },
  {
   "cell_type": "code",
   "execution_count": 10,
   "metadata": {
    "collapsed": false
   },
   "outputs": [
    {
     "data": {
      "text/plain": [
       "array([[ 0.02853656],\n",
       "       [ 0.        ],\n",
       "       [ 0.        ],\n",
       "       [ 1.        ],\n",
       "       [ 0.        ],\n",
       "       [ 0.01470365],\n",
       "       [ 0.01407984],\n",
       "       [ 0.02525513],\n",
       "       [ 0.        ],\n",
       "       [ 0.        ]])"
      ]
     },
     "execution_count": 10,
     "metadata": {},
     "output_type": "execute_result"
    }
   ],
   "source": [
    "score[:10,3].toarray()"
   ]
  },
  {
   "cell_type": "code",
   "execution_count": 15,
   "metadata": {
    "collapsed": true
   },
   "outputs": [],
   "source": [
    "n = 11 #get top 10 similar companies"
   ]
  },
  {
   "cell_type": "code",
   "execution_count": 14,
   "metadata": {
    "collapsed": false
   },
   "outputs": [
    {
     "data": {
      "text/html": [
       "<div>\n",
       "<table border=\"1\" class=\"dataframe\">\n",
       "  <thead>\n",
       "    <tr style=\"text-align: right;\">\n",
       "      <th></th>\n",
       "      <th>Unnamed: 0</th>\n",
       "      <th>company_uuid</th>\n",
       "      <th>company_name</th>\n",
       "      <th>company_category_list</th>\n",
       "      <th>category_group_list</th>\n",
       "      <th>short_description</th>\n",
       "      <th>description</th>\n",
       "      <th>founded_on</th>\n",
       "    </tr>\n",
       "  </thead>\n",
       "  <tbody>\n",
       "    <tr>\n",
       "      <th>168</th>\n",
       "      <td>169</td>\n",
       "      <td>bcb617c3-9e43-d5b0-1d14-82b795f2642f</td>\n",
       "      <td>Airbnb</td>\n",
       "      <td>Hospitality|Marketplace|Sharing Economy|Travel...</td>\n",
       "      <td>commerce and shopping|travel and tourism</td>\n",
       "      <td>Airbnb is an online community marketplace for ...</td>\n",
       "      <td>Airbnb is a community marketplace for people t...</td>\n",
       "      <td>2008-08-01</td>\n",
       "    </tr>\n",
       "  </tbody>\n",
       "</table>\n",
       "</div>"
      ],
      "text/plain": [
       "     Unnamed: 0                          company_uuid company_name  \\\n",
       "168         169  bcb617c3-9e43-d5b0-1d14-82b795f2642f       Airbnb   \n",
       "\n",
       "                                 company_category_list  \\\n",
       "168  Hospitality|Marketplace|Sharing Economy|Travel...   \n",
       "\n",
       "                          category_group_list  \\\n",
       "168  commerce and shopping|travel and tourism   \n",
       "\n",
       "                                     short_description  \\\n",
       "168  Airbnb is an online community marketplace for ...   \n",
       "\n",
       "                                           description  founded_on  \n",
       "168  Airbnb is a community marketplace for people t...  2008-08-01  "
      ]
     },
     "execution_count": 14,
     "metadata": {},
     "output_type": "execute_result"
    }
   ],
   "source": [
    "df[df.company_name == 'Airbnb']"
   ]
  },
  {
   "cell_type": "code",
   "execution_count": 20,
   "metadata": {
    "collapsed": false
   },
   "outputs": [],
   "source": [
    "airbnb = score[:,168].toarray()"
   ]
  },
  {
   "cell_type": "code",
   "execution_count": 23,
   "metadata": {
    "collapsed": true
   },
   "outputs": [],
   "source": [
    "comps['number'] = comps.competitor_uuid.apply(lambda x: df[df['company_uuid'] == True].index)"
   ]
  },
  {
   "cell_type": "code",
   "execution_count": 22,
   "metadata": {
    "collapsed": false
   },
   "outputs": [
    {
     "data": {
      "text/html": [
       "<div>\n",
       "<table border=\"1\" class=\"dataframe\">\n",
       "  <thead>\n",
       "    <tr style=\"text-align: right;\">\n",
       "      <th></th>\n",
       "      <th>Unnamed: 0</th>\n",
       "      <th>entity_uuid</th>\n",
       "      <th>competitor_uuid</th>\n",
       "      <th>company_name</th>\n",
       "      <th>competitor_name</th>\n",
       "    </tr>\n",
       "  </thead>\n",
       "  <tbody>\n",
       "    <tr>\n",
       "      <th>1240</th>\n",
       "      <td>5450</td>\n",
       "      <td>bcb617c3-9e43-d5b0-1d14-82b795f2642f</td>\n",
       "      <td>404e23d7-2f90-c2f9-fd53-e94be8d7e171</td>\n",
       "      <td>Airbnb</td>\n",
       "      <td>Flat4Day</td>\n",
       "    </tr>\n",
       "    <tr>\n",
       "      <th>5628</th>\n",
       "      <td>29025</td>\n",
       "      <td>bcb617c3-9e43-d5b0-1d14-82b795f2642f</td>\n",
       "      <td>b0493814-cb35-76f0-afce-44a5a4fdf6e1</td>\n",
       "      <td>Airbnb</td>\n",
       "      <td>nestpick</td>\n",
       "    </tr>\n",
       "    <tr>\n",
       "      <th>9357</th>\n",
       "      <td>47512</td>\n",
       "      <td>bcb617c3-9e43-d5b0-1d14-82b795f2642f</td>\n",
       "      <td>8e3002b3-5acd-6376-e44e-9457ea6b1c96</td>\n",
       "      <td>Airbnb</td>\n",
       "      <td>Wyndham Worldwide</td>\n",
       "    </tr>\n",
       "    <tr>\n",
       "      <th>14924</th>\n",
       "      <td>92257</td>\n",
       "      <td>bcb617c3-9e43-d5b0-1d14-82b795f2642f</td>\n",
       "      <td>483b930f-674d-3900-16ff-c8fac9aae93f</td>\n",
       "      <td>Airbnb</td>\n",
       "      <td>Gogobot</td>\n",
       "    </tr>\n",
       "    <tr>\n",
       "      <th>17299</th>\n",
       "      <td>125172</td>\n",
       "      <td>bcb617c3-9e43-d5b0-1d14-82b795f2642f</td>\n",
       "      <td>15803e37-a570-d41e-16fe-c189971a53d6</td>\n",
       "      <td>Airbnb</td>\n",
       "      <td>atraveo TUI Group</td>\n",
       "    </tr>\n",
       "    <tr>\n",
       "      <th>17639</th>\n",
       "      <td>132754</td>\n",
       "      <td>bcb617c3-9e43-d5b0-1d14-82b795f2642f</td>\n",
       "      <td>c3c08a43-cf98-907a-7150-6e086c04ad16</td>\n",
       "      <td>Airbnb</td>\n",
       "      <td>SunnyRentals</td>\n",
       "    </tr>\n",
       "    <tr>\n",
       "      <th>17644</th>\n",
       "      <td>132814</td>\n",
       "      <td>bcb617c3-9e43-d5b0-1d14-82b795f2642f</td>\n",
       "      <td>89ce0ba3-dd7d-b1b8-c976-4dedc7b44bd2</td>\n",
       "      <td>Airbnb</td>\n",
       "      <td>onefinestay</td>\n",
       "    </tr>\n",
       "    <tr>\n",
       "      <th>19600</th>\n",
       "      <td>215586</td>\n",
       "      <td>bcb617c3-9e43-d5b0-1d14-82b795f2642f</td>\n",
       "      <td>10ec973f-f990-effb-1699-7828cdb5cf08</td>\n",
       "      <td>Airbnb</td>\n",
       "      <td>kozaza.com</td>\n",
       "    </tr>\n",
       "    <tr>\n",
       "      <th>22735</th>\n",
       "      <td>236088</td>\n",
       "      <td>bcb617c3-9e43-d5b0-1d14-82b795f2642f</td>\n",
       "      <td>527c5f3b-01b7-b9d2-3359-8c6a89e55ba0</td>\n",
       "      <td>Airbnb</td>\n",
       "      <td>9flats</td>\n",
       "    </tr>\n",
       "    <tr>\n",
       "      <th>28022</th>\n",
       "      <td>262943</td>\n",
       "      <td>bcb617c3-9e43-d5b0-1d14-82b795f2642f</td>\n",
       "      <td>96aab7f1-6a2a-c523-99a0-a0b7c1b14e45</td>\n",
       "      <td>Airbnb</td>\n",
       "      <td>Localo</td>\n",
       "    </tr>\n",
       "    <tr>\n",
       "      <th>28784</th>\n",
       "      <td>266866</td>\n",
       "      <td>bcb617c3-9e43-d5b0-1d14-82b795f2642f</td>\n",
       "      <td>6932ed03-66cc-4cc0-f029-f7e9b891c9c0</td>\n",
       "      <td>Airbnb</td>\n",
       "      <td>Zukbox</td>\n",
       "    </tr>\n",
       "    <tr>\n",
       "      <th>29395</th>\n",
       "      <td>270116</td>\n",
       "      <td>bcb617c3-9e43-d5b0-1d14-82b795f2642f</td>\n",
       "      <td>ff0b6674-2b30-2147-1f26-5712ddfccd45</td>\n",
       "      <td>Airbnb</td>\n",
       "      <td>Alterkeys</td>\n",
       "    </tr>\n",
       "    <tr>\n",
       "      <th>30309</th>\n",
       "      <td>274339</td>\n",
       "      <td>bcb617c3-9e43-d5b0-1d14-82b795f2642f</td>\n",
       "      <td>c8b767a2-0294-fad1-89f3-e7dc97c5caa4</td>\n",
       "      <td>Airbnb</td>\n",
       "      <td>Couchsurfing</td>\n",
       "    </tr>\n",
       "    <tr>\n",
       "      <th>32325</th>\n",
       "      <td>284404</td>\n",
       "      <td>bcb617c3-9e43-d5b0-1d14-82b795f2642f</td>\n",
       "      <td>6f7ea63a-f820-733a-702b-82e75d0ac15f</td>\n",
       "      <td>Airbnb</td>\n",
       "      <td>Wimdu</td>\n",
       "    </tr>\n",
       "    <tr>\n",
       "      <th>34295</th>\n",
       "      <td>294595</td>\n",
       "      <td>bcb617c3-9e43-d5b0-1d14-82b795f2642f</td>\n",
       "      <td>e22d6714-580f-1397-dacd-32c476e5c180</td>\n",
       "      <td>Airbnb</td>\n",
       "      <td>upiq</td>\n",
       "    </tr>\n",
       "    <tr>\n",
       "      <th>34850</th>\n",
       "      <td>297328</td>\n",
       "      <td>bcb617c3-9e43-d5b0-1d14-82b795f2642f</td>\n",
       "      <td>f448c18e-d21b-e4c9-e89c-32ed45a0baae</td>\n",
       "      <td>Airbnb</td>\n",
       "      <td>iStopOver</td>\n",
       "    </tr>\n",
       "    <tr>\n",
       "      <th>34857</th>\n",
       "      <td>297338</td>\n",
       "      <td>bcb617c3-9e43-d5b0-1d14-82b795f2642f</td>\n",
       "      <td>d1438151-39e9-5bf1-d780-b41cafa3e56d</td>\n",
       "      <td>Airbnb</td>\n",
       "      <td>Roomorama</td>\n",
       "    </tr>\n",
       "    <tr>\n",
       "      <th>36507</th>\n",
       "      <td>306084</td>\n",
       "      <td>bcb617c3-9e43-d5b0-1d14-82b795f2642f</td>\n",
       "      <td>f235f225-bea4-87d6-362f-fdbba9787b03</td>\n",
       "      <td>Airbnb</td>\n",
       "      <td>VRBO</td>\n",
       "    </tr>\n",
       "    <tr>\n",
       "      <th>36899</th>\n",
       "      <td>308361</td>\n",
       "      <td>bcb617c3-9e43-d5b0-1d14-82b795f2642f</td>\n",
       "      <td>5d80b1f5-4596-e7d0-6230-264b03c25c2f</td>\n",
       "      <td>Airbnb</td>\n",
       "      <td>FlatClub</td>\n",
       "    </tr>\n",
       "    <tr>\n",
       "      <th>37915</th>\n",
       "      <td>314283</td>\n",
       "      <td>bcb617c3-9e43-d5b0-1d14-82b795f2642f</td>\n",
       "      <td>47ab0bb3-afe3-3bd4-cf50-f834a5a15f06</td>\n",
       "      <td>Airbnb</td>\n",
       "      <td>HomeAway</td>\n",
       "    </tr>\n",
       "    <tr>\n",
       "      <th>44319</th>\n",
       "      <td>348841</td>\n",
       "      <td>bcb617c3-9e43-d5b0-1d14-82b795f2642f</td>\n",
       "      <td>0aa6179c-a99b-93a2-272f-b8ef21a06d48</td>\n",
       "      <td>Airbnb</td>\n",
       "      <td>HouseTrip</td>\n",
       "    </tr>\n",
       "    <tr>\n",
       "      <th>52034</th>\n",
       "      <td>392648</td>\n",
       "      <td>bcb617c3-9e43-d5b0-1d14-82b795f2642f</td>\n",
       "      <td>99673ec9-3f72-1c00-fb73-38ea816f427b</td>\n",
       "      <td>Airbnb</td>\n",
       "      <td>FlipKey</td>\n",
       "    </tr>\n",
       "  </tbody>\n",
       "</table>\n",
       "</div>"
      ],
      "text/plain": [
       "       Unnamed: 0                           entity_uuid  \\\n",
       "1240         5450  bcb617c3-9e43-d5b0-1d14-82b795f2642f   \n",
       "5628        29025  bcb617c3-9e43-d5b0-1d14-82b795f2642f   \n",
       "9357        47512  bcb617c3-9e43-d5b0-1d14-82b795f2642f   \n",
       "14924       92257  bcb617c3-9e43-d5b0-1d14-82b795f2642f   \n",
       "17299      125172  bcb617c3-9e43-d5b0-1d14-82b795f2642f   \n",
       "17639      132754  bcb617c3-9e43-d5b0-1d14-82b795f2642f   \n",
       "17644      132814  bcb617c3-9e43-d5b0-1d14-82b795f2642f   \n",
       "19600      215586  bcb617c3-9e43-d5b0-1d14-82b795f2642f   \n",
       "22735      236088  bcb617c3-9e43-d5b0-1d14-82b795f2642f   \n",
       "28022      262943  bcb617c3-9e43-d5b0-1d14-82b795f2642f   \n",
       "28784      266866  bcb617c3-9e43-d5b0-1d14-82b795f2642f   \n",
       "29395      270116  bcb617c3-9e43-d5b0-1d14-82b795f2642f   \n",
       "30309      274339  bcb617c3-9e43-d5b0-1d14-82b795f2642f   \n",
       "32325      284404  bcb617c3-9e43-d5b0-1d14-82b795f2642f   \n",
       "34295      294595  bcb617c3-9e43-d5b0-1d14-82b795f2642f   \n",
       "34850      297328  bcb617c3-9e43-d5b0-1d14-82b795f2642f   \n",
       "34857      297338  bcb617c3-9e43-d5b0-1d14-82b795f2642f   \n",
       "36507      306084  bcb617c3-9e43-d5b0-1d14-82b795f2642f   \n",
       "36899      308361  bcb617c3-9e43-d5b0-1d14-82b795f2642f   \n",
       "37915      314283  bcb617c3-9e43-d5b0-1d14-82b795f2642f   \n",
       "44319      348841  bcb617c3-9e43-d5b0-1d14-82b795f2642f   \n",
       "52034      392648  bcb617c3-9e43-d5b0-1d14-82b795f2642f   \n",
       "\n",
       "                            competitor_uuid company_name    competitor_name  \n",
       "1240   404e23d7-2f90-c2f9-fd53-e94be8d7e171       Airbnb           Flat4Day  \n",
       "5628   b0493814-cb35-76f0-afce-44a5a4fdf6e1       Airbnb           nestpick  \n",
       "9357   8e3002b3-5acd-6376-e44e-9457ea6b1c96       Airbnb  Wyndham Worldwide  \n",
       "14924  483b930f-674d-3900-16ff-c8fac9aae93f       Airbnb            Gogobot  \n",
       "17299  15803e37-a570-d41e-16fe-c189971a53d6       Airbnb  atraveo TUI Group  \n",
       "17639  c3c08a43-cf98-907a-7150-6e086c04ad16       Airbnb       SunnyRentals  \n",
       "17644  89ce0ba3-dd7d-b1b8-c976-4dedc7b44bd2       Airbnb        onefinestay  \n",
       "19600  10ec973f-f990-effb-1699-7828cdb5cf08       Airbnb         kozaza.com  \n",
       "22735  527c5f3b-01b7-b9d2-3359-8c6a89e55ba0       Airbnb             9flats  \n",
       "28022  96aab7f1-6a2a-c523-99a0-a0b7c1b14e45       Airbnb             Localo  \n",
       "28784  6932ed03-66cc-4cc0-f029-f7e9b891c9c0       Airbnb             Zukbox  \n",
       "29395  ff0b6674-2b30-2147-1f26-5712ddfccd45       Airbnb          Alterkeys  \n",
       "30309  c8b767a2-0294-fad1-89f3-e7dc97c5caa4       Airbnb       Couchsurfing  \n",
       "32325  6f7ea63a-f820-733a-702b-82e75d0ac15f       Airbnb              Wimdu  \n",
       "34295  e22d6714-580f-1397-dacd-32c476e5c180       Airbnb               upiq  \n",
       "34850  f448c18e-d21b-e4c9-e89c-32ed45a0baae       Airbnb          iStopOver  \n",
       "34857  d1438151-39e9-5bf1-d780-b41cafa3e56d       Airbnb          Roomorama  \n",
       "36507  f235f225-bea4-87d6-362f-fdbba9787b03       Airbnb               VRBO  \n",
       "36899  5d80b1f5-4596-e7d0-6230-264b03c25c2f       Airbnb           FlatClub  \n",
       "37915  47ab0bb3-afe3-3bd4-cf50-f834a5a15f06       Airbnb           HomeAway  \n",
       "44319  0aa6179c-a99b-93a2-272f-b8ef21a06d48       Airbnb          HouseTrip  \n",
       "52034  99673ec9-3f72-1c00-fb73-38ea816f427b       Airbnb            FlipKey  "
      ]
     },
     "execution_count": 22,
     "metadata": {},
     "output_type": "execute_result"
    }
   ],
   "source": [
    "comps[comps.entity_uuid == 'bcb617c3-9e43-d5b0-1d14-82b795f2642f']"
   ]
  },
  {
   "cell_type": "code",
   "execution_count": null,
   "metadata": {
    "collapsed": true
   },
   "outputs": [],
   "source": [
    "airbnb.argsort()[::-1][:n]"
   ]
  }
 ],
 "metadata": {
  "kernelspec": {
   "display_name": "Python 2",
   "language": "python",
   "name": "python2"
  },
  "language_info": {
   "codemirror_mode": {
    "name": "ipython",
    "version": 2
   },
   "file_extension": ".py",
   "mimetype": "text/x-python",
   "name": "python",
   "nbconvert_exporter": "python",
   "pygments_lexer": "ipython2",
   "version": "2.7.11"
  }
 },
 "nbformat": 4,
 "nbformat_minor": 0
}
