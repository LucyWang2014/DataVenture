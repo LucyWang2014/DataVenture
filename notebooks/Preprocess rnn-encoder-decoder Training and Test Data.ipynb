{
 "cells": [
  {
   "cell_type": "code",
   "execution_count": 1,
   "metadata": {
    "collapsed": false
   },
   "outputs": [
    {
     "name": "stderr",
     "output_type": "stream",
     "text": [
      "/Users/Lucy/anaconda/envs/capstone/lib/python2.7/site-packages/sklearn/cross_validation.py:44: DeprecationWarning: This module was deprecated in version 0.18 in favor of the model_selection module into which all the refactored classes and functions are moved. Also note that the interface of the new CV iterators are different from that of this module. This module will be removed in 0.20.\n",
      "  \"This module will be removed in 0.20.\", DeprecationWarning)\n"
     ]
    }
   ],
   "source": [
    "import pandas as pd\n",
    "import numpy as np\n",
    "import pandas as pd\n",
    "import numpy as np\n",
    "import matplotlib.pyplot as plt\n",
    "import seaborn as sn\n",
    "import pickle\n",
    "from sklearn.cross_validation import train_test_split\n",
    "import itertools\n",
    "import nltk\n",
    "from nltk.corpus import stopwords\n",
    "import unicodedata\n",
    "import sys\n",
    "%matplotlib inline "
   ]
  },
  {
   "cell_type": "code",
   "execution_count": 2,
   "metadata": {
    "collapsed": false
   },
   "outputs": [],
   "source": [
    "mypath = '/Users/Lucy/Google Drive/MSDS/2016Fall/DSGA1006/Data'\n",
    "f = open(mypath + '/rnn-encoder-decoder/lstm_data.pickle','rb')\n",
    "train, test = pickle.load(f)\n",
    "f.close()"
   ]
  },
  {
   "cell_type": "code",
   "execution_count": 3,
   "metadata": {
    "collapsed": false
   },
   "outputs": [
    {
     "data": {
      "text/html": [
       "<div>\n",
       "<table border=\"1\" class=\"dataframe\">\n",
       "  <thead>\n",
       "    <tr style=\"text-align: right;\">\n",
       "      <th></th>\n",
       "      <th>company_uuid</th>\n",
       "      <th>company_name</th>\n",
       "      <th>short_description</th>\n",
       "      <th>description</th>\n",
       "      <th>founded_on</th>\n",
       "      <th>clean_description</th>\n",
       "      <th>clean_short_description</th>\n",
       "    </tr>\n",
       "  </thead>\n",
       "  <tbody>\n",
       "    <tr>\n",
       "      <th>4635</th>\n",
       "      <td>a1f100c4-49ce-cb02-625d-f3ec55c91e8e</td>\n",
       "      <td>ProGlove</td>\n",
       "      <td>A smart glove that helps workers in logistics ...</td>\n",
       "      <td>ProGlove is a professional wearable tool for p...</td>\n",
       "      <td>2014-12-30</td>\n",
       "      <td>ProGlove is a professional wearable tool for p...</td>\n",
       "      <td>A smart glove that helps workers in logistics ...</td>\n",
       "    </tr>\n",
       "    <tr>\n",
       "      <th>118053</th>\n",
       "      <td>ce9524dc-fb48-9e64-5a63-09ac6d5aedb2</td>\n",
       "      <td>Passlogix</td>\n",
       "      <td>Passlogix provides fast and secure access to e...</td>\n",
       "      <td>Passlogix, Inc., specializes in providing fast...</td>\n",
       "      <td>1996-01-01</td>\n",
       "      <td>Passlogix, Inc., specializes in providing fast...</td>\n",
       "      <td>Passlogix provides fast and secure access to e...</td>\n",
       "    </tr>\n",
       "    <tr>\n",
       "      <th>13505</th>\n",
       "      <td>ed0dacca-57c4-c1cf-00e0-0a3804b88219</td>\n",
       "      <td>SunFarmer</td>\n",
       "      <td>We're on a mission to provide reliable solar e...</td>\n",
       "      <td>SunFarmer is a nonprofit that provides the cap...</td>\n",
       "      <td>2013-03-01</td>\n",
       "      <td>SunFarmer is a nonprofit that provides the cap...</td>\n",
       "      <td>We're on a mission to provide reliable solar e...</td>\n",
       "    </tr>\n",
       "    <tr>\n",
       "      <th>76275</th>\n",
       "      <td>61834199-5997-0ee6-1a04-a339ecd13d40</td>\n",
       "      <td>Haus Bioceuticals</td>\n",
       "      <td>Haus Bioceuticals is a specialty pharmaceutica...</td>\n",
       "      <td>Haus Bioceuticals is a specialty pharmaceutica...</td>\n",
       "      <td>2009-01-01</td>\n",
       "      <td>Haus Bioceuticals is a specialty pharmaceutica...</td>\n",
       "      <td>Haus Bioceuticals is a specialty pharmaceutica...</td>\n",
       "    </tr>\n",
       "    <tr>\n",
       "      <th>118811</th>\n",
       "      <td>c56a2d51-a1f8-d797-56b1-fc953b7b185b</td>\n",
       "      <td>Kivera</td>\n",
       "      <td>Kivera foresaw the emergence of the wireless l...</td>\n",
       "      <td>In 1997, the founders of Kivera foresaw the em...</td>\n",
       "      <td>1997-01-01</td>\n",
       "      <td>In 1997, the founders of Kivera foresaw the em...</td>\n",
       "      <td>Kivera foresaw the emergence of the wireless l...</td>\n",
       "    </tr>\n",
       "  </tbody>\n",
       "</table>\n",
       "</div>"
      ],
      "text/plain": [
       "                                company_uuid       company_name  \\\n",
       "4635    a1f100c4-49ce-cb02-625d-f3ec55c91e8e           ProGlove   \n",
       "118053  ce9524dc-fb48-9e64-5a63-09ac6d5aedb2          Passlogix   \n",
       "13505   ed0dacca-57c4-c1cf-00e0-0a3804b88219          SunFarmer   \n",
       "76275   61834199-5997-0ee6-1a04-a339ecd13d40  Haus Bioceuticals   \n",
       "118811  c56a2d51-a1f8-d797-56b1-fc953b7b185b             Kivera   \n",
       "\n",
       "                                        short_description  \\\n",
       "4635    A smart glove that helps workers in logistics ...   \n",
       "118053  Passlogix provides fast and secure access to e...   \n",
       "13505   We're on a mission to provide reliable solar e...   \n",
       "76275   Haus Bioceuticals is a specialty pharmaceutica...   \n",
       "118811  Kivera foresaw the emergence of the wireless l...   \n",
       "\n",
       "                                              description  founded_on  \\\n",
       "4635    ProGlove is a professional wearable tool for p...  2014-12-30   \n",
       "118053  Passlogix, Inc., specializes in providing fast...  1996-01-01   \n",
       "13505   SunFarmer is a nonprofit that provides the cap...  2013-03-01   \n",
       "76275   Haus Bioceuticals is a specialty pharmaceutica...  2009-01-01   \n",
       "118811  In 1997, the founders of Kivera foresaw the em...  1997-01-01   \n",
       "\n",
       "                                        clean_description  \\\n",
       "4635    ProGlove is a professional wearable tool for p...   \n",
       "118053  Passlogix, Inc., specializes in providing fast...   \n",
       "13505   SunFarmer is a nonprofit that provides the cap...   \n",
       "76275   Haus Bioceuticals is a specialty pharmaceutica...   \n",
       "118811  In 1997, the founders of Kivera foresaw the em...   \n",
       "\n",
       "                                  clean_short_description  \n",
       "4635    A smart glove that helps workers in logistics ...  \n",
       "118053  Passlogix provides fast and secure access to e...  \n",
       "13505   We're on a mission to provide reliable solar e...  \n",
       "76275   Haus Bioceuticals is a specialty pharmaceutica...  \n",
       "118811  Kivera foresaw the emergence of the wireless l...  "
      ]
     },
     "execution_count": 3,
     "metadata": {},
     "output_type": "execute_result"
    }
   ],
   "source": [
    "train.head()"
   ]
  },
  {
   "cell_type": "code",
   "execution_count": 13,
   "metadata": {
    "collapsed": true
   },
   "outputs": [],
   "source": [
    "train_desc = train.clean_short_description.copy()\n",
    "test_desc = test.clean_short_description.copy()\n",
    "train_y = train.clean_short_description.copy()\n",
    "test_y = test.clean_short_description.copy()"
   ]
  },
  {
   "cell_type": "code",
   "execution_count": 14,
   "metadata": {
    "collapsed": false
   },
   "outputs": [],
   "source": [
    "train_description = train_desc + train_y"
   ]
  },
  {
   "cell_type": "code",
   "execution_count": 15,
   "metadata": {
    "collapsed": false
   },
   "outputs": [
    {
     "data": {
      "text/plain": [
       "4635      A smart glove that helps workers in logistics ...\n",
       "118053    Passlogix provides fast and secure access to e...\n",
       "13505     We're on a mission to provide reliable solar e...\n",
       "76275     Haus Bioceuticals is a specialty pharmaceutica...\n",
       "118811    Kivera foresaw the emergence of the wireless l...\n",
       "Name: clean_short_description, dtype: object"
      ]
     },
     "execution_count": 15,
     "metadata": {},
     "output_type": "execute_result"
    }
   ],
   "source": [
    "train_y.head()"
   ]
  },
  {
   "cell_type": "code",
   "execution_count": 16,
   "metadata": {
    "collapsed": true
   },
   "outputs": [],
   "source": [
    "vocabulary_size = 5000\n",
    "unknown_token = \"UNKNOWNTOKEN\"\n",
    "sentence_start_token = \"SENTENCESTART\"\n",
    "sentence_end_token = \"SENTENCEEND\""
   ]
  },
  {
   "cell_type": "code",
   "execution_count": 17,
   "metadata": {
    "collapsed": false,
    "scrolled": true
   },
   "outputs": [],
   "source": [
    "# Split full descriptions into sentences\n",
    "sentences = itertools.chain(*[[nltk.sent_tokenize(x.decode('utf-8').lower())] for x in train_description])\n",
    "mod_sentences = []\n",
    "for desc in sentences:\n",
    "    full_desc = \"\"\n",
    "    for x in desc:\n",
    "        s = \"%s %s %s \" % (sentence_start_token, x, sentence_end_token)\n",
    "        full_desc = full_desc + s\n",
    "    mod_sentences.append(full_desc)"
   ]
  },
  {
   "cell_type": "code",
   "execution_count": 18,
   "metadata": {
    "collapsed": false
   },
   "outputs": [
    {
     "data": {
      "text/plain": [
       "[u'SENTENCESTART a smart glove that helps workers in logistics and manufacturing work more efficiently.a smart glove that helps workers in logistics and manufacturing work more efficiently. SENTENCEEND ',\n",
       " u'SENTENCESTART passlogix provides fast and secure access to enterprise resources with their flagship product; the v-go access accelerator suite.passlogix provides fast and secure access to enterprise resources with their flagship product; the v-go access accelerator suite. SENTENCEEND ']"
      ]
     },
     "execution_count": 18,
     "metadata": {},
     "output_type": "execute_result"
    }
   ],
   "source": [
    "mod_sentences[:2]"
   ]
  },
  {
   "cell_type": "code",
   "execution_count": 19,
   "metadata": {
    "collapsed": true
   },
   "outputs": [],
   "source": [
    "def strip_punctuation(text):\n",
    "    \"\"\"\n",
    "    >>> strip_punctuation(u'something')\n",
    "    u'something'\n",
    "\n",
    "    >>> strip_punctuation(u'something.,:else really')\n",
    "    u'somethingelse really'\n",
    "    \"\"\"\n",
    "    punctutation_cats = set(['Pc', 'Pd', 'Ps', 'Pe', 'Pi', 'Pf', 'Po'])\n",
    "    return ''.join(x for x in text\n",
    "                   if unicodedata.category(x) not in punctutation_cats)"
   ]
  },
  {
   "cell_type": "code",
   "execution_count": 20,
   "metadata": {
    "collapsed": false
   },
   "outputs": [],
   "source": [
    "mod_sentences = map(strip_punctuation, mod_sentences)"
   ]
  },
  {
   "cell_type": "code",
   "execution_count": 21,
   "metadata": {
    "collapsed": false
   },
   "outputs": [
    {
     "name": "stdout",
     "output_type": "stream",
     "text": [
      "SENTENCESTART a smart glove that helps workers in logistics and manufacturing work more efficientlya smart glove that helps workers in logistics and manufacturing work more efficiently SENTENCEEND \n",
      "\n",
      "SENTENCESTART passlogix provides fast and secure access to enterprise resources with their flagship product the vgo access accelerator suitepasslogix provides fast and secure access to enterprise resources with their flagship product the vgo access accelerator suite SENTENCEEND \n",
      "\n",
      "SENTENCESTART were on a mission to provide reliable solar energy for schools hospitals and water projects around the worldwere on a mission to provide reliable solar energy for schools hospitals and water projects around the world SENTENCEEND \n",
      "\n",
      "SENTENCESTART haus bioceuticals is a specialty pharmaceutical company developing clinically active botanical extractshaus bioceuticals is a specialty pharmaceutical company developing clinically active botanical extracts SENTENCEEND \n",
      "\n",
      "SENTENCESTART kivera foresaw the emergence of the wireless location services marketkivera foresaw the emergence of the wireless location services market SENTENCEEND \n",
      "\n"
     ]
    }
   ],
   "source": [
    "for i in mod_sentences[:5]:\n",
    "    print i + '\\n'"
   ]
  },
  {
   "cell_type": "code",
   "execution_count": 22,
   "metadata": {
    "collapsed": false
   },
   "outputs": [],
   "source": [
    "tokenized_sentences = [nltk.word_tokenize(sent) for sent in mod_sentences]"
   ]
  },
  {
   "cell_type": "code",
   "execution_count": 23,
   "metadata": {
    "collapsed": false
   },
   "outputs": [
    {
     "name": "stdout",
     "output_type": "stream",
     "text": [
      "SENTENCESTART\n",
      "haus\n",
      "bioceuticals\n",
      "is\n",
      "a\n",
      "specialty\n",
      "pharmaceutical\n",
      "company\n",
      "developing\n",
      "clinically\n",
      "active\n",
      "botanical\n",
      "extractshaus\n",
      "bioceuticals\n",
      "is\n",
      "a\n",
      "specialty\n",
      "pharmaceutical\n",
      "company\n",
      "developing\n",
      "clinically\n",
      "active\n",
      "botanical\n",
      "extracts\n",
      "SENTENCEEND\n"
     ]
    }
   ],
   "source": [
    "for i in tokenized_sentences[3]:\n",
    "    print i"
   ]
  },
  {
   "cell_type": "code",
   "execution_count": 25,
   "metadata": {
    "collapsed": false
   },
   "outputs": [
    {
     "data": {
      "text/plain": [
       "\"Lydia's iPhone and Android apps enable you to pay anyone very easily and for free.\""
      ]
     },
     "execution_count": 25,
     "metadata": {},
     "output_type": "execute_result"
    }
   ],
   "source": [
    "train_y[3]"
   ]
  },
  {
   "cell_type": "code",
   "execution_count": 26,
   "metadata": {
    "collapsed": false,
    "scrolled": true
   },
   "outputs": [
    {
     "name": "stdout",
     "output_type": "stream",
     "text": [
      "Found 109713 unique words tokens.\n"
     ]
    }
   ],
   "source": [
    "# Count the word frequencies\n",
    "word_freq = nltk.FreqDist(itertools.chain(*tokenized_sentences))\n",
    "print \"Found %d unique words tokens.\" % len(word_freq.items())"
   ]
  },
  {
   "cell_type": "code",
   "execution_count": 27,
   "metadata": {
    "collapsed": false
   },
   "outputs": [],
   "source": [
    "#word_freq = sorted(word_freq.items(), key=lambda i: i[1], reverse=True)"
   ]
  },
  {
   "cell_type": "code",
   "execution_count": 28,
   "metadata": {
    "collapsed": false
   },
   "outputs": [
    {
     "name": "stdout",
     "output_type": "stream",
     "text": [
      "Using vocabulary size 5000.\n",
      "The least frequent word in our vocabulary is 'hold' and appeared 16 times.\n"
     ]
    }
   ],
   "source": [
    "# Get the most common words and build index_to_word and word_to_index vectors\n",
    "vocab = word_freq.most_common(vocabulary_size-1)\n",
    "index_to_word = [x[0] for x in vocab]\n",
    "index_to_word.append(unknown_token)\n",
    "word_to_index = dict([(w,i) for i,w in enumerate(index_to_word)])\n",
    "\n",
    "print \"Using vocabulary size %d.\" % vocabulary_size\n",
    "print \"The least frequent word in our vocabulary is '%s' and appeared %d times.\" % (vocab[-1][0], vocab[-1][1])\n",
    "\n",
    "# Replace all words not in our vocabulary with the unknown token\n",
    "for i, sent in enumerate(tokenized_sentences):\n",
    "    tokenized_sentences[i] = [w if w in word_to_index else unknown_token for w in sent]\n",
    "    \n"
   ]
  },
  {
   "cell_type": "code",
   "execution_count": 29,
   "metadata": {
    "collapsed": false
   },
   "outputs": [
    {
     "data": {
      "text/plain": [
       "{u'SENTENCEEND': 1, u'and': 0}"
      ]
     },
     "execution_count": 29,
     "metadata": {},
     "output_type": "execute_result"
    }
   ],
   "source": [
    "{word_to_index.keys()[word_to_index.values().index(k)]: k for k in sorted(word_to_index.values())[:2]}"
   ]
  },
  {
   "cell_type": "code",
   "execution_count": 32,
   "metadata": {
    "collapsed": false
   },
   "outputs": [
    {
     "data": {
      "text/plain": [
       "(50691,)"
      ]
     },
     "execution_count": 32,
     "metadata": {},
     "output_type": "execute_result"
    }
   ],
   "source": [
    "np.array(tokenized_sentences).shape"
   ]
  },
  {
   "cell_type": "code",
   "execution_count": null,
   "metadata": {
    "collapsed": true
   },
   "outputs": [],
   "source": []
  }
 ],
 "metadata": {
  "kernelspec": {
   "display_name": "Python 2",
   "language": "python",
   "name": "python2"
  },
  "language_info": {
   "codemirror_mode": {
    "name": "ipython",
    "version": 2
   },
   "file_extension": ".py",
   "mimetype": "text/x-python",
   "name": "python",
   "nbconvert_exporter": "python",
   "pygments_lexer": "ipython2",
   "version": "2.7.12"
  }
 },
 "nbformat": 4,
 "nbformat_minor": 0
}
