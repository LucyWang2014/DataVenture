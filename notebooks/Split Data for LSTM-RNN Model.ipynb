{
 "cells": [
  {
   "cell_type": "code",
   "execution_count": 1,
   "metadata": {
    "collapsed": false
   },
   "outputs": [
    {
     "name": "stderr",
     "output_type": "stream",
     "text": [
      "/Users/Lucy/anaconda/envs/capstone/lib/python2.7/site-packages/sklearn/cross_validation.py:44: DeprecationWarning: This module was deprecated in version 0.18 in favor of the model_selection module into which all the refactored classes and functions are moved. Also note that the interface of the new CV iterators are different from that of this module. This module will be removed in 0.20.\n",
      "  \"This module will be removed in 0.20.\", DeprecationWarning)\n"
     ]
    }
   ],
   "source": [
    "import pandas as pd\n",
    "import numpy as np\n",
    "import pandas as pd\n",
    "import numpy as np\n",
    "import matplotlib.pyplot as plt\n",
    "import seaborn as sn\n",
    "import pickle\n",
    "from sklearn.cross_validation import train_test_split\n",
    "import string\n",
    "%matplotlib inline "
   ]
  },
  {
   "cell_type": "code",
   "execution_count": 2,
   "metadata": {
    "collapsed": false
   },
   "outputs": [
    {
     "name": "stderr",
     "output_type": "stream",
     "text": [
      "/Users/Lucy/anaconda/envs/capstone/lib/python2.7/site-packages/IPython/core/interactiveshell.py:2717: DtypeWarning: Columns (17,18) have mixed types. Specify dtype option on import or set low_memory=False.\n",
      "  interactivity=interactivity, compiler=compiler, result=result)\n"
     ]
    }
   ],
   "source": [
    "mypath = '/Users/Lucy/Google Drive/MSDS/2016Fall/DSGA1006/Data'\n",
    "orgs = pd.read_csv(mypath + '/csv_export/organizations.csv')\n",
    "df = pd.read_csv(mypath + '/unsupervised/clustering_data.csv',index_col = 0,encoding = 'utf8')\n",
    "cats = pd.read_csv(mypath + '/csv_export/category_groups.csv')"
   ]
  },
  {
   "cell_type": "code",
   "execution_count": 3,
   "metadata": {
    "collapsed": false
   },
   "outputs": [
    {
     "data": {
      "text/html": [
       "<div>\n",
       "<table border=\"1\" class=\"dataframe\">\n",
       "  <thead>\n",
       "    <tr style=\"text-align: right;\">\n",
       "      <th></th>\n",
       "      <th>company_uuid</th>\n",
       "      <th>company_name</th>\n",
       "      <th>company_category_list</th>\n",
       "      <th>category_group_list</th>\n",
       "      <th>short_description</th>\n",
       "      <th>description</th>\n",
       "      <th>founded_on</th>\n",
       "    </tr>\n",
       "  </thead>\n",
       "  <tbody>\n",
       "    <tr>\n",
       "      <th>0</th>\n",
       "      <td>2593028d-6633-21c4-6eb0-fa483675754c</td>\n",
       "      <td>Apsiyon</td>\n",
       "      <td>SaaS|Software</td>\n",
       "      <td>software</td>\n",
       "      <td>Online residence property management</td>\n",
       "      <td>Apsiyon is an internet startup offering softwa...</td>\n",
       "      <td>2011-06-01</td>\n",
       "    </tr>\n",
       "    <tr>\n",
       "      <th>1</th>\n",
       "      <td>fe57be45-36ee-ed64-289a-a06ac3f10142</td>\n",
       "      <td>Fastudent</td>\n",
       "      <td>Education</td>\n",
       "      <td>education</td>\n",
       "      <td>Fastudent is the largest education portal in I...</td>\n",
       "      <td>Our mission is to provide efficient and effect...</td>\n",
       "      <td>2013-01-01</td>\n",
       "    </tr>\n",
       "    <tr>\n",
       "      <th>2</th>\n",
       "      <td>6948c23e-1c82-6813-997f-d68dadd1aba4</td>\n",
       "      <td>Kalaage Creations Pvt Ltd</td>\n",
       "      <td>Social Network</td>\n",
       "      <td>NaN</td>\n",
       "      <td>A social network for writers and publications ...</td>\n",
       "      <td>A social network for writers and publications ...</td>\n",
       "      <td>2015-03-14</td>\n",
       "    </tr>\n",
       "    <tr>\n",
       "      <th>3</th>\n",
       "      <td>a2cbba96-bddd-09a2-76a8-9926b847faea</td>\n",
       "      <td>Lydia</td>\n",
       "      <td>Apps|FinTech|Mobile Payments|Software</td>\n",
       "      <td>apps|financial services|mobile|payments|software</td>\n",
       "      <td>Lydia's iPhone and Android apps enable you to ...</td>\n",
       "      <td>Lydia's iPhone and Android apps enable you to ...</td>\n",
       "      <td>2013-06-01</td>\n",
       "    </tr>\n",
       "    <tr>\n",
       "      <th>4</th>\n",
       "      <td>231686ac-6311-465d-d96c-267505d7824a</td>\n",
       "      <td>Owtware</td>\n",
       "      <td>Cyber Security|Enterprise Software|Virtualization</td>\n",
       "      <td>hardware|information technology|privacy and se...</td>\n",
       "      <td>Web-scale enterprise private cloud platform</td>\n",
       "      <td>Web-scale enterprise private cloud platform.</td>\n",
       "      <td>2011-12-11</td>\n",
       "    </tr>\n",
       "  </tbody>\n",
       "</table>\n",
       "</div>"
      ],
      "text/plain": [
       "                           company_uuid               company_name  \\\n",
       "0  2593028d-6633-21c4-6eb0-fa483675754c                    Apsiyon   \n",
       "1  fe57be45-36ee-ed64-289a-a06ac3f10142                  Fastudent   \n",
       "2  6948c23e-1c82-6813-997f-d68dadd1aba4  Kalaage Creations Pvt Ltd   \n",
       "3  a2cbba96-bddd-09a2-76a8-9926b847faea                      Lydia   \n",
       "4  231686ac-6311-465d-d96c-267505d7824a                    Owtware   \n",
       "\n",
       "                               company_category_list  \\\n",
       "0                                      SaaS|Software   \n",
       "1                                          Education   \n",
       "2                                     Social Network   \n",
       "3              Apps|FinTech|Mobile Payments|Software   \n",
       "4  Cyber Security|Enterprise Software|Virtualization   \n",
       "\n",
       "                                 category_group_list  \\\n",
       "0                                           software   \n",
       "1                                          education   \n",
       "2                                                NaN   \n",
       "3   apps|financial services|mobile|payments|software   \n",
       "4  hardware|information technology|privacy and se...   \n",
       "\n",
       "                                   short_description  \\\n",
       "0               Online residence property management   \n",
       "1  Fastudent is the largest education portal in I...   \n",
       "2  A social network for writers and publications ...   \n",
       "3  Lydia's iPhone and Android apps enable you to ...   \n",
       "4        Web-scale enterprise private cloud platform   \n",
       "\n",
       "                                         description  founded_on  \n",
       "0  Apsiyon is an internet startup offering softwa...  2011-06-01  \n",
       "1  Our mission is to provide efficient and effect...  2013-01-01  \n",
       "2  A social network for writers and publications ...  2015-03-14  \n",
       "3  Lydia's iPhone and Android apps enable you to ...  2013-06-01  \n",
       "4       Web-scale enterprise private cloud platform.  2011-12-11  "
      ]
     },
     "execution_count": 3,
     "metadata": {},
     "output_type": "execute_result"
    }
   ],
   "source": [
    "df.head()"
   ]
  },
  {
   "cell_type": "code",
   "execution_count": 4,
   "metadata": {
    "collapsed": false
   },
   "outputs": [
    {
     "data": {
      "text/html": [
       "<div>\n",
       "<table border=\"1\" class=\"dataframe\">\n",
       "  <thead>\n",
       "    <tr style=\"text-align: right;\">\n",
       "      <th></th>\n",
       "      <th>uuid</th>\n",
       "      <th>category_name</th>\n",
       "      <th>category_group_list</th>\n",
       "    </tr>\n",
       "  </thead>\n",
       "  <tbody>\n",
       "    <tr>\n",
       "      <th>24</th>\n",
       "      <td>99c5404c-0ff5-8ee5-d334-4b944ddb8cd9</td>\n",
       "      <td>analytics</td>\n",
       "      <td>data and analytics</td>\n",
       "    </tr>\n",
       "  </tbody>\n",
       "</table>\n",
       "</div>"
      ],
      "text/plain": [
       "                                    uuid category_name category_group_list\n",
       "24  99c5404c-0ff5-8ee5-d334-4b944ddb8cd9     analytics  data and analytics"
      ]
     },
     "execution_count": 4,
     "metadata": {},
     "output_type": "execute_result"
    }
   ],
   "source": [
    "cats[cats.category_name == 'analytics']"
   ]
  },
  {
   "cell_type": "code",
   "execution_count": 5,
   "metadata": {
    "collapsed": false
   },
   "outputs": [],
   "source": [
    "# remove companies without categories\n",
    "\n",
    "company_cat_df = df[df.company_category_list.notnull()].copy()\n",
    "cat_group_df = df[df.category_group_list.notnull()].copy()"
   ]
  },
  {
   "cell_type": "code",
   "execution_count": 6,
   "metadata": {
    "collapsed": false
   },
   "outputs": [
    {
     "data": {
      "text/plain": [
       "[4, 12, 28]"
      ]
     },
     "execution_count": 6,
     "metadata": {},
     "output_type": "execute_result"
    }
   ],
   "source": [
    "[pos for pos, char in enumerate(company_cat_df.company_category_list[3]) if char == '|']"
   ]
  },
  {
   "cell_type": "code",
   "execution_count": 7,
   "metadata": {
    "collapsed": false
   },
   "outputs": [],
   "source": [
    "company_cat_df['cat_count'] = company_cat_df.company_category_list.apply(lambda x: \n",
    "                                                            len([pos for pos, char in enumerate(x) if char == '|']))\n",
    "company_cat_df['trunc_company_category_list'] = company_cat_df.company_category_list\n",
    "company_cat_df['cat_list'] = company_cat_df.trunc_company_category_list.apply(lambda x: x.split('|'))\n",
    "company_cat_df['trunc_company_category_list'] = company_cat_df.cat_list.apply(lambda x:\n",
    "                                                                             x[0] + '|' + x[1]\n",
    "                                                                             if len(x) > 1\n",
    "                                                                             else x[0])\n",
    "company_cat_df['trunc_company_category_list_2'] = company_cat_df.cat_list.apply(lambda x: x[0])"
   ]
  },
  {
   "cell_type": "code",
   "execution_count": 8,
   "metadata": {
    "collapsed": false
   },
   "outputs": [
    {
     "data": {
      "text/plain": [
       "601"
      ]
     },
     "execution_count": 8,
     "metadata": {},
     "output_type": "execute_result"
    }
   ],
   "source": [
    "company_cat_df.trunc_company_category_list_2.nunique()"
   ]
  },
  {
   "cell_type": "code",
   "execution_count": 9,
   "metadata": {
    "collapsed": false
   },
   "outputs": [
    {
     "data": {
      "text/plain": [
       "11207"
      ]
     },
     "execution_count": 9,
     "metadata": {},
     "output_type": "execute_result"
    }
   ],
   "source": [
    "company_cat_df.trunc_company_category_list.nunique()"
   ]
  },
  {
   "cell_type": "code",
   "execution_count": 10,
   "metadata": {
    "collapsed": false
   },
   "outputs": [
    {
     "data": {
      "text/plain": [
       "29419"
      ]
     },
     "execution_count": 10,
     "metadata": {},
     "output_type": "execute_result"
    }
   ],
   "source": [
    "company_cat_df.company_category_list.nunique()"
   ]
  },
  {
   "cell_type": "code",
   "execution_count": 11,
   "metadata": {
    "collapsed": false
   },
   "outputs": [
    {
     "data": {
      "text/plain": [
       "trunc_company_category_list\n",
       "3D Printing|Advertising                1\n",
       "3D Printing|Analytics                  1\n",
       "3D Printing|Apps                       1\n",
       "3D Printing|Artificial Intelligence    1\n",
       "3D Printing|Augmented Reality          1\n",
       "3D Printing|Automotive                 1\n",
       "3D Printing|Beauty                     1\n",
       "3D Printing|Big Data                   1\n",
       "3D Printing|Building Material          1\n",
       "3D Printing|CRM                        1\n",
       "Name: company_uuid, dtype: int64"
      ]
     },
     "execution_count": 11,
     "metadata": {},
     "output_type": "execute_result"
    }
   ],
   "source": [
    "company_cat_df.groupby('trunc_company_category_list')['company_uuid'].count().nsmallest(10)"
   ]
  },
  {
   "cell_type": "code",
   "execution_count": 12,
   "metadata": {
    "collapsed": true
   },
   "outputs": [],
   "source": [
    "categories = pd.DataFrame(company_cat_df.groupby('trunc_company_category_list')['company_uuid'].count()).reset_index()"
   ]
  },
  {
   "cell_type": "code",
   "execution_count": 13,
   "metadata": {
    "collapsed": false
   },
   "outputs": [],
   "source": [
    "categories['new_category'] = categories.trunc_company_category_list.apply(lambda x: x.split('|')[0])"
   ]
  },
  {
   "cell_type": "code",
   "execution_count": 14,
   "metadata": {
    "collapsed": false
   },
   "outputs": [],
   "source": [
    "cat_group_df['cat_count'] = cat_group_df.category_group_list.apply(lambda x: \n",
    "                                                            len([pos for pos, char in enumerate(x) if char == '|']))\n",
    "cat_group_df['trunc_category_group_list'] = cat_group_df.category_group_list.apply(lambda x: x.split('|'))\n",
    "cat_group_df['trunc_category_group_list'] = cat_group_df.trunc_category_group_list.apply(lambda x:\n",
    "                                                                             x[0] + '|' + x[1]\n",
    "                                                                             if len(x) > 1\n",
    "                                                                             else x[0])\n",
    "cat_group_df['trunc_category_group_list_2'] = cat_group_df.trunc_category_group_list.apply(lambda x:\n",
    "                                                                             x[0])"
   ]
  },
  {
   "cell_type": "code",
   "execution_count": 15,
   "metadata": {
    "collapsed": false
   },
   "outputs": [
    {
     "data": {
      "text/plain": [
       "15"
      ]
     },
     "execution_count": 15,
     "metadata": {},
     "output_type": "execute_result"
    }
   ],
   "source": [
    "cat_group_df['trunc_category_group_list_2'].nunique()"
   ]
  },
  {
   "cell_type": "code",
   "execution_count": 16,
   "metadata": {
    "collapsed": false
   },
   "outputs": [
    {
     "data": {
      "text/plain": [
       "655"
      ]
     },
     "execution_count": 16,
     "metadata": {},
     "output_type": "execute_result"
    }
   ],
   "source": [
    "cat_group_df.trunc_category_group_list.nunique()"
   ]
  },
  {
   "cell_type": "markdown",
   "metadata": {},
   "source": [
    "## use just the first company category for labels"
   ]
  },
  {
   "cell_type": "code",
   "execution_count": 17,
   "metadata": {
    "collapsed": true
   },
   "outputs": [],
   "source": [
    "labels = pd.DataFrame(company_cat_df.trunc_company_category_list_2.unique()).reset_index()\n",
    "labels.columns = ['num_label','label']"
   ]
  },
  {
   "cell_type": "code",
   "execution_count": 18,
   "metadata": {
    "collapsed": false
   },
   "outputs": [],
   "source": [
    "company_cat_df = company_cat_df.merge(labels[['num_label', 'label']], left_on=['trunc_company_category_list_2'],\n",
    "                                     right_on = 'label')"
   ]
  },
  {
   "cell_type": "code",
   "execution_count": 19,
   "metadata": {
    "collapsed": false
   },
   "outputs": [],
   "source": [
    "lstm_data = company_cat_df[['company_uuid','company_name','short_description','description','label']].copy()"
   ]
  },
  {
   "cell_type": "code",
   "execution_count": 20,
   "metadata": {
    "collapsed": false
   },
   "outputs": [
    {
     "data": {
      "text/html": [
       "<div>\n",
       "<table border=\"1\" class=\"dataframe\">\n",
       "  <thead>\n",
       "    <tr style=\"text-align: right;\">\n",
       "      <th></th>\n",
       "      <th>company_uuid</th>\n",
       "      <th>company_name</th>\n",
       "      <th>short_description</th>\n",
       "      <th>description</th>\n",
       "      <th>label</th>\n",
       "    </tr>\n",
       "  </thead>\n",
       "  <tbody>\n",
       "    <tr>\n",
       "      <th>0</th>\n",
       "      <td>2593028d-6633-21c4-6eb0-fa483675754c</td>\n",
       "      <td>Apsiyon</td>\n",
       "      <td>Online residence property management</td>\n",
       "      <td>Apsiyon is an internet startup offering softwa...</td>\n",
       "      <td>SaaS</td>\n",
       "    </tr>\n",
       "    <tr>\n",
       "      <th>1</th>\n",
       "      <td>a0becd7e-beca-665c-aed3-e7ec0c46c690</td>\n",
       "      <td>Whispir</td>\n",
       "      <td>Whispir is a cloud platform that automates com...</td>\n",
       "      <td>Create a unique customer offer, coordinate an ...</td>\n",
       "      <td>SaaS</td>\n",
       "    </tr>\n",
       "    <tr>\n",
       "      <th>2</th>\n",
       "      <td>9c28a711-55dd-e337-5873-c19911c791d3</td>\n",
       "      <td>Progressly</td>\n",
       "      <td>The new standard for how teams find and execut...</td>\n",
       "      <td>Progressly is the new standard for how teams f...</td>\n",
       "      <td>SaaS</td>\n",
       "    </tr>\n",
       "    <tr>\n",
       "      <th>3</th>\n",
       "      <td>46fc80b4-e978-c482-4f62-76d5eedc1adc</td>\n",
       "      <td>Scoro</td>\n",
       "      <td>The most comprehensive work management solutio...</td>\n",
       "      <td>Scoro is an end-to-end work management solutio...</td>\n",
       "      <td>SaaS</td>\n",
       "    </tr>\n",
       "    <tr>\n",
       "      <th>4</th>\n",
       "      <td>7aae5332-ae2f-5d1d-e71d-0f30214927e3</td>\n",
       "      <td>Digio</td>\n",
       "      <td>Paperless, presence-less Hassle-free documenta...</td>\n",
       "      <td>Digio is a startup focused on bringing Paperle...</td>\n",
       "      <td>SaaS</td>\n",
       "    </tr>\n",
       "  </tbody>\n",
       "</table>\n",
       "</div>"
      ],
      "text/plain": [
       "                           company_uuid company_name  \\\n",
       "0  2593028d-6633-21c4-6eb0-fa483675754c      Apsiyon   \n",
       "1  a0becd7e-beca-665c-aed3-e7ec0c46c690      Whispir   \n",
       "2  9c28a711-55dd-e337-5873-c19911c791d3   Progressly   \n",
       "3  46fc80b4-e978-c482-4f62-76d5eedc1adc        Scoro   \n",
       "4  7aae5332-ae2f-5d1d-e71d-0f30214927e3        Digio   \n",
       "\n",
       "                                   short_description  \\\n",
       "0               Online residence property management   \n",
       "1  Whispir is a cloud platform that automates com...   \n",
       "2  The new standard for how teams find and execut...   \n",
       "3  The most comprehensive work management solutio...   \n",
       "4  Paperless, presence-less Hassle-free documenta...   \n",
       "\n",
       "                                         description label  \n",
       "0  Apsiyon is an internet startup offering softwa...  SaaS  \n",
       "1  Create a unique customer offer, coordinate an ...  SaaS  \n",
       "2  Progressly is the new standard for how teams f...  SaaS  \n",
       "3  Scoro is an end-to-end work management solutio...  SaaS  \n",
       "4  Digio is a startup focused on bringing Paperle...  SaaS  "
      ]
     },
     "execution_count": 20,
     "metadata": {},
     "output_type": "execute_result"
    }
   ],
   "source": [
    "lstm_data.head()"
   ]
  },
  {
   "cell_type": "code",
   "execution_count": 21,
   "metadata": {
    "collapsed": false
   },
   "outputs": [
    {
     "data": {
      "text/plain": [
       "<matplotlib.axes._subplots.AxesSubplot at 0x11c3349d0>"
      ]
     },
     "execution_count": 21,
     "metadata": {},
     "output_type": "execute_result"
    },
    {
     "data": {
      "image/png": "[encoded data removed]",
      "text/plain": [
       "<matplotlib.figure.Figure at 0x119162250>"
      ]
     },
     "metadata": {},
     "output_type": "display_data"
    }
   ],
   "source": [
    "lstm_data['label'].value_counts()[:100].plot(kind='bar',figsize = [20,8])"
   ]
  },
  {
   "cell_type": "code",
   "execution_count": 22,
   "metadata": {
    "collapsed": false
   },
   "outputs": [],
   "source": [
    "#remove labels with only 1 data point\n",
    "rem_list = pd.DataFrame(lstm_data.groupby('label')['company_uuid'].count()).reset_index()"
   ]
  },
  {
   "cell_type": "code",
   "execution_count": 23,
   "metadata": {
    "collapsed": false
   },
   "outputs": [],
   "source": [
    "rem_list = list(rem_list.loc[rem_list.company_uuid < 1000,'label'])"
   ]
  },
  {
   "cell_type": "code",
   "execution_count": 24,
   "metadata": {
    "collapsed": false
   },
   "outputs": [
    {
     "data": {
      "text/plain": [
       "590"
      ]
     },
     "execution_count": 24,
     "metadata": {},
     "output_type": "execute_result"
    }
   ],
   "source": [
    "len(rem_list)"
   ]
  },
  {
   "cell_type": "code",
   "execution_count": 25,
   "metadata": {
    "collapsed": false
   },
   "outputs": [
    {
     "data": {
      "text/plain": [
       "(24975, 5)"
      ]
     },
     "execution_count": 25,
     "metadata": {},
     "output_type": "execute_result"
    }
   ],
   "source": [
    "lstm_data[~lstm_data.label.isin(rem_list)].shape"
   ]
  },
  {
   "cell_type": "code",
   "execution_count": 26,
   "metadata": {
    "collapsed": false
   },
   "outputs": [],
   "source": [
    "lstm_data = lstm_data[~lstm_data.label.isin(rem_list)]"
   ]
  },
  {
   "cell_type": "markdown",
   "metadata": {},
   "source": [
    "## Clean Description Data"
   ]
  },
  {
   "cell_type": "code",
   "execution_count": 27,
   "metadata": {
    "collapsed": false
   },
   "outputs": [],
   "source": [
    "lstm_data['clean_description'] = lstm_data.description.apply(lambda x:  ' '.join(x.split()))"
   ]
  },
  {
   "cell_type": "code",
   "execution_count": 28,
   "metadata": {
    "collapsed": false
   },
   "outputs": [],
   "source": [
    "lstm_data['clean_description'] = lstm_data.clean_description.apply(lambda x:\n",
    "                                                                   x.encode('ascii','ignore'))"
   ]
  },
  {
   "cell_type": "markdown",
   "metadata": {},
   "source": [
    "## Split into Train and Test - Stratified sampling"
   ]
  },
  {
   "cell_type": "code",
   "execution_count": 29,
   "metadata": {
    "collapsed": false
   },
   "outputs": [
    {
     "data": {
      "text/html": [
       "<div>\n",
       "<table border=\"1\" class=\"dataframe\">\n",
       "  <thead>\n",
       "    <tr style=\"text-align: right;\">\n",
       "      <th></th>\n",
       "      <th>company_uuid</th>\n",
       "      <th>company_name</th>\n",
       "      <th>short_description</th>\n",
       "      <th>description</th>\n",
       "      <th>label</th>\n",
       "      <th>clean_description</th>\n",
       "    </tr>\n",
       "  </thead>\n",
       "  <tbody>\n",
       "    <tr>\n",
       "      <th>179</th>\n",
       "      <td>fe57be45-36ee-ed64-289a-a06ac3f10142</td>\n",
       "      <td>Fastudent</td>\n",
       "      <td>Fastudent is the largest education portal in I...</td>\n",
       "      <td>Our mission is to provide efficient and effect...</td>\n",
       "      <td>Education</td>\n",
       "      <td>Our mission is to provide efficient and effect...</td>\n",
       "    </tr>\n",
       "    <tr>\n",
       "      <th>180</th>\n",
       "      <td>c60619c7-d558-fa8b-1484-d7fa26f85238</td>\n",
       "      <td>Yellowdig</td>\n",
       "      <td>Social collaboration tool that brings real-tim...</td>\n",
       "      <td>Social Collaboration Tool that brings knowledg...</td>\n",
       "      <td>Education</td>\n",
       "      <td>Social Collaboration Tool that brings knowledg...</td>\n",
       "    </tr>\n",
       "    <tr>\n",
       "      <th>181</th>\n",
       "      <td>711e148e-f841-945f-15f5-c8709960be5f</td>\n",
       "      <td>Kidblog</td>\n",
       "      <td>Kidblog provides teachers with blogging tools ...</td>\n",
       "      <td>Kidblog is built by teachers, for teachers, so...</td>\n",
       "      <td>Education</td>\n",
       "      <td>Kidblog is built by teachers, for teachers, so...</td>\n",
       "    </tr>\n",
       "    <tr>\n",
       "      <th>182</th>\n",
       "      <td>8e1a08a1-5bb3-fb54-cce7-01ed70a1d160</td>\n",
       "      <td>Chalk.com</td>\n",
       "      <td>Microsoft Office for K-12 Teachers</td>\n",
       "      <td>Chalk.com helps teachers and administrators ma...</td>\n",
       "      <td>Education</td>\n",
       "      <td>Chalk.com helps teachers and administrators ma...</td>\n",
       "    </tr>\n",
       "    <tr>\n",
       "      <th>183</th>\n",
       "      <td>f46c9511-93b0-a65c-abba-b4b23c4b8ed1</td>\n",
       "      <td>Everest Education</td>\n",
       "      <td>Everest Education is a education platform</td>\n",
       "      <td>Everest Education (E2) is a social enterprise ...</td>\n",
       "      <td>Education</td>\n",
       "      <td>Everest Education (E2) is a social enterprise ...</td>\n",
       "    </tr>\n",
       "  </tbody>\n",
       "</table>\n",
       "</div>"
      ],
      "text/plain": [
       "                             company_uuid       company_name  \\\n",
       "179  fe57be45-36ee-ed64-289a-a06ac3f10142          Fastudent   \n",
       "180  c60619c7-d558-fa8b-1484-d7fa26f85238          Yellowdig   \n",
       "181  711e148e-f841-945f-15f5-c8709960be5f            Kidblog   \n",
       "182  8e1a08a1-5bb3-fb54-cce7-01ed70a1d160          Chalk.com   \n",
       "183  f46c9511-93b0-a65c-abba-b4b23c4b8ed1  Everest Education   \n",
       "\n",
       "                                     short_description  \\\n",
       "179  Fastudent is the largest education portal in I...   \n",
       "180  Social collaboration tool that brings real-tim...   \n",
       "181  Kidblog provides teachers with blogging tools ...   \n",
       "182                 Microsoft Office for K-12 Teachers   \n",
       "183          Everest Education is a education platform   \n",
       "\n",
       "                                           description      label  \\\n",
       "179  Our mission is to provide efficient and effect...  Education   \n",
       "180  Social Collaboration Tool that brings knowledg...  Education   \n",
       "181  Kidblog is built by teachers, for teachers, so...  Education   \n",
       "182  Chalk.com helps teachers and administrators ma...  Education   \n",
       "183  Everest Education (E2) is a social enterprise ...  Education   \n",
       "\n",
       "                                     clean_description  \n",
       "179  Our mission is to provide efficient and effect...  \n",
       "180  Social Collaboration Tool that brings knowledg...  \n",
       "181  Kidblog is built by teachers, for teachers, so...  \n",
       "182  Chalk.com helps teachers and administrators ma...  \n",
       "183  Everest Education (E2) is a social enterprise ...  "
      ]
     },
     "execution_count": 29,
     "metadata": {},
     "output_type": "execute_result"
    }
   ],
   "source": [
    "lstm_data.head()"
   ]
  },
  {
   "cell_type": "code",
   "execution_count": 30,
   "metadata": {
    "collapsed": false
   },
   "outputs": [],
   "source": [
    "y = lstm_data.pop('label')"
   ]
  },
  {
   "cell_type": "code",
   "execution_count": 31,
   "metadata": {
    "collapsed": false
   },
   "outputs": [],
   "source": [
    "X_train, X_test, y_train, y_test = train_test_split(lstm_data, list(y), test_size=0.2, random_state=7,stratify = y)"
   ]
  },
  {
   "cell_type": "code",
   "execution_count": 37,
   "metadata": {
    "collapsed": false
   },
   "outputs": [],
   "source": [
    "f = open(mypath + '/lstm-rnn/lstm_data.pickle','wb')\n",
    "pickle.dump((X_train, X_test, y_train, y_test), f, -1)\n",
    "f.close()"
   ]
  },
  {
   "cell_type": "code",
   "execution_count": null,
   "metadata": {
    "collapsed": true
   },
   "outputs": [],
   "source": []
  }
 ],
 "metadata": {
  "kernelspec": {
   "display_name": "Python 2",
   "language": "python",
   "name": "python2"
  },
  "language_info": {
   "codemirror_mode": {
    "name": "ipython",
    "version": 2
   },
   "file_extension": ".py",
   "mimetype": "text/x-python",
   "name": "python",
   "nbconvert_exporter": "python",
   "pygments_lexer": "ipython2",
   "version": "2.7.12"
  }
 },
 "nbformat": 4,
 "nbformat_minor": 0
}
