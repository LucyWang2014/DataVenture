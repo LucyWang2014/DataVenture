{
 "cells": [
  {
   "cell_type": "code",
   "execution_count": 1,
   "metadata": {
    "collapsed": true
   },
   "outputs": [],
   "source": [
    "import pandas as pd\n",
    "import numpy as np\n",
    "from os import listdir\n",
    "from os.path import isfile, join\n",
    "import matplotlib.pyplot as plt\n",
    "import seaborn as sn\n",
    "%matplotlib inline  "
   ]
  },
  {
   "cell_type": "code",
   "execution_count": 2,
   "metadata": {
    "collapsed": true
   },
   "outputs": [],
   "source": [
    "mypath = '/Users/Lucy/Google Drive/MSDS/2016Fall/DSGA1006/Data/csv_export'\n",
    "files = [f for f in listdir(mypath) if isfile(join(mypath, f))]"
   ]
  },
  {
   "cell_type": "code",
   "execution_count": 3,
   "metadata": {
    "collapsed": false
   },
   "outputs": [
    {
     "data": {
      "text/plain": [
       "['acquisitions.csv',\n",
       " 'category_groups.csv',\n",
       " 'competitors.csv',\n",
       " 'crunchbase_license.txt',\n",
       " 'customers.csv',\n",
       " 'event_relationships.csv',\n",
       " 'events.csv',\n",
       " 'funding_rounds.csv',\n",
       " 'funds.csv',\n",
       " 'investment_partners.csv',\n",
       " 'investments.csv',\n",
       " 'investors.csv',\n",
       " 'ipos.csv',\n",
       " 'jobs.csv',\n",
       " 'org_parents.csv',\n",
       " 'organization_descriptions.csv',\n",
       " 'organizations.csv',\n",
       " 'people.csv',\n",
       " 'people_descriptions.csv']"
      ]
     },
     "execution_count": 3,
     "metadata": {},
     "output_type": "execute_result"
    }
   ],
   "source": [
    "files[1:]"
   ]
  },
  {
   "cell_type": "code",
   "execution_count": 4,
   "metadata": {
    "collapsed": false
   },
   "outputs": [
    {
     "name": "stderr",
     "output_type": "stream",
     "text": [
      "/Users/Lucy/anaconda/lib/python2.7/site-packages/IPython/core/interactiveshell.py:2902: DtypeWarning: Columns (17,18) have mixed types. Specify dtype option on import or set low_memory=False.\n",
      "  interactivity=interactivity, compiler=compiler, result=result)\n"
     ]
    }
   ],
   "source": [
    "investments = pd.read_csv(mypath + '/investments.csv')\n",
    "orgs = pd.read_csv(mypath + '/organizations.csv')\n",
    "org_descs = pd.read_csv(mypath + '/organization_descriptions.csv')\n",
    "investors = pd.read_csv(mypath + '/investors.csv')\n",
    "rounds = pd.read_csv(mypath + '/funding_rounds.csv')\n",
    "funds = pd.read_csv(mypath + '/funds.csv')\n",
    "comps = pd.read_csv(mypath + '/competitors.csv')"
   ]
  },
  {
   "cell_type": "markdown",
   "metadata": {},
   "source": [
    "## Clean up orgs"
   ]
  },
  {
   "cell_type": "code",
   "execution_count": 7,
   "metadata": {
    "collapsed": false
   },
   "outputs": [
    {
     "data": {
      "text/plain": [
       "(473721, 31)"
      ]
     },
     "execution_count": 7,
     "metadata": {},
     "output_type": "execute_result"
    }
   ],
   "source": [
    "orgs.shape"
   ]
  },
  {
   "cell_type": "code",
   "execution_count": 8,
   "metadata": {
    "collapsed": false
   },
   "outputs": [
    {
     "data": {
      "text/plain": [
       "(429288, 31)"
      ]
     },
     "execution_count": 8,
     "metadata": {},
     "output_type": "execute_result"
    }
   ],
   "source": [
    "orgs[orgs.primary_role == 'company'].shape"
   ]
  },
  {
   "cell_type": "code",
   "execution_count": 9,
   "metadata": {
    "collapsed": false
   },
   "outputs": [
    {
     "data": {
      "text/plain": [
       "company_name                                                   Soko Glam\n",
       "primary_role                                                     company\n",
       "domain                                                      sokoglam.com\n",
       "homepage_url                                     http://www.sokoglam.com\n",
       "country_code                                                         USA\n",
       "state_code                                                            NY\n",
       "region                                                     New York City\n",
       "city                                                            New York\n",
       "zipcode                                                              NaN\n",
       "address                                                              NaN\n",
       "status                                                         operating\n",
       "short_description      An eCommerce beauty shop that thoughtfully cur...\n",
       "category_list                                beauty|cosmetics|e-commerce\n",
       "category_group_list                 commerce and shopping|consumer goods\n",
       "funding_rounds                                                         1\n",
       "funding_total_usd                                                  50000\n",
       "founded_on                                                    2012-12-01\n",
       "first_funding_on                                              0001-05-15\n",
       "last_funding_on                                               0001-05-15\n",
       "closed_on                                                            NaN\n",
       "employee_count                                                         -\n",
       "email                                                                NaN\n",
       "phone                                                                NaN\n",
       "facebook_url                            http://www.facebook.com/sokoglam\n",
       "cb_url                 https://www.crunchbase.com/organization/soko-glam\n",
       "logo_url               https://www.crunchbase.com/organization/soko-g...\n",
       "profile_image_url      http://public.crunchbase.com/t_api_images/v139...\n",
       "twitter_url                             https://www.twitter.com/sokoglam\n",
       "uuid                                ae274356-131d-e2ca-32fc-ea5badc3ea12\n",
       "created_at                                           2014-05-07 17:50:00\n",
       "updated_at                                    2016-08-23 20:21:56.740226\n",
       "Name: 0, dtype: object"
      ]
     },
     "execution_count": 9,
     "metadata": {},
     "output_type": "execute_result"
    }
   ],
   "source": [
    "orgs.loc[0]"
   ]
  },
  {
   "cell_type": "code",
   "execution_count": 10,
   "metadata": {
    "collapsed": false
   },
   "outputs": [],
   "source": [
    "new_orgs = pd.merge(orgs, org_descs, on = 'uuid')"
   ]
  },
  {
   "cell_type": "code",
   "execution_count": 11,
   "metadata": {
    "collapsed": false
   },
   "outputs": [
    {
     "data": {
      "text/plain": [
       "(289795, 32)"
      ]
     },
     "execution_count": 11,
     "metadata": {},
     "output_type": "execute_result"
    }
   ],
   "source": [
    "new_orgs.shape"
   ]
  },
  {
   "cell_type": "code",
   "execution_count": 7,
   "metadata": {
    "collapsed": false
   },
   "outputs": [
    {
     "data": {
      "text/plain": [
       "company_name                                                   Soko Glam\n",
       "primary_role                                                     company\n",
       "domain                                                      sokoglam.com\n",
       "homepage_url                                     http://www.sokoglam.com\n",
       "country_code                                                         USA\n",
       "state_code                                                            NY\n",
       "region                                                     New York City\n",
       "city                                                            New York\n",
       "zipcode                                                              NaN\n",
       "address                                                              NaN\n",
       "status                                                         operating\n",
       "short_description      An eCommerce beauty shop that thoughtfully cur...\n",
       "category_list                                beauty|cosmetics|e-commerce\n",
       "category_group_list                 commerce and shopping|consumer goods\n",
       "funding_rounds                                                         1\n",
       "funding_total_usd                                                  50000\n",
       "founded_on                                                    2012-12-01\n",
       "first_funding_on                                              0001-05-15\n",
       "last_funding_on                                               0001-05-15\n",
       "closed_on                                                            NaN\n",
       "employee_count                                                         -\n",
       "email                                                                NaN\n",
       "phone                                                                NaN\n",
       "facebook_url                            http://www.facebook.com/sokoglam\n",
       "cb_url                 https://www.crunchbase.com/organization/soko-glam\n",
       "logo_url               https://www.crunchbase.com/organization/soko-g...\n",
       "profile_image_url      http://public.crunchbase.com/t_api_images/v139...\n",
       "twitter_url                             https://www.twitter.com/sokoglam\n",
       "uuid                                ae274356-131d-e2ca-32fc-ea5badc3ea12\n",
       "created_at                                           2014-05-07 17:50:00\n",
       "updated_at                                    2016-08-23 20:21:56.740226\n",
       "description            Soko Glam is on a mission to make skincare fun...\n",
       "Name: 0, dtype: object"
      ]
     },
     "execution_count": 7,
     "metadata": {},
     "output_type": "execute_result"
    }
   ],
   "source": [
    "orgs.loc[0]"
   ]
  },
  {
   "cell_type": "code",
   "execution_count": 8,
   "metadata": {
    "collapsed": false
   },
   "outputs": [
    {
     "data": {
      "text/plain": [
       "{'Investor', 'company', 'group', 'investor', 'school'}"
      ]
     },
     "execution_count": 8,
     "metadata": {},
     "output_type": "execute_result"
    }
   ],
   "source": [
    "set(orgs.primary_role)"
   ]
  },
  {
   "cell_type": "code",
   "execution_count": 9,
   "metadata": {
    "collapsed": false
   },
   "outputs": [
    {
     "data": {
      "text/plain": [
       "289795"
      ]
     },
     "execution_count": 9,
     "metadata": {},
     "output_type": "execute_result"
    }
   ],
   "source": [
    "len(list(set(orgs.uuid)))"
   ]
  },
  {
   "cell_type": "code",
   "execution_count": 10,
   "metadata": {
    "collapsed": false
   },
   "outputs": [
    {
     "data": {
      "text/plain": [
       "(289795, 32)"
      ]
     },
     "execution_count": 10,
     "metadata": {},
     "output_type": "execute_result"
    }
   ],
   "source": [
    "orgs.shape"
   ]
  },
  {
   "cell_type": "code",
   "execution_count": 11,
   "metadata": {
    "collapsed": false
   },
   "outputs": [
    {
     "data": {
      "text/plain": [
       "primary_role\n",
       "Investor        13\n",
       "company     267340\n",
       "group         1871\n",
       "investor     13182\n",
       "school        7389\n",
       "dtype: int64"
      ]
     },
     "execution_count": 11,
     "metadata": {},
     "output_type": "execute_result"
    }
   ],
   "source": [
    "orgs.groupby('primary_role').size()"
   ]
  },
  {
   "cell_type": "code",
   "execution_count": 12,
   "metadata": {
    "collapsed": false
   },
   "outputs": [
    {
     "data": {
      "text/plain": [
       "company_name            object\n",
       "primary_role            object\n",
       "domain                  object\n",
       "homepage_url            object\n",
       "country_code            object\n",
       "state_code              object\n",
       "region                  object\n",
       "city                    object\n",
       "zipcode                 object\n",
       "address                 object\n",
       "status                  object\n",
       "short_description       object\n",
       "category_list           object\n",
       "category_group_list     object\n",
       "funding_rounds           int64\n",
       "funding_total_usd      float64\n",
       "founded_on              object\n",
       "first_funding_on        object\n",
       "last_funding_on         object\n",
       "closed_on               object\n",
       "employee_count          object\n",
       "email                   object\n",
       "phone                   object\n",
       "facebook_url            object\n",
       "cb_url                  object\n",
       "logo_url                object\n",
       "profile_image_url       object\n",
       "twitter_url             object\n",
       "uuid                    object\n",
       "created_at              object\n",
       "updated_at              object\n",
       "description             object\n",
       "dtype: object"
      ]
     },
     "execution_count": 12,
     "metadata": {},
     "output_type": "execute_result"
    }
   ],
   "source": [
    "orgs.dtypes"
   ]
  },
  {
   "cell_type": "code",
   "execution_count": 13,
   "metadata": {
    "collapsed": false
   },
   "outputs": [],
   "source": [
    "orgs['founded_on'] = pd.to_datetime(orgs['founded_on'], errors = 'coerce')\n",
    "orgs['first_funding_on'] = pd.to_datetime(orgs['first_funding_on'], errors = 'coerce')\n",
    "orgs['last_funding_on'] = pd.to_datetime(orgs['last_funding_on'], errors = 'coerce')\n",
    "orgs['closed_on'] = pd.to_datetime(orgs['closed_on'], errors = 'coerce')\n",
    "orgs['founded_year'] = orgs.founded_on.dt.year"
   ]
  },
  {
   "cell_type": "code",
   "execution_count": 14,
   "metadata": {
    "collapsed": true
   },
   "outputs": [],
   "source": [
    "columns = orgs.columns"
   ]
  },
  {
   "cell_type": "code",
   "execution_count": 15,
   "metadata": {
    "collapsed": false
   },
   "outputs": [
    {
     "data": {
      "text/plain": [
       "array([[<matplotlib.axes._subplots.AxesSubplot object at 0x11a9c7d50>]], dtype=object)"
      ]
     },
     "execution_count": 15,
     "metadata": {},
     "output_type": "execute_result"
    },
    {
     "data": {
      "image/png": "[encoded data removed]",
      "text/plain": [
       "<matplotlib.figure.Figure at 0x105720dd0>"
      ]
     },
     "metadata": {},
     "output_type": "display_data"
    }
   ],
   "source": [
    "orgs.hist(column = 'founded_year')"
   ]
  },
  {
   "cell_type": "code",
   "execution_count": 16,
   "metadata": {
    "collapsed": false
   },
   "outputs": [],
   "source": [
    "#get rid of organizations that were founded before 1990 and after 2016\n",
    "\n",
    "df = orgs[(orgs.founded_year >= 1990) & (orgs.founded_year <= 2016)].copy()"
   ]
  },
  {
   "cell_type": "code",
   "execution_count": 74,
   "metadata": {
    "collapsed": false
   },
   "outputs": [
    {
     "data": {
      "text/plain": [
       "10532.823529411764"
      ]
     },
     "execution_count": 74,
     "metadata": {},
     "output_type": "execute_result"
    }
   ],
   "source": [
    "np.mean(df[df.founded_year >= 2000].groupby('founded_year').size())"
   ]
  },
  {
   "cell_type": "code",
   "execution_count": 60,
   "metadata": {
    "collapsed": false
   },
   "outputs": [
    {
     "data": {
      "text/plain": [
       "array([[<matplotlib.axes._subplots.AxesSubplot object at 0x136a45410>]], dtype=object)"
      ]
     },
     "execution_count": 60,
     "metadata": {},
     "output_type": "execute_result"
    },
    {
     "data": {
      "image/png": "[encoded data removed]",
      "text/plain": [
       "<matplotlib.figure.Figure at 0x136a64090>"
      ]
     },
     "metadata": {},
     "output_type": "display_data"
    }
   ],
   "source": [
    "df.hist(column = 'founded_year',bins = 20)"
   ]
  },
  {
   "cell_type": "code",
   "execution_count": 18,
   "metadata": {
    "collapsed": false
   },
   "outputs": [
    {
     "data": {
      "text/plain": [
       "{0, 1, 2, 3, 4, 5, 6, 7, 8, 9, 10, 11, 12, 13, 14, 15, 16, 17, 18, 19, 20, 22}"
      ]
     },
     "execution_count": 18,
     "metadata": {},
     "output_type": "execute_result"
    }
   ],
   "source": [
    "set(df.funding_rounds)"
   ]
  },
  {
   "cell_type": "code",
   "execution_count": 62,
   "metadata": {
    "collapsed": false
   },
   "outputs": [
    {
     "data": {
      "text/plain": [
       "array([[<matplotlib.axes._subplots.AxesSubplot object at 0x136a07b50>]], dtype=object)"
      ]
     },
     "execution_count": 62,
     "metadata": {},
     "output_type": "execute_result"
    },
    {
     "data": {
      "image/png": "[encoded data removed]",
      "text/plain": [
       "<matplotlib.figure.Figure at 0x1369f5f50>"
      ]
     },
     "metadata": {},
     "output_type": "display_data"
    }
   ],
   "source": [
    "df[df.funding_rounds < 10].hist(column = 'funding_rounds',bins = 10)"
   ]
  },
  {
   "cell_type": "code",
   "execution_count": 20,
   "metadata": {
    "collapsed": false
   },
   "outputs": [
    {
     "data": {
      "text/plain": [
       "array([[<matplotlib.axes._subplots.AxesSubplot object at 0x13eaca490>,\n",
       "        <matplotlib.axes._subplots.AxesSubplot object at 0x13ea35ad0>,\n",
       "        <matplotlib.axes._subplots.AxesSubplot object at 0x13dc1f910>,\n",
       "        <matplotlib.axes._subplots.AxesSubplot object at 0x13dc09390>,\n",
       "        <matplotlib.axes._subplots.AxesSubplot object at 0x13dc71a90>,\n",
       "        <matplotlib.axes._subplots.AxesSubplot object at 0x13eb7e290>],\n",
       "       [<matplotlib.axes._subplots.AxesSubplot object at 0x13dc49a10>,\n",
       "        <matplotlib.axes._subplots.AxesSubplot object at 0x13dd33290>,\n",
       "        <matplotlib.axes._subplots.AxesSubplot object at 0x13dd1d690>,\n",
       "        <matplotlib.axes._subplots.AxesSubplot object at 0x13dd03410>,\n",
       "        <matplotlib.axes._subplots.AxesSubplot object at 0x13dcf1190>,\n",
       "        <matplotlib.axes._subplots.AxesSubplot object at 0x13dcd8450>],\n",
       "       [<matplotlib.axes._subplots.AxesSubplot object at 0x13dcd64d0>,\n",
       "        <matplotlib.axes._subplots.AxesSubplot object at 0x13dcae650>,\n",
       "        <matplotlib.axes._subplots.AxesSubplot object at 0x13dc9e290>,\n",
       "        <matplotlib.axes._subplots.AxesSubplot object at 0x13dc926d0>,\n",
       "        <matplotlib.axes._subplots.AxesSubplot object at 0x13dc7a550>,\n",
       "        <matplotlib.axes._subplots.AxesSubplot object at 0x13dbe7c10>],\n",
       "       [<matplotlib.axes._subplots.AxesSubplot object at 0x13dbcaed0>,\n",
       "        <matplotlib.axes._subplots.AxesSubplot object at 0x13dbb0b90>,\n",
       "        <matplotlib.axes._subplots.AxesSubplot object at 0x13db9ca10>,\n",
       "        <matplotlib.axes._subplots.AxesSubplot object at 0x13db83790>,\n",
       "        <matplotlib.axes._subplots.AxesSubplot object at 0x13db709d0>,\n",
       "        <matplotlib.axes._subplots.AxesSubplot object at 0x13db56ad0>],\n",
       "       [<matplotlib.axes._subplots.AxesSubplot object at 0x13db49ed0>,\n",
       "        <matplotlib.axes._subplots.AxesSubplot object at 0x13da68210>,\n",
       "        <matplotlib.axes._subplots.AxesSubplot object at 0x13b6782d0>,\n",
       "        <matplotlib.axes._subplots.AxesSubplot object at 0x13b6e6bd0>,\n",
       "        <matplotlib.axes._subplots.AxesSubplot object at 0x13b6cfa50>,\n",
       "        <matplotlib.axes._subplots.AxesSubplot object at 0x13b6be490>]], dtype=object)"
      ]
     },
     "execution_count": 20,
     "metadata": {},
     "output_type": "execute_result"
    },
    {
     "data": {
      "image/png": "[encoded data removed]",
      "text/plain": [
       "<matplotlib.figure.Figure at 0x13eaa7650>"
      ]
     },
     "metadata": {},
     "output_type": "display_data"
    }
   ],
   "source": [
    "df.hist(column = \"funding_rounds\", by = 'founded_year', figsize = (20,16),layout = (5,6))"
   ]
  },
  {
   "cell_type": "code",
   "execution_count": 86,
   "metadata": {
    "collapsed": false
   },
   "outputs": [],
   "source": [
    "round_count = pd.DataFrame(df.groupby('funding_rounds').size()).reset_index()\n",
    "round_count.columns = ['funding_rounds','count']"
   ]
  },
  {
   "cell_type": "code",
   "execution_count": 95,
   "metadata": {
    "collapsed": false
   },
   "outputs": [
    {
     "data": {
      "text/plain": [
       "201425"
      ]
     },
     "execution_count": 95,
     "metadata": {},
     "output_type": "execute_result"
    }
   ],
   "source": [
    "round_count['count'].sum()"
   ]
  },
  {
   "cell_type": "code",
   "execution_count": 88,
   "metadata": {
    "collapsed": false,
    "scrolled": true
   },
   "outputs": [
    {
     "data": {
      "text/plain": [
       "<matplotlib.axes._subplots.AxesSubplot at 0x13456da10>"
      ]
     },
     "execution_count": 88,
     "metadata": {},
     "output_type": "execute_result"
    },
    {
     "data": {
      "image/png": "[encoded data removed]",
      "text/plain": [
       "<matplotlib.figure.Figure at 0x136a35390>"
      ]
     },
     "metadata": {},
     "output_type": "display_data"
    }
   ],
   "source": [
    "sn.barplot(x ='funding_rounds', y=\"count\", data=round_count)"
   ]
  },
  {
   "cell_type": "markdown",
   "metadata": {},
   "source": [
    "## Clean up Investors"
   ]
  },
  {
   "cell_type": "code",
   "execution_count": 63,
   "metadata": {
    "collapsed": false
   },
   "outputs": [
    {
     "data": {
      "text/plain": [
       "(47379, 19)"
      ]
     },
     "execution_count": 63,
     "metadata": {},
     "output_type": "execute_result"
    }
   ],
   "source": [
    "investors.shape"
   ]
  },
  {
   "cell_type": "code",
   "execution_count": 22,
   "metadata": {
    "collapsed": false
   },
   "outputs": [
    {
     "data": {
      "text/plain": [
       "investor_name                                          Sequoia Capital\n",
       "primary_role                                                  investor\n",
       "domain                                                  sequoiacap.com\n",
       "country_code                                                       USA\n",
       "state_code                                                          CA\n",
       "region                                                     SF Bay Area\n",
       "city                                                        Menlo Park\n",
       "investor_type                                          venture_capital\n",
       "investment_count                                                  1242\n",
       "total_funding_usd                                          3.40041e+10\n",
       "founded_on                                                  1972-11-01\n",
       "closed_on                                                          NaN\n",
       "cb_url               https://www.crunchbase.com/organization/sequoi...\n",
       "logo_url             https://www.crunchbase.com/organization/sequoi...\n",
       "profile_image_url    http://public.crunchbase.com/t_api_images/v141...\n",
       "twitter_url                            https://www.twitter.com/sequoia\n",
       "facebook_url                        http://www.facebook.com/sequoiacap\n",
       "uuid                              0c867fde-2b9a-df10-fdb9-66b74f355f91\n",
       "updated_at                                  2016-09-28 11:51:26.860329\n",
       "Name: 0, dtype: object"
      ]
     },
     "execution_count": 22,
     "metadata": {},
     "output_type": "execute_result"
    }
   ],
   "source": [
    "investors.loc[0]"
   ]
  },
  {
   "cell_type": "code",
   "execution_count": 23,
   "metadata": {
    "collapsed": false
   },
   "outputs": [
    {
     "data": {
      "text/plain": [
       "<matplotlib.axes._subplots.AxesSubplot at 0x13b78a790>"
      ]
     },
     "execution_count": 23,
     "metadata": {},
     "output_type": "execute_result"
    },
    {
     "data": {
      "image/png": "[encoded data removed]",
      "text/plain": [
       "<matplotlib.figure.Figure at 0x13b790290>"
      ]
     },
     "metadata": {},
     "output_type": "display_data"
    }
   ],
   "source": [
    "investors.groupby('investor_type').size().plot(kind = 'bar',figsize = (20,8))"
   ]
  },
  {
   "cell_type": "code",
   "execution_count": 24,
   "metadata": {
    "collapsed": true
   },
   "outputs": [],
   "source": [
    "#we will only predict on well known individuals, angel groups, corporate venture capital, family office, micro vc\n",
    "#and venture capital\n",
    "\n",
    "accepted_types = ['angel_group','corporate_venture_capital','family_investment_office','individual','micro_vc',\n",
    "                  'venture_capital']"
   ]
  },
  {
   "cell_type": "code",
   "execution_count": 25,
   "metadata": {
    "collapsed": true
   },
   "outputs": [],
   "source": [
    "investors_df = investors[investors.investor_type.isin(accepted_types)].copy()"
   ]
  },
  {
   "cell_type": "code",
   "execution_count": 127,
   "metadata": {
    "collapsed": false
   },
   "outputs": [
    {
     "data": {
      "text/plain": [
       "[<matplotlib.text.Text at 0x131f8f3d0>,\n",
       " <matplotlib.text.Text at 0x131eebdd0>,\n",
       " <matplotlib.text.Text at 0x131ec7410>,\n",
       " <matplotlib.text.Text at 0x131ec4b50>,\n",
       " <matplotlib.text.Text at 0x131ec25d0>,\n",
       " <matplotlib.text.Text at 0x131ebe950>]"
      ]
     },
     "execution_count": 127,
     "metadata": {},
     "output_type": "execute_result"
    },
    {
     "data": {
      "image/png": "[encoded data removed]",
      "text/plain": [
       "<matplotlib.figure.Figure at 0x131f98590>"
      ]
     },
     "metadata": {},
     "output_type": "display_data"
    }
   ],
   "source": [
    "fig, ax = plt.subplots()\n",
    "investors_df.groupby('investor_type').size().plot(ax=ax,kind = 'bar',figsize = [10,6])\n",
    "ax.set_xticklabels(set(investors_df.investor_type), rotation=0)"
   ]
  },
  {
   "cell_type": "code",
   "execution_count": 121,
   "metadata": {
    "collapsed": false
   },
   "outputs": [
    {
     "data": {
      "text/plain": [
       "42.90249897582958"
      ]
     },
     "execution_count": 121,
     "metadata": {},
     "output_type": "execute_result"
    }
   ],
   "source": [
    "np.mean(investors_df.investment_count)"
   ]
  },
  {
   "cell_type": "code",
   "execution_count": 65,
   "metadata": {
    "collapsed": false
   },
   "outputs": [
    {
     "data": {
      "text/plain": [
       "19.0"
      ]
     },
     "execution_count": 65,
     "metadata": {},
     "output_type": "execute_result"
    }
   ],
   "source": [
    "np.median(investors_df.investment_count)"
   ]
  },
  {
   "cell_type": "code",
   "execution_count": 120,
   "metadata": {
    "collapsed": false
   },
   "outputs": [
    {
     "data": {
      "text/plain": [
       "array([[<matplotlib.axes._subplots.AxesSubplot object at 0x134582590>]], dtype=object)"
      ]
     },
     "execution_count": 120,
     "metadata": {},
     "output_type": "execute_result"
    },
    {
     "data": {
      "image/png": "[encoded data removed]",
      "text/plain": [
       "<matplotlib.figure.Figure at 0x13457b890>"
      ]
     },
     "metadata": {},
     "output_type": "display_data"
    }
   ],
   "source": [
    "investors_df[investors_df.investment_count < 200].hist(column = 'investment_count',bins = 100)"
   ]
  },
  {
   "cell_type": "code",
   "execution_count": 28,
   "metadata": {
    "collapsed": true
   },
   "outputs": [],
   "source": [
    "#get date of investment for each investment"
   ]
  },
  {
   "cell_type": "code",
   "execution_count": 29,
   "metadata": {
    "collapsed": false
   },
   "outputs": [
    {
     "data": {
      "text/html": [
       "<div>\n",
       "<table border=\"1\" class=\"dataframe\">\n",
       "  <thead>\n",
       "    <tr style=\"text-align: right;\">\n",
       "      <th></th>\n",
       "      <th>funding_round_uuid</th>\n",
       "      <th>investor_uuid</th>\n",
       "      <th>is_lead_investor</th>\n",
       "    </tr>\n",
       "  </thead>\n",
       "  <tbody>\n",
       "    <tr>\n",
       "      <th>0</th>\n",
       "      <td>0008d7cd-2233-7ac0-499f-d6bd79322751</td>\n",
       "      <td>ea5de28f-7493-f605-c3fd-51965a5b5aba</td>\n",
       "      <td>t</td>\n",
       "    </tr>\n",
       "    <tr>\n",
       "      <th>1</th>\n",
       "      <td>0015f710-ec05-371e-e658-dd1e46c497eb</td>\n",
       "      <td>c54493d1-89e8-db3c-bab3-ba4da8ee376f</td>\n",
       "      <td>t</td>\n",
       "    </tr>\n",
       "    <tr>\n",
       "      <th>2</th>\n",
       "      <td>003f45e1-1db5-5f91-35b4-b1ee9ca232f3</td>\n",
       "      <td>c61ec917-13b1-fa86-cf7d-88006a947914</td>\n",
       "      <td>f</td>\n",
       "    </tr>\n",
       "    <tr>\n",
       "      <th>3</th>\n",
       "      <td>003f45e1-1db5-5f91-35b4-b1ee9ca232f3</td>\n",
       "      <td>4884e025-054d-47d6-3c7e-6c397eee22cd</td>\n",
       "      <td>f</td>\n",
       "    </tr>\n",
       "    <tr>\n",
       "      <th>4</th>\n",
       "      <td>0044d614-0716-1a9b-8c31-9310b0c336bc</td>\n",
       "      <td>9e3a486a-99d5-1925-3339-57b6695133b0</td>\n",
       "      <td>t</td>\n",
       "    </tr>\n",
       "  </tbody>\n",
       "</table>\n",
       "</div>"
      ],
      "text/plain": [
       "                     funding_round_uuid                         investor_uuid  \\\n",
       "0  0008d7cd-2233-7ac0-499f-d6bd79322751  ea5de28f-7493-f605-c3fd-51965a5b5aba   \n",
       "1  0015f710-ec05-371e-e658-dd1e46c497eb  c54493d1-89e8-db3c-bab3-ba4da8ee376f   \n",
       "2  003f45e1-1db5-5f91-35b4-b1ee9ca232f3  c61ec917-13b1-fa86-cf7d-88006a947914   \n",
       "3  003f45e1-1db5-5f91-35b4-b1ee9ca232f3  4884e025-054d-47d6-3c7e-6c397eee22cd   \n",
       "4  0044d614-0716-1a9b-8c31-9310b0c336bc  9e3a486a-99d5-1925-3339-57b6695133b0   \n",
       "\n",
       "  is_lead_investor  \n",
       "0                t  \n",
       "1                t  \n",
       "2                f  \n",
       "3                f  \n",
       "4                t  "
      ]
     },
     "execution_count": 29,
     "metadata": {},
     "output_type": "execute_result"
    }
   ],
   "source": [
    "investments.head()"
   ]
  },
  {
   "cell_type": "code",
   "execution_count": 30,
   "metadata": {
    "collapsed": true
   },
   "outputs": [],
   "source": [
    "rounds['announced_on'] = pd.to_datetime(rounds['announced_on'], errors = 'coerce')"
   ]
  },
  {
   "cell_type": "code",
   "execution_count": 31,
   "metadata": {
    "collapsed": false
   },
   "outputs": [],
   "source": [
    "investment_dates = pd.merge(investments,rounds[['funding_round_uuid','announced_on']], on = 'funding_round_uuid')"
   ]
  },
  {
   "cell_type": "code",
   "execution_count": 32,
   "metadata": {
    "collapsed": false
   },
   "outputs": [],
   "source": [
    "# get the last investment an investor made\n",
    "most_recent_investment = pd.DataFrame(investment_dates.groupby('investor_uuid')['announced_on'].max()).reset_index()"
   ]
  },
  {
   "cell_type": "code",
   "execution_count": 33,
   "metadata": {
    "collapsed": false
   },
   "outputs": [],
   "source": [
    "most_recent_investment.head()\n",
    "most_recent_investment.columns = ['uuid','most_recent_investment']"
   ]
  },
  {
   "cell_type": "code",
   "execution_count": 34,
   "metadata": {
    "collapsed": false
   },
   "outputs": [
    {
     "data": {
      "text/html": [
       "<div>\n",
       "<table border=\"1\" class=\"dataframe\">\n",
       "  <thead>\n",
       "    <tr style=\"text-align: right;\">\n",
       "      <th></th>\n",
       "      <th>uuid</th>\n",
       "      <th>most_recent_investment</th>\n",
       "    </tr>\n",
       "  </thead>\n",
       "  <tbody>\n",
       "    <tr>\n",
       "      <th>0</th>\n",
       "      <td>0005e438-8f64-d01c-822d-a2de10690fed</td>\n",
       "      <td>2011-08-09</td>\n",
       "    </tr>\n",
       "    <tr>\n",
       "      <th>1</th>\n",
       "      <td>000a3a71-e224-c35d-6476-65e0d6579830</td>\n",
       "      <td>2016-03-01</td>\n",
       "    </tr>\n",
       "    <tr>\n",
       "      <th>2</th>\n",
       "      <td>000c5688-ea1a-1abd-ed38-a36ad1fc47c8</td>\n",
       "      <td>2016-09-03</td>\n",
       "    </tr>\n",
       "    <tr>\n",
       "      <th>3</th>\n",
       "      <td>000ede33-6c08-c865-e88e-0a59ec5daee8</td>\n",
       "      <td>2015-04-05</td>\n",
       "    </tr>\n",
       "    <tr>\n",
       "      <th>4</th>\n",
       "      <td>00121759-7d9c-dc31-d0a7-60581cb33bb9</td>\n",
       "      <td>2013-05-31</td>\n",
       "    </tr>\n",
       "  </tbody>\n",
       "</table>\n",
       "</div>"
      ],
      "text/plain": [
       "                                   uuid most_recent_investment\n",
       "0  0005e438-8f64-d01c-822d-a2de10690fed             2011-08-09\n",
       "1  000a3a71-e224-c35d-6476-65e0d6579830             2016-03-01\n",
       "2  000c5688-ea1a-1abd-ed38-a36ad1fc47c8             2016-09-03\n",
       "3  000ede33-6c08-c865-e88e-0a59ec5daee8             2015-04-05\n",
       "4  00121759-7d9c-dc31-d0a7-60581cb33bb9             2013-05-31"
      ]
     },
     "execution_count": 34,
     "metadata": {},
     "output_type": "execute_result"
    }
   ],
   "source": [
    "most_recent_investment.head()"
   ]
  },
  {
   "cell_type": "code",
   "execution_count": 35,
   "metadata": {
    "collapsed": false
   },
   "outputs": [],
   "source": [
    "investors_df = pd.merge(investors_df,most_recent_investment, on = 'uuid')"
   ]
  },
  {
   "cell_type": "code",
   "execution_count": 36,
   "metadata": {
    "collapsed": false
   },
   "outputs": [
    {
     "data": {
      "text/html": [
       "<div>\n",
       "<table border=\"1\" class=\"dataframe\">\n",
       "  <thead>\n",
       "    <tr style=\"text-align: right;\">\n",
       "      <th></th>\n",
       "      <th>investor_name</th>\n",
       "      <th>primary_role</th>\n",
       "      <th>domain</th>\n",
       "      <th>country_code</th>\n",
       "      <th>state_code</th>\n",
       "      <th>region</th>\n",
       "      <th>city</th>\n",
       "      <th>investor_type</th>\n",
       "      <th>investment_count</th>\n",
       "      <th>total_funding_usd</th>\n",
       "      <th>founded_on</th>\n",
       "      <th>closed_on</th>\n",
       "      <th>cb_url</th>\n",
       "      <th>logo_url</th>\n",
       "      <th>profile_image_url</th>\n",
       "      <th>twitter_url</th>\n",
       "      <th>facebook_url</th>\n",
       "      <th>uuid</th>\n",
       "      <th>updated_at</th>\n",
       "      <th>most_recent_investment</th>\n",
       "    </tr>\n",
       "  </thead>\n",
       "  <tbody>\n",
       "    <tr>\n",
       "      <th>0</th>\n",
       "      <td>Sequoia Capital</td>\n",
       "      <td>investor</td>\n",
       "      <td>sequoiacap.com</td>\n",
       "      <td>USA</td>\n",
       "      <td>CA</td>\n",
       "      <td>SF Bay Area</td>\n",
       "      <td>Menlo Park</td>\n",
       "      <td>venture_capital</td>\n",
       "      <td>1242</td>\n",
       "      <td>3.400411e+10</td>\n",
       "      <td>1972-11-01</td>\n",
       "      <td>NaN</td>\n",
       "      <td>https://www.crunchbase.com/organization/sequoi...</td>\n",
       "      <td>https://www.crunchbase.com/organization/sequoi...</td>\n",
       "      <td>http://public.crunchbase.com/t_api_images/v141...</td>\n",
       "      <td>https://www.twitter.com/sequoia</td>\n",
       "      <td>http://www.facebook.com/sequoiacap</td>\n",
       "      <td>0c867fde-2b9a-df10-fdb9-66b74f355f91</td>\n",
       "      <td>2016-09-28 11:51:26.860329</td>\n",
       "      <td>2016-09-28</td>\n",
       "    </tr>\n",
       "    <tr>\n",
       "      <th>1</th>\n",
       "      <td>New Enterprise Associates</td>\n",
       "      <td>investor</td>\n",
       "      <td>nea.com</td>\n",
       "      <td>USA</td>\n",
       "      <td>CA</td>\n",
       "      <td>SF Bay Area</td>\n",
       "      <td>Menlo Park</td>\n",
       "      <td>venture_capital</td>\n",
       "      <td>1114</td>\n",
       "      <td>2.756342e+10</td>\n",
       "      <td>1977-01-01</td>\n",
       "      <td>NaN</td>\n",
       "      <td>https://www.crunchbase.com/organization/new-en...</td>\n",
       "      <td>https://www.crunchbase.com/organization/new-en...</td>\n",
       "      <td>http://public.crunchbase.com/t_api_images/v145...</td>\n",
       "      <td>https://www.twitter.com/neavc</td>\n",
       "      <td>http://www.facebook.com/neavc</td>\n",
       "      <td>47b84763-9727-7cdf-b194-2742e3963147</td>\n",
       "      <td>2016-09-28 13:52:29.052392</td>\n",
       "      <td>2016-09-26</td>\n",
       "    </tr>\n",
       "    <tr>\n",
       "      <th>2</th>\n",
       "      <td>Intel Capital</td>\n",
       "      <td>investor</td>\n",
       "      <td>intelcapital.com</td>\n",
       "      <td>USA</td>\n",
       "      <td>CA</td>\n",
       "      <td>SF Bay Area</td>\n",
       "      <td>Santa Clara</td>\n",
       "      <td>corporate_venture_capital</td>\n",
       "      <td>1053</td>\n",
       "      <td>2.379451e+10</td>\n",
       "      <td>1991-01-01</td>\n",
       "      <td>NaN</td>\n",
       "      <td>https://www.crunchbase.com/organization/intel-...</td>\n",
       "      <td>https://www.crunchbase.com/organization/intel-...</td>\n",
       "      <td>http://public.crunchbase.com/t_api_images/v139...</td>\n",
       "      <td>https://www.twitter.com/intelcapital</td>\n",
       "      <td>NaN</td>\n",
       "      <td>f3716725-552d-b9b5-59ad-de4ec64b1751</td>\n",
       "      <td>2016-09-29 07:09:45.592806</td>\n",
       "      <td>2016-09-19</td>\n",
       "    </tr>\n",
       "    <tr>\n",
       "      <th>3</th>\n",
       "      <td>Accel Partners</td>\n",
       "      <td>investor</td>\n",
       "      <td>accel.com</td>\n",
       "      <td>USA</td>\n",
       "      <td>CA</td>\n",
       "      <td>SF Bay Area</td>\n",
       "      <td>Palo Alto</td>\n",
       "      <td>venture_capital</td>\n",
       "      <td>952</td>\n",
       "      <td>2.219778e+10</td>\n",
       "      <td>1983-01-01</td>\n",
       "      <td>NaN</td>\n",
       "      <td>https://www.crunchbase.com/organization/accel-...</td>\n",
       "      <td>https://www.crunchbase.com/organization/accel-...</td>\n",
       "      <td>http://public.crunchbase.com/t_api_images/v144...</td>\n",
       "      <td>https://www.twitter.com/accel</td>\n",
       "      <td>http://www.facebook.com/accel</td>\n",
       "      <td>b08efc27-da40-505a-6f9d-c9e14247bf36</td>\n",
       "      <td>2016-09-28 03:50:11.161651</td>\n",
       "      <td>2016-09-27</td>\n",
       "    </tr>\n",
       "    <tr>\n",
       "      <th>4</th>\n",
       "      <td>Kleiner Perkins Caufield &amp; Byers</td>\n",
       "      <td>investor</td>\n",
       "      <td>kpcb.com</td>\n",
       "      <td>USA</td>\n",
       "      <td>CA</td>\n",
       "      <td>SF Bay Area</td>\n",
       "      <td>Menlo Park</td>\n",
       "      <td>venture_capital</td>\n",
       "      <td>840</td>\n",
       "      <td>2.685646e+10</td>\n",
       "      <td>1972-03-01</td>\n",
       "      <td>NaN</td>\n",
       "      <td>https://www.crunchbase.com/organization/kleine...</td>\n",
       "      <td>https://www.crunchbase.com/organization/kleine...</td>\n",
       "      <td>http://public.crunchbase.com/t_api_images/v139...</td>\n",
       "      <td>https://www.twitter.com/kpcb</td>\n",
       "      <td>http://www.facebook.com/kpcbprofile</td>\n",
       "      <td>2d0a5bf0-e53e-9a07-2243-9bcd561421ec</td>\n",
       "      <td>2016-09-28 10:58:01.290589</td>\n",
       "      <td>2016-09-21</td>\n",
       "    </tr>\n",
       "  </tbody>\n",
       "</table>\n",
       "</div>"
      ],
      "text/plain": [
       "                      investor_name primary_role            domain  \\\n",
       "0                   Sequoia Capital     investor    sequoiacap.com   \n",
       "1         New Enterprise Associates     investor           nea.com   \n",
       "2                     Intel Capital     investor  intelcapital.com   \n",
       "3                    Accel Partners     investor         accel.com   \n",
       "4  Kleiner Perkins Caufield & Byers     investor          kpcb.com   \n",
       "\n",
       "  country_code state_code       region         city  \\\n",
       "0          USA         CA  SF Bay Area   Menlo Park   \n",
       "1          USA         CA  SF Bay Area   Menlo Park   \n",
       "2          USA         CA  SF Bay Area  Santa Clara   \n",
       "3          USA         CA  SF Bay Area    Palo Alto   \n",
       "4          USA         CA  SF Bay Area   Menlo Park   \n",
       "\n",
       "               investor_type  investment_count  total_funding_usd  founded_on  \\\n",
       "0            venture_capital              1242       3.400411e+10  1972-11-01   \n",
       "1            venture_capital              1114       2.756342e+10  1977-01-01   \n",
       "2  corporate_venture_capital              1053       2.379451e+10  1991-01-01   \n",
       "3            venture_capital               952       2.219778e+10  1983-01-01   \n",
       "4            venture_capital               840       2.685646e+10  1972-03-01   \n",
       "\n",
       "  closed_on                                             cb_url  \\\n",
       "0       NaN  https://www.crunchbase.com/organization/sequoi...   \n",
       "1       NaN  https://www.crunchbase.com/organization/new-en...   \n",
       "2       NaN  https://www.crunchbase.com/organization/intel-...   \n",
       "3       NaN  https://www.crunchbase.com/organization/accel-...   \n",
       "4       NaN  https://www.crunchbase.com/organization/kleine...   \n",
       "\n",
       "                                            logo_url  \\\n",
       "0  https://www.crunchbase.com/organization/sequoi...   \n",
       "1  https://www.crunchbase.com/organization/new-en...   \n",
       "2  https://www.crunchbase.com/organization/intel-...   \n",
       "3  https://www.crunchbase.com/organization/accel-...   \n",
       "4  https://www.crunchbase.com/organization/kleine...   \n",
       "\n",
       "                                   profile_image_url  \\\n",
       "0  http://public.crunchbase.com/t_api_images/v141...   \n",
       "1  http://public.crunchbase.com/t_api_images/v145...   \n",
       "2  http://public.crunchbase.com/t_api_images/v139...   \n",
       "3  http://public.crunchbase.com/t_api_images/v144...   \n",
       "4  http://public.crunchbase.com/t_api_images/v139...   \n",
       "\n",
       "                            twitter_url                         facebook_url  \\\n",
       "0       https://www.twitter.com/sequoia   http://www.facebook.com/sequoiacap   \n",
       "1         https://www.twitter.com/neavc        http://www.facebook.com/neavc   \n",
       "2  https://www.twitter.com/intelcapital                                  NaN   \n",
       "3         https://www.twitter.com/accel        http://www.facebook.com/accel   \n",
       "4          https://www.twitter.com/kpcb  http://www.facebook.com/kpcbprofile   \n",
       "\n",
       "                                   uuid                  updated_at  \\\n",
       "0  0c867fde-2b9a-df10-fdb9-66b74f355f91  2016-09-28 11:51:26.860329   \n",
       "1  47b84763-9727-7cdf-b194-2742e3963147  2016-09-28 13:52:29.052392   \n",
       "2  f3716725-552d-b9b5-59ad-de4ec64b1751  2016-09-29 07:09:45.592806   \n",
       "3  b08efc27-da40-505a-6f9d-c9e14247bf36  2016-09-28 03:50:11.161651   \n",
       "4  2d0a5bf0-e53e-9a07-2243-9bcd561421ec  2016-09-28 10:58:01.290589   \n",
       "\n",
       "  most_recent_investment  \n",
       "0             2016-09-28  \n",
       "1             2016-09-26  \n",
       "2             2016-09-19  \n",
       "3             2016-09-27  \n",
       "4             2016-09-21  "
      ]
     },
     "execution_count": 36,
     "metadata": {},
     "output_type": "execute_result"
    }
   ],
   "source": [
    "investors_df.head()"
   ]
  },
  {
   "cell_type": "code",
   "execution_count": null,
   "metadata": {
    "collapsed": true
   },
   "outputs": [],
   "source": [
    "investors_df.hist(column = 'investment_count',bins = 100, figsize = (20,8))"
   ]
  },
  {
   "cell_type": "code",
   "execution_count": 37,
   "metadata": {
    "collapsed": false
   },
   "outputs": [],
   "source": [
    "investors_df['most_recent_active_year'] = investors_df['most_recent_investment'].dt.year\n"
   ]
  },
  {
   "cell_type": "code",
   "execution_count": 38,
   "metadata": {
    "collapsed": false
   },
   "outputs": [
    {
     "data": {
      "text/plain": [
       "array([[<matplotlib.axes._subplots.AxesSubplot object at 0x138fb4850>]], dtype=object)"
      ]
     },
     "execution_count": 38,
     "metadata": {},
     "output_type": "execute_result"
    },
    {
     "data": {
      "image/png": "[encoded data removed]",
      "text/plain": [
       "<matplotlib.figure.Figure at 0x13b7903d0>"
      ]
     },
     "metadata": {},
     "output_type": "display_data"
    }
   ],
   "source": [
    "investors_df.hist(column = 'most_recent_active_year',bins = 20, figsize = (20,8))"
   ]
  },
  {
   "cell_type": "code",
   "execution_count": 39,
   "metadata": {
    "collapsed": false
   },
   "outputs": [],
   "source": [
    "#take only investors that have been active in the past year and have made more than 5 investments\n",
    "\n",
    "investors_df = investors_df[(investors_df.most_recent_investment >= '2015-10-15') & \n",
    "                            (investors_df.investment_count > 5)].copy()"
   ]
  },
  {
   "cell_type": "code",
   "execution_count": 40,
   "metadata": {
    "collapsed": false
   },
   "outputs": [
    {
     "data": {
      "text/plain": [
       "2441"
      ]
     },
     "execution_count": 40,
     "metadata": {},
     "output_type": "execute_result"
    }
   ],
   "source": [
    "investors_df.shape[0]"
   ]
  },
  {
   "cell_type": "markdown",
   "metadata": {},
   "source": [
    "## Clean up Rounds"
   ]
  },
  {
   "cell_type": "code",
   "execution_count": 41,
   "metadata": {
    "collapsed": false
   },
   "outputs": [
    {
     "data": {
      "text/plain": [
       "company_name                                                                 Apsiyon\n",
       "country_code                                                                     TUR\n",
       "state_code                                                                       NaN\n",
       "region                                                                      Istanbul\n",
       "city                                                                        Istanbul\n",
       "company_category_list                                                  SaaS|Software\n",
       "funding_round_type                                                           venture\n",
       "funding_round_code                                                                 A\n",
       "announced_on                                                     2016-09-29 00:00:00\n",
       "raised_amount_usd                                                            2.5e+06\n",
       "raised_amount                                                                    NaN\n",
       "raised_amount_currency_code                                                      NaN\n",
       "target_money_raised_usd                                                          NaN\n",
       "target_money_raised                                                              NaN\n",
       "target_money_raised_currency_code                                                NaN\n",
       "post_money_valuation_usd                                                         NaN\n",
       "post_money_valuation                                                             NaN\n",
       "post_money_currency_code                                                         NaN\n",
       "investor_count                                                                     1\n",
       "investor_names                                             Earlybird Venture Capital\n",
       "cb_url                               https://www.crunchbase.com/organization/apsiyon\n",
       "company_uuid                                    2593028d-6633-21c4-6eb0-fa483675754c\n",
       "funding_round_uuid                              ab185d05-1855-a770-8fc8-8fd420b22386\n",
       "created_at                                                2016-09-29 09:14:04.958203\n",
       "updated_at                                                2016-09-29 09:15:40.491379\n",
       "Name: 0, dtype: object"
      ]
     },
     "execution_count": 41,
     "metadata": {},
     "output_type": "execute_result"
    }
   ],
   "source": [
    "rounds.loc[0]"
   ]
  },
  {
   "cell_type": "code",
   "execution_count": 42,
   "metadata": {
    "collapsed": false
   },
   "outputs": [
    {
     "data": {
      "text/plain": [
       "company_name                                 object\n",
       "country_code                                 object\n",
       "state_code                                   object\n",
       "region                                       object\n",
       "city                                         object\n",
       "company_category_list                        object\n",
       "funding_round_type                           object\n",
       "funding_round_code                           object\n",
       "announced_on                         datetime64[ns]\n",
       "raised_amount_usd                           float64\n",
       "raised_amount                               float64\n",
       "raised_amount_currency_code                  object\n",
       "target_money_raised_usd                     float64\n",
       "target_money_raised                         float64\n",
       "target_money_raised_currency_code            object\n",
       "post_money_valuation_usd                    float64\n",
       "post_money_valuation                        float64\n",
       "post_money_currency_code                    float64\n",
       "investor_count                                int64\n",
       "investor_names                               object\n",
       "cb_url                                       object\n",
       "company_uuid                                 object\n",
       "funding_round_uuid                           object\n",
       "created_at                                   object\n",
       "updated_at                                   object\n",
       "dtype: object"
      ]
     },
     "execution_count": 42,
     "metadata": {},
     "output_type": "execute_result"
    }
   ],
   "source": [
    "rounds.dtypes"
   ]
  },
  {
   "cell_type": "code",
   "execution_count": 43,
   "metadata": {
    "collapsed": true
   },
   "outputs": [],
   "source": [
    "rounds['announced_on'] = pd.to_datetime(rounds['announced_on'], errors = 'coerce')"
   ]
  },
  {
   "cell_type": "code",
   "execution_count": 44,
   "metadata": {
    "collapsed": true
   },
   "outputs": [],
   "source": [
    "rounds['announced_year'] = rounds['announced_on'].dt.year"
   ]
  },
  {
   "cell_type": "code",
   "execution_count": 45,
   "metadata": {
    "collapsed": false
   },
   "outputs": [],
   "source": [
    "#get only rounds from companies in cleaned up orgs\n",
    "rounds_df = rounds[rounds.company_uuid.isin(df.uuid)].copy()\n",
    "rounds_df = rounds_df[(rounds_df.announced_year >= 1990) & (rounds_df.announced_year <= 2016)].copy()"
   ]
  },
  {
   "cell_type": "code",
   "execution_count": 46,
   "metadata": {
    "collapsed": false
   },
   "outputs": [
    {
     "name": "stdout",
     "output_type": "stream",
     "text": [
      "original rounds: 145132, new count of rounds: 121227\n"
     ]
    }
   ],
   "source": [
    "print 'original rounds: %s, new count of rounds: %s' %(rounds.shape[0], rounds_df.shape[0])"
   ]
  },
  {
   "cell_type": "code",
   "execution_count": 47,
   "metadata": {
    "collapsed": false
   },
   "outputs": [
    {
     "data": {
      "text/plain": [
       "array([[<matplotlib.axes._subplots.AxesSubplot object at 0x138fa3950>]], dtype=object)"
      ]
     },
     "execution_count": 47,
     "metadata": {},
     "output_type": "execute_result"
    },
    {
     "data": {
      "image/png": "[encoded data removed]",
      "text/plain": [
       "<matplotlib.figure.Figure at 0x136ac1750>"
      ]
     },
     "metadata": {},
     "output_type": "display_data"
    }
   ],
   "source": [
    "rounds.hist(column = 'announced_year',bins = 10, figsize = (20,8))"
   ]
  },
  {
   "cell_type": "code",
   "execution_count": 48,
   "metadata": {
    "collapsed": false
   },
   "outputs": [
    {
     "data": {
      "text/plain": [
       "array([[<matplotlib.axes._subplots.AxesSubplot object at 0x136bb1790>]], dtype=object)"
      ]
     },
     "execution_count": 48,
     "metadata": {},
     "output_type": "execute_result"
    },
    {
     "data": {
      "image/png": "[encoded data removed]",
      "text/plain": [
       "<matplotlib.figure.Figure at 0x136baa810>"
      ]
     },
     "metadata": {},
     "output_type": "display_data"
    }
   ],
   "source": [
    "rounds_df.hist(column = 'announced_year',bins = 27, figsize = (20,8))"
   ]
  },
  {
   "cell_type": "code",
   "execution_count": 49,
   "metadata": {
    "collapsed": false
   },
   "outputs": [
    {
     "data": {
      "text/plain": [
       "18184.05"
      ]
     },
     "execution_count": 49,
     "metadata": {},
     "output_type": "execute_result"
    }
   ],
   "source": [
    "rounds_df.shape[0] * 0.15"
   ]
  },
  {
   "cell_type": "code",
   "execution_count": null,
   "metadata": {
    "collapsed": true
   },
   "outputs": [],
   "source": []
  },
  {
   "cell_type": "code",
   "execution_count": 50,
   "metadata": {
    "collapsed": false
   },
   "outputs": [
    {
     "data": {
      "text/plain": [
       "17824"
      ]
     },
     "execution_count": 50,
     "metadata": {},
     "output_type": "execute_result"
    }
   ],
   "source": [
    "rounds_df[(rounds_df.announced_on >= '2015-08-01')].shape[0]"
   ]
  },
  {
   "cell_type": "markdown",
   "metadata": {},
   "source": [
    "## competitor"
   ]
  },
  {
   "cell_type": "code",
   "execution_count": 101,
   "metadata": {
    "collapsed": false
   },
   "outputs": [],
   "source": [
    "comps.drop_duplicates(['entity_uuid','competitor_uuid'],inplace = True)"
   ]
  },
  {
   "cell_type": "code",
   "execution_count": 109,
   "metadata": {
    "collapsed": false
   },
   "outputs": [],
   "source": [
    "comps_count = pd.DataFrame(comps.groupby('entity_uuid').size()).reset_index()\n",
    "comps_count.columns = ['entity_uuid','competitor_count']"
   ]
  },
  {
   "cell_type": "code",
   "execution_count": 110,
   "metadata": {
    "collapsed": false
   },
   "outputs": [
    {
     "data": {
      "text/plain": [
       "2.8965916347381864"
      ]
     },
     "execution_count": 110,
     "metadata": {},
     "output_type": "execute_result"
    }
   ],
   "source": [
    "np.mean(comps_count['competitor_count'])"
   ]
  },
  {
   "cell_type": "code",
   "execution_count": 117,
   "metadata": {
    "collapsed": false
   },
   "outputs": [
    {
     "data": {
      "text/plain": [
       "<matplotlib.axes._subplots.AxesSubplot at 0x136b6e3d0>"
      ]
     },
     "execution_count": 117,
     "metadata": {},
     "output_type": "execute_result"
    },
    {
     "data": {
      "image/png": "[encoded data removed]",
      "text/plain": [
       "<matplotlib.figure.Figure at 0x136b23690>"
      ]
     },
     "metadata": {},
     "output_type": "display_data"
    }
   ],
   "source": [
    "comps_count[comps_count.competitor_count <20].competitor_count.hist(bins = 21)"
   ]
  },
  {
   "cell_type": "code",
   "execution_count": null,
   "metadata": {
    "collapsed": true
   },
   "outputs": [],
   "source": []
  }
 ],
 "metadata": {
  "kernelspec": {
   "display_name": "Python 2",
   "language": "python",
   "name": "python2"
  },
  "language_info": {
   "codemirror_mode": {
    "name": "ipython",
    "version": 2
   },
   "file_extension": ".py",
   "mimetype": "text/x-python",
   "name": "python",
   "nbconvert_exporter": "python",
   "pygments_lexer": "ipython2",
   "version": "2.7.12"
  }
 },
 "nbformat": 4,
 "nbformat_minor": 0
}
