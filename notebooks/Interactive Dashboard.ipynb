{
 "cells": [
  {
   "cell_type": "code",
   "execution_count": 58,
   "metadata": {
    "collapsed": false
   },
   "outputs": [],
   "source": [
    "%matplotlib notebook\n",
    "import pandas as pd\n",
    "import matplotlib.pyplot as plt\n",
    "from ipywidgets import *\n",
    "from IPython.display import display\n",
    "from IPython.html import widgets\n",
    "import seaborn as sn\n",
    "import pickle\n",
    "from sklearn.feature_extraction.text import TfidfVectorizer\n",
    "from urlparse import urlparse\n",
    "from sklearn.metrics.pairwise import cosine_similarity\n",
    "from tabulate import tabulate\n",
    "import qgrid\n",
    "from IPython.display import clear_output\n",
    "\n",
    "qgrid.nbinstall(overwrite=True)\n"
   ]
  },
  {
   "cell_type": "code",
   "execution_count": 187,
   "metadata": {
    "collapsed": false
   },
   "outputs": [
    {
     "data": {
      "text/plain": [
       "'Organizations protect the sensitive documents they are aware of, \\nbut out-of-sight documents are left unprotected and may fall into the hands of insiders and hackers. \\nDocAuthority solves this by automatically discovering and accurately identifying unprotected sensitive documents, \\nthus enabling a broad yet business-friendly security policy.'"
      ]
     },
     "execution_count": 187,
     "metadata": {},
     "output_type": "execute_result"
    }
   ],
   "source": [
    "#test inputs:\n",
    "\n",
    "#company description:\n",
    "'''Organizations protect the sensitive documents they are aware of, \n",
    "but out-of-sight documents are left unprotected and may fall into the hands of insiders and hackers. \n",
    "DocAuthority solves this by automatically discovering and accurately identifying unprotected sensitive documents, \n",
    "thus enabling a broad yet business-friendly security policy.'''\n",
    "\n",
    "#company name: airbnb"
   ]
  },
  {
   "cell_type": "code",
   "execution_count": 2,
   "metadata": {
    "collapsed": false
   },
   "outputs": [],
   "source": [
    "#load data tables and models\n",
    "path = '/Users/Lucy/Google Drive/MSDS/2016Fall/DSGA1006/Data'\n",
    "\n",
    "#competition, investment files\n",
    "orgs = pd.read_csv(path + '/unsupervised/trunc_clustering.csv',index_col = 0)\n",
    "comps = pd.read_csv(path + '/csv_export/competitors.csv')\n",
    "rounds = pd.read_csv(path + '/csv_export/funding_rounds.csv')\n",
    "investors = pd.read_csv(path + '/csv_export/investors.csv')\n",
    "investments = pd.read_csv(path + '/csv_export/investments.csv')\n",
    "\n",
    "#load model\n",
    "vectorizer = TfidfVectorizer(max_df=0.5, max_features=10000, min_df=2, stop_words='english',use_idf=True)"
   ]
  },
  {
   "cell_type": "code",
   "execution_count": 194,
   "metadata": {
    "collapsed": false
   },
   "outputs": [],
   "source": [
    "def url_validator(x):\n",
    "    try:\n",
    "        result = urlparse(x)\n",
    "        if result.scheme == \"\" or result.netloc == \"\":\n",
    "            return False\n",
    "        else :\n",
    "            return True\n",
    "    except:\n",
    "        return False\n",
    "    \n",
    "def get_investors(companies,index = None):\n",
    "    def _investors(companies):\n",
    "        _rounds = rounds[rounds.company_uuid.isin(companies.company_uuid)]\n",
    "        _invests = investments[investments.funding_round_uuid.isin(_rounds.funding_round_uuid)]\n",
    "        _investors = pd.DataFrame(_invests.groupby('investor_uuid').size().sort_values(ascending = False)).reset_index()\n",
    "        _investors.columns = ['investor_uuid','relevant_investments']\n",
    "        rec_investors = investors[investors.uuid.isin(_investors.investor_uuid)]\n",
    "        rec_investors = pd.merge(rec_investors,_investors, left_on = 'uuid',right_on = 'investor_uuid')\n",
    "        rec_investors = rec_investors.sort_values('relevant_investments',ascending = False)\n",
    "        \n",
    "        return rec_investors\n",
    "        \n",
    "    if index == None:\n",
    "        clean_companies = companies.copy()\n",
    "        rec_investors = _investors(clean_companies)\n",
    "        comp_investors = None\n",
    "        \n",
    "    else:\n",
    "        _comps = comps[comps.entity_uuid == orgs.iloc[index].company_uuid]\n",
    "        clean_companies = companies[~companies.company_uuid.isin(_comps.competitor_uuid)]\n",
    "        comp_companies =  orgs[orgs.company_uuid.isin(_comps.competitor_uuid)]\n",
    "        \n",
    "        rec_investors = _investors(clean_companies)\n",
    "        comp_investors = _investors(comp_companies)\n",
    "        rec_investors = rec_investors[~rec_investors.uuid.isin(comp_investors.uuid)]    \n",
    "    \n",
    "    return rec_investors, comp_investors"
   ]
  },
  {
   "cell_type": "code",
   "execution_count": 193,
   "metadata": {
    "collapsed": false
   },
   "outputs": [
    {
     "name": "stdout",
     "output_type": "stream",
     "text": [
      "no investor recommended\n"
     ]
    }
   ],
   "source": [
    "title_1 = widgets.HTML(value = '<h2>Search Criteria</h2>')\n",
    "display(title_1)\n",
    "title_input_1 = widgets.HTML(value = '<h4>Or Enter company description</h4>')\n",
    "title_input_3 = widgets.HTML(value = '<h4>Enter company name</h4>')\n",
    "title = widgets.Text(\n",
    "    placeholder='company name',\n",
    "    disabled=False,\n",
    "    width = 800)\n",
    "desc = widgets.Textarea(\n",
    "    placeholder='company name or description',\n",
    "    disabled=False,\n",
    "    width = 800)\n",
    "title_input_2 = widgets.HTML(value = '<h4>Select max number of companies to return</h4>')\n",
    "max_companies = widgets.IntSlider(\n",
    "    value=30,\n",
    "    min=5,\n",
    "    max=100,\n",
    "    step=1,\n",
    "    disabled=False,\n",
    "    continuous_update=False,\n",
    "    orientation='horizontal',\n",
    "    readout=True,\n",
    "    readout_format='i',\n",
    "    slider_color='white')\n",
    "submit = widgets.Button(description=\"Submit\")\n",
    "clear = widgets.Button(description=\"Clear\")\n",
    "buttons = widgets.HBox(children = [submit, clear])\n",
    "name_box = widgets.VBox(children = [title_input_3,title])\n",
    "desc_box = widgets.VBox(children = [title_input_1,desc])\n",
    "limit_box = widgets.VBox(children = [title_input_2, max_companies])\n",
    "desc_box.layout.padding = 100\n",
    "inputs.margin=100\n",
    "input_container = widgets.Box(children=[name_box,desc_box, limit_box])\n",
    "display(input_container)\n",
    "display(buttons)\n",
    "\n",
    "companies_container = widgets.Box()\n",
    "display(companies_container)\n",
    "investors_container = widgets.Box()\n",
    "display(investors_container)\n",
    "comp_investors_container = widgets.Box()\n",
    "display(comp_investors_container)\n",
    "\n",
    "def handle_submit(sender):\n",
    "    if title.value != \"\":\n",
    "        orgs['lower_company_name'] = orgs.company_name.str.lower()\n",
    "        reset_orgs = orgs.reset_index()\n",
    "        index_value = reset_orgs[reset_orgs['lower_company_name'].str.contains(title.value.lower(),na=False)].index[0]\n",
    "        X = vectorizer.fit_transform(orgs.description.astype(str))\n",
    "        results = cosine_similarity(X[index_value:index_value+1], X).flatten()\n",
    "        indices = results.argsort()[::-1][1:31]\n",
    "\n",
    "    elif desc.value != \"\":\n",
    "        all_text = [desc.value] + list(orgs.description.astype(str))\n",
    "        X = vectorizer.fit_transform(all_text)\n",
    "        related_indices = cosine_similarity(X[0:1], X).flatten().argsort()[::-1][1:31]\n",
    "        indices = [x - 1 for x in related_indices]\n",
    "        index_value = None\n",
    "    \n",
    "    most_similar = orgs.iloc[indices]\n",
    "\n",
    "    title_2 = widgets.HTML(value = '<h2>Similar Companies</h2>')\n",
    "    #pd.set_option('display.max_colwidth', -1)\n",
    "    company_output = most_similar[['company_name','short_description','founded_on','homepage_url']]\n",
    "    _companies = qgrid.QGridWidget(df=company_output)\n",
    "    \n",
    "    companies_container.children=[title_2, _companies]\n",
    "    \n",
    "    try:\n",
    "        rec_investors, comp_investors = get_investors(most_similar,index = index_value)\n",
    "        investor_output = rec_investors[['investor_name','country_code','investor_type','relevant_investments']]\n",
    "        title_3 = widgets.HTML(value = '<h2>Recommended Investors</h2>')\n",
    "        _investors = qgrid.QGridWidget(df=investor_output)\n",
    "        investors_container.children = [title_3, _investors]\n",
    "        \n",
    "        if title.value != \"\":\n",
    "            competitor_investor_output = comp_investors[['investor_name',\n",
    "                                                'country_code','investor_type','relevant_investments']]\n",
    "            title_4 = widgets.HTML(value = '<h2>Investors invested in competitive companies</h2>')\n",
    "            _comp_investors = qgrid.QGridWidget(df=competitor_investor_output)\n",
    "            comp_investors_container.children = [title_4, _comp_investors]\n",
    "    except:\n",
    "        print \"no investor recommended\"\n",
    "\n",
    "submit.on_click(handle_submit)\n"
   ]
  },
  {
   "cell_type": "code",
   "execution_count": null,
   "metadata": {
    "collapsed": true
   },
   "outputs": [],
   "source": []
  }
 ],
 "metadata": {
  "kernelspec": {
   "display_name": "Python 2",
   "language": "python",
   "name": "python2"
  },
  "language_info": {
   "codemirror_mode": {
    "name": "ipython",
    "version": 2
   },
   "file_extension": ".py",
   "mimetype": "text/x-python",
   "name": "python",
   "nbconvert_exporter": "python",
   "pygments_lexer": "ipython2",
   "version": "2.7.12"
  },
  "widgets": {
   "state": {
    "2e0dff30c00541628498b24fd25f5878": {
     "views": [
      {
       "cell_index": 3
      }
     ]
    },
    "5c88739f71db4e11859cff780359f2c3": {
     "views": [
      {
       "cell_index": 3
      }
     ]
    },
    "73670af448dc46cf8bcb48b8bc3bb3dd": {
     "views": [
      {
       "cell_index": 3
      }
     ]
    },
    "7e48513bf95446f79f2b2871644e77fe": {
     "views": [
      {
       "cell_index": 3
      }
     ]
    },
    "b71b9c743bdd4169bdaeea4510f31ead": {
     "views": [
      {
       "cell_index": 3
      }
     ]
    }
   },
   "version": "1.2.0"
  }
 },
 "nbformat": 4,
 "nbformat_minor": 0
}
