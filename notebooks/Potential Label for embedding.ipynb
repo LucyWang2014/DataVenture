{
 "cells": [
  {
   "cell_type": "code",
   "execution_count": 1,
   "metadata": {
    "collapsed": true
   },
   "outputs": [],
   "source": [
    "import pandas as pd\n",
    "import numpy as np"
   ]
  },
  {
   "cell_type": "code",
   "execution_count": 4,
   "metadata": {
    "collapsed": false
   },
   "outputs": [],
   "source": [
    "mypath = '/Users/Lucy/Google Drive/MSDS/2016Fall/DSGA1006/Data'\n",
    "df = pd.read_csv(mypath + '/csv_export/organizations.csv', low_memory = False)"
   ]
  },
  {
   "cell_type": "code",
   "execution_count": 6,
   "metadata": {
    "collapsed": false
   },
   "outputs": [
    {
     "data": {
      "text/plain": [
       "company_name                                                   Soko Glam\n",
       "primary_role                                                     company\n",
       "domain                                                      sokoglam.com\n",
       "homepage_url                                     http://www.sokoglam.com\n",
       "country_code                                                         USA\n",
       "state_code                                                            NY\n",
       "region                                                     New York City\n",
       "city                                                            New York\n",
       "zipcode                                                              NaN\n",
       "address                                                              NaN\n",
       "status                                                         operating\n",
       "short_description      An eCommerce beauty shop that thoughtfully cur...\n",
       "category_list                                beauty|cosmetics|e-commerce\n",
       "category_group_list                 commerce and shopping|consumer goods\n",
       "funding_rounds                                                         1\n",
       "funding_total_usd                                                  50000\n",
       "founded_on                                                    2012-12-01\n",
       "first_funding_on                                              0001-05-15\n",
       "last_funding_on                                               0001-05-15\n",
       "closed_on                                                            NaN\n",
       "employee_count                                                         -\n",
       "email                                                                NaN\n",
       "phone                                                                NaN\n",
       "facebook_url                            http://www.facebook.com/sokoglam\n",
       "cb_url                 https://www.crunchbase.com/organization/soko-glam\n",
       "logo_url               https://www.crunchbase.com/organization/soko-g...\n",
       "profile_image_url      http://public.crunchbase.com/t_api_images/v139...\n",
       "twitter_url                             https://www.twitter.com/sokoglam\n",
       "uuid                                ae274356-131d-e2ca-32fc-ea5badc3ea12\n",
       "created_at                                           2014-05-07 17:50:00\n",
       "updated_at                                    2016-08-23 20:21:56.740226\n",
       "Name: 0, dtype: object"
      ]
     },
     "execution_count": 6,
     "metadata": {},
     "output_type": "execute_result"
    }
   ],
   "source": [
    "df.loc[0]"
   ]
  },
  {
   "cell_type": "code",
   "execution_count": null,
   "metadata": {
    "collapsed": true
   },
   "outputs": [],
   "source": []
  }
 ],
 "metadata": {
  "kernelspec": {
   "display_name": "Python 2",
   "language": "python",
   "name": "python2"
  },
  "language_info": {
   "codemirror_mode": {
    "name": "ipython",
    "version": 2
   },
   "file_extension": ".py",
   "mimetype": "text/x-python",
   "name": "python",
   "nbconvert_exporter": "python",
   "pygments_lexer": "ipython2",
   "version": "2.7.12"
  }
 },
 "nbformat": 4,
 "nbformat_minor": 1
}
