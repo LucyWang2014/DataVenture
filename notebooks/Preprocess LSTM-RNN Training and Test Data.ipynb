{
 "cells": [
  {
   "cell_type": "code",
   "execution_count": 1,
   "metadata": {
    "collapsed": false
   },
   "outputs": [
    {
     "name": "stderr",
     "output_type": "stream",
     "text": [
      "/Users/Lucy/anaconda/envs/capstone/lib/python2.7/site-packages/sklearn/cross_validation.py:44: DeprecationWarning: This module was deprecated in version 0.18 in favor of the model_selection module into which all the refactored classes and functions are moved. Also note that the interface of the new CV iterators are different from that of this module. This module will be removed in 0.20.\n",
      "  \"This module will be removed in 0.20.\", DeprecationWarning)\n"
     ]
    }
   ],
   "source": [
    "import pandas as pd\n",
    "import numpy as np\n",
    "import pandas as pd\n",
    "import numpy as np\n",
    "import matplotlib.pyplot as plt\n",
    "import seaborn as sn\n",
    "import pickle\n",
    "from sklearn.cross_validation import train_test_split\n",
    "import itertools\n",
    "import nltk\n",
    "from nltk.corpus import stopwords\n",
    "import unicodedata\n",
    "import sys\n",
    "%matplotlib inline "
   ]
  },
  {
   "cell_type": "code",
   "execution_count": 23,
   "metadata": {
    "collapsed": false
   },
   "outputs": [],
   "source": [
    "mypath = '/Users/Lucy/Google Drive/MSDS/2016Fall/DSGA1006/Data'\n",
    "f = open(mypath + '/lstm-rnn/lstm_data.pickle','rb')\n",
    "X_train, X_test, y_train, y_test = pickle.load(f)\n",
    "f.close()"
   ]
  },
  {
   "cell_type": "code",
   "execution_count": 24,
   "metadata": {
    "collapsed": true
   },
   "outputs": [],
   "source": [
    "train_description = X_train.clean_description.copy()\n",
    "test_description = X_test.clean_description.copy()\n",
    "#train_description = [word for word in train_description if word not in stopwords.words('english')]\n",
    "#test_description = [word for word in test_description if word not in stopwords.words('english')]"
   ]
  },
  {
   "cell_type": "code",
   "execution_count": 25,
   "metadata": {
    "collapsed": true
   },
   "outputs": [],
   "source": [
    "vocabulary_size = 5000\n",
    "unknown_token = \"UNKNOWNTOKEN\"\n",
    "sentence_start_token = \"SENTENCESTART\"\n",
    "sentence_end_token = \"SENTENCEEND\""
   ]
  },
  {
   "cell_type": "code",
   "execution_count": 26,
   "metadata": {
    "collapsed": false,
    "scrolled": true
   },
   "outputs": [],
   "source": [
    "# Split full descriptions into sentences\n",
    "sentences = itertools.chain(*[[nltk.sent_tokenize(x.decode('utf-8').lower())] for x in train_description])\n",
    "mod_sentences = []\n",
    "for desc in sentences:\n",
    "    full_desc = \"\"\n",
    "    for x in desc:\n",
    "        s = \"%s %s %s \" % (sentence_start_token, x, sentence_end_token)\n",
    "        full_desc = full_desc + s\n",
    "    mod_sentences.append(full_desc)"
   ]
  },
  {
   "cell_type": "code",
   "execution_count": 27,
   "metadata": {
    "collapsed": true
   },
   "outputs": [],
   "source": [
    "def strip_punctuation(text):\n",
    "    \"\"\"\n",
    "    >>> strip_punctuation(u'something')\n",
    "    u'something'\n",
    "\n",
    "    >>> strip_punctuation(u'something.,:else really')\n",
    "    u'somethingelse really'\n",
    "    \"\"\"\n",
    "    punctutation_cats = set(['Pc', 'Pd', 'Ps', 'Pe', 'Pi', 'Pf', 'Po'])\n",
    "    return ''.join(x for x in text\n",
    "                   if unicodedata.category(x) not in punctutation_cats)"
   ]
  },
  {
   "cell_type": "code",
   "execution_count": 28,
   "metadata": {
    "collapsed": false
   },
   "outputs": [],
   "source": [
    "mod_sentences = map(strip_punctuation, mod_sentences)"
   ]
  },
  {
   "cell_type": "code",
   "execution_count": 29,
   "metadata": {
    "collapsed": false
   },
   "outputs": [
    {
     "name": "stdout",
     "output_type": "stream",
     "text": [
      "SENTENCESTART cytori therapeutics inc is dedicated to developing and delivering innovative cellbased therapies to improve the quality and length of life SENTENCEEND SENTENCESTART we are a global public company engaged in the development and commercialization of stem and regenerative cell therapies for the treatment of cardiovascular disease reconstructive surgery and other serious chronic and life threatening conditions SENTENCEEND \n",
      "\n",
      "SENTENCESTART avva is a personal online application that helps women who have been diagnosed with breast cancer prepare for important medical appointments SENTENCEEND SENTENCESTART avvas vision is to empower and support patients by providing an online tool that serves as a comprehensive home base for breast cancer treatment  one that helps patients address the organizational emotional social and medical components of treatment SENTENCEEND SENTENCESTART avva is a personal advocate that gives patients tools to take a more active role in their own treatment SENTENCEEND SENTENCESTART avvas visit preparation service is the first step on the path to this vision SENTENCEEND SENTENCESTART the founders time spent working closely with patients has led them to focus first and foremost on improving patient experience maintaining an absolute dedication to serving patients above and beyond any other parties in the healthcare system SENTENCEEND SENTENCESTART the evolution of avvas functionality and design has been driven almost exclusively by countless interviews and feedback sessions with breast cancer survivors SENTENCEEND SENTENCESTART the result is a simple intuitive tool that the team at avva believes can have a tremendously positive impact on any patient undergoing breast cancer treatment SENTENCEEND \n",
      "\n",
      "SENTENCESTART wellpath is a new york based startup that delivers an innovative solution to personalized modern wellness SENTENCEEND SENTENCESTART by taking advanced nutritional scientific research available and applying inhouse expertise and proprietary technology wellpath formulates truly customized nutritional solutions with ingredients selected for the specific needs and goals of a customer SENTENCEEND SENTENCESTART by providing ingredients based on substantiated scientific research wellpath aims to empower the consumer and aid them in their personal journey to a healthier life SENTENCEEND SENTENCESTART they firmly believe that one individuals body is not the same as their friends or spouses so they shouldnt take things just because others in their life do SENTENCEEND \n",
      "\n",
      "SENTENCESTART diveling is a company that brings services to the reader based on the context of the page they are on SENTENCEEND SENTENCESTART we make the page more rich and responsive more entertaining SENTENCEEND SENTENCESTART combining annotation with a search engine and social network capabilities we change the web page from a bunch of text with hyperlinks to a dynamic and social page SENTENCEEND SENTENCESTART you can write on the page exchange ideas follow ideas or discover extra information brought by the search engine just by highlighting the text of interest SENTENCEEND SENTENCESTART we bring all the dimensions of what the internet really is to the page you are reading SENTENCEEND SENTENCESTART diveling brings improved productivity contextual collaboration and intuitive emarketing capabilities SENTENCEEND \n",
      "\n",
      "SENTENCESTART handsfree networks is a global provider of software and services that automate the resolution of technology problems SENTENCEEND SENTENCESTART as a result technology critical to realtime businesses  as well as technology and related services that consumers have come to rely upon  work as planned SENTENCEEND SENTENCESTART handsfree networks solutions all take advantage of patented functionality in its support automation software platform which provides the ability to precisely identify diagnose and resolve technical problems via proactive self or assisted service solutions SENTENCEEND \n",
      "\n"
     ]
    }
   ],
   "source": [
    "for i in mod_sentences[:5]:\n",
    "    print i + '\\n'"
   ]
  },
  {
   "cell_type": "code",
   "execution_count": 30,
   "metadata": {
    "collapsed": false
   },
   "outputs": [],
   "source": [
    "tokenized_sentences = [nltk.word_tokenize(sent) for sent in mod_sentences]"
   ]
  },
  {
   "cell_type": "code",
   "execution_count": 31,
   "metadata": {
    "collapsed": false
   },
   "outputs": [
    {
     "name": "stdout",
     "output_type": "stream",
     "text": [
      "[u'SENTENCESTART', u'cytori', u'therapeutics', u'inc', u'is', u'dedicated', u'to', u'developing', u'and', u'delivering', u'innovative', u'cellbased', u'therapies', u'to', u'improve', u'the', u'quality', u'and', u'length', u'of', u'life', u'SENTENCEEND', u'SENTENCESTART', u'we', u'are', u'a', u'global', u'public', u'company', u'engaged', u'in', u'the', u'development', u'and', u'commercialization', u'of', u'stem', u'and', u'regenerative', u'cell', u'therapies', u'for', u'the', u'treatment', u'of', u'cardiovascular', u'disease', u'reconstructive', u'surgery', u'and', u'other', u'serious', u'chronic', u'and', u'life', u'threatening', u'conditions', u'SENTENCEEND']\n",
      "[u'SENTENCESTART', u'avva', u'is', u'a', u'personal', u'online', u'application', u'that', u'helps', u'women', u'who', u'have', u'been', u'diagnosed', u'with', u'breast', u'cancer', u'prepare', u'for', u'important', u'medical', u'appointments', u'SENTENCEEND', u'SENTENCESTART', u'avvas', u'vision', u'is', u'to', u'empower', u'and', u'support', u'patients', u'by', u'providing', u'an', u'online', u'tool', u'that', u'serves', u'as', u'a', u'comprehensive', u'home', u'base', u'for', u'breast', u'cancer', u'treatment', u'one', u'that', u'helps', u'patients', u'address', u'the', u'organizational', u'emotional', u'social', u'and', u'medical', u'components', u'of', u'treatment', u'SENTENCEEND', u'SENTENCESTART', u'avva', u'is', u'a', u'personal', u'advocate', u'that', u'gives', u'patients', u'tools', u'to', u'take', u'a', u'more', u'active', u'role', u'in', u'their', u'own', u'treatment', u'SENTENCEEND', u'SENTENCESTART', u'avvas', u'visit', u'preparation', u'service', u'is', u'the', u'first', u'step', u'on', u'the', u'path', u'to', u'this', u'vision', u'SENTENCEEND', u'SENTENCESTART', u'the', u'founders', u'time', u'spent', u'working', u'closely', u'with', u'patients', u'has', u'led', u'them', u'to', u'focus', u'first', u'and', u'foremost', u'on', u'improving', u'patient', u'experience', u'maintaining', u'an', u'absolute', u'dedication', u'to', u'serving', u'patients', u'above', u'and', u'beyond', u'any', u'other', u'parties', u'in', u'the', u'healthcare', u'system', u'SENTENCEEND', u'SENTENCESTART', u'the', u'evolution', u'of', u'avvas', u'functionality', u'and', u'design', u'has', u'been', u'driven', u'almost', u'exclusively', u'by', u'countless', u'interviews', u'and', u'feedback', u'sessions', u'with', u'breast', u'cancer', u'survivors', u'SENTENCEEND', u'SENTENCESTART', u'the', u'result', u'is', u'a', u'simple', u'intuitive', u'tool', u'that', u'the', u'team', u'at', u'avva', u'believes', u'can', u'have', u'a', u'tremendously', u'positive', u'impact', u'on', u'any', u'patient', u'undergoing', u'breast', u'cancer', u'treatment', u'SENTENCEEND']\n",
      "[u'SENTENCESTART', u'wellpath', u'is', u'a', u'new', u'york', u'based', u'startup', u'that', u'delivers', u'an', u'innovative', u'solution', u'to', u'personalized', u'modern', u'wellness', u'SENTENCEEND', u'SENTENCESTART', u'by', u'taking', u'advanced', u'nutritional', u'scientific', u'research', u'available', u'and', u'applying', u'inhouse', u'expertise', u'and', u'proprietary', u'technology', u'wellpath', u'formulates', u'truly', u'customized', u'nutritional', u'solutions', u'with', u'ingredients', u'selected', u'for', u'the', u'specific', u'needs', u'and', u'goals', u'of', u'a', u'customer', u'SENTENCEEND', u'SENTENCESTART', u'by', u'providing', u'ingredients', u'based', u'on', u'substantiated', u'scientific', u'research', u'wellpath', u'aims', u'to', u'empower', u'the', u'consumer', u'and', u'aid', u'them', u'in', u'their', u'personal', u'journey', u'to', u'a', u'healthier', u'life', u'SENTENCEEND', u'SENTENCESTART', u'they', u'firmly', u'believe', u'that', u'one', u'individuals', u'body', u'is', u'not', u'the', u'same', u'as', u'their', u'friends', u'or', u'spouses', u'so', u'they', u'shouldnt', u'take', u'things', u'just', u'because', u'others', u'in', u'their', u'life', u'do', u'SENTENCEEND']\n"
     ]
    }
   ],
   "source": [
    "for i in tokenized_sentences[:3]:\n",
    "    print i"
   ]
  },
  {
   "cell_type": "code",
   "execution_count": 32,
   "metadata": {
    "collapsed": false,
    "scrolled": true
   },
   "outputs": [
    {
     "name": "stdout",
     "output_type": "stream",
     "text": [
      "Found 74070 unique words tokens.\n"
     ]
    }
   ],
   "source": [
    "# Count the word frequencies\n",
    "word_freq = nltk.FreqDist(itertools.chain(*tokenized_sentences))\n",
    "print \"Found %d unique words tokens.\" % len(word_freq.items())"
   ]
  },
  {
   "cell_type": "code",
   "execution_count": 10,
   "metadata": {
    "collapsed": false
   },
   "outputs": [],
   "source": [
    "#word_freq = sorted(word_freq.items(), key=lambda i: i[1], reverse=True)"
   ]
  },
  {
   "cell_type": "code",
   "execution_count": 33,
   "metadata": {
    "collapsed": false
   },
   "outputs": [
    {
     "name": "stdout",
     "output_type": "stream",
     "text": [
      "Using vocabulary size 5000.\n",
      "The least frequent word in our vocabulary is 'ar' and appeared 25 times.\n"
     ]
    }
   ],
   "source": [
    "# Get the most common words and build index_to_word and word_to_index vectors\n",
    "vocab = word_freq.most_common(vocabulary_size-1)\n",
    "index_to_word = [x[0] for x in vocab]\n",
    "index_to_word.append(unknown_token)\n",
    "word_to_index = dict([(w,i) for i,w in enumerate(index_to_word)])\n",
    "\n",
    "print \"Using vocabulary size %d.\" % vocabulary_size\n",
    "print \"The least frequent word in our vocabulary is '%s' and appeared %d times.\" % (vocab[-1][0], vocab[-1][1])\n",
    "\n",
    "# Replace all words not in our vocabulary with the unknown token\n",
    "for i, sent in enumerate(tokenized_sentences):\n",
    "    tokenized_sentences[i] = [w if w in word_to_index else unknown_token for w in sent]\n",
    "    \n"
   ]
  },
  {
   "cell_type": "code",
   "execution_count": 34,
   "metadata": {
    "collapsed": false
   },
   "outputs": [
    {
     "data": {
      "text/plain": [
       "{u'SENTENCEEND': 1, u'and': 0}"
      ]
     },
     "execution_count": 34,
     "metadata": {},
     "output_type": "execute_result"
    }
   ],
   "source": [
    "{word_to_index.keys()[word_to_index.values().index(k)]: k for k in sorted(word_to_index.values())[:2]}"
   ]
  },
  {
   "cell_type": "code",
   "execution_count": null,
   "metadata": {
    "collapsed": true
   },
   "outputs": [],
   "source": []
  }
 ],
 "metadata": {
  "kernelspec": {
   "display_name": "Python 2",
   "language": "python",
   "name": "python2"
  },
  "language_info": {
   "codemirror_mode": {
    "name": "ipython",
    "version": 2
   },
   "file_extension": ".py",
   "mimetype": "text/x-python",
   "name": "python",
   "nbconvert_exporter": "python",
   "pygments_lexer": "ipython2",
   "version": "2.7.12"
  }
 },
 "nbformat": 4,
 "nbformat_minor": 0
}
