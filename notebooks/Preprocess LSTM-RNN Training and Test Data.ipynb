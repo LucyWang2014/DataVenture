{
 "cells": [
  {
   "cell_type": "code",
   "execution_count": 164,
   "metadata": {
    "collapsed": false
   },
   "outputs": [],
   "source": [
    "import pandas as pd\n",
    "import numpy as np\n",
    "import pandas as pd\n",
    "import numpy as np\n",
    "import matplotlib.pyplot as plt\n",
    "import seaborn as sn\n",
    "import pickle\n",
    "from sklearn.cross_validation import train_test_split\n",
    "import itertools\n",
    "import nltk\n",
    "from nltk.corpus import stopwords\n",
    "import unicodedata\n",
    "import sys\n",
    "%matplotlib inline "
   ]
  },
  {
   "cell_type": "code",
   "execution_count": 44,
   "metadata": {
    "collapsed": false
   },
   "outputs": [],
   "source": [
    "mypath = '/Users/Lucy/Google Drive/MSDS/2016Fall/DSGA1006/Data'\n",
    "f = open(mypath + '/lstm-rnn/lstm_data.pickle','rb')\n",
    "X_train, X_test, y_train, y_test = pickle.load(f)\n",
    "f.close()"
   ]
  },
  {
   "cell_type": "code",
   "execution_count": 181,
   "metadata": {
    "collapsed": true
   },
   "outputs": [],
   "source": [
    "train_description = X_train.clean_description.copy()\n",
    "test_description = X_test.clean_description.copy()\n",
    "#train_description = [word for word in train_description if word not in stopwords.words('english')]\n",
    "#test_description = [word for word in test_description if word not in stopwords.words('english')]"
   ]
  },
  {
   "cell_type": "code",
   "execution_count": 182,
   "metadata": {
    "collapsed": true
   },
   "outputs": [],
   "source": [
    "vocabulary_size = 50000\n",
    "unknown_token = \"UNKNOWNTOKEN\"\n",
    "sentence_start_token = \"SENTENCESTART\"\n",
    "sentence_end_token = \"SENTENCEEND\""
   ]
  },
  {
   "cell_type": "code",
   "execution_count": 183,
   "metadata": {
    "collapsed": false,
    "scrolled": true
   },
   "outputs": [],
   "source": [
    "# Split full descriptions into sentences\n",
    "sentences = itertools.chain(*[[nltk.sent_tokenize(x.decode('utf-8').lower())] for x in train_description])\n",
    "mod_sentences = []\n",
    "for desc in sentences:\n",
    "    full_desc = \"\"\n",
    "    for x in desc:\n",
    "        s = \"%s %s %s \" % (sentence_start_token, x, sentence_end_token)\n",
    "        full_desc = full_desc + s\n",
    "    mod_sentences.append(full_desc)"
   ]
  },
  {
   "cell_type": "code",
   "execution_count": 184,
   "metadata": {
    "collapsed": true
   },
   "outputs": [],
   "source": [
    "def strip_punctuation(text):\n",
    "    \"\"\"\n",
    "    >>> strip_punctuation(u'something')\n",
    "    u'something'\n",
    "\n",
    "    >>> strip_punctuation(u'something.,:else really')\n",
    "    u'somethingelse really'\n",
    "    \"\"\"\n",
    "    punctutation_cats = set(['Pc', 'Pd', 'Ps', 'Pe', 'Pi', 'Pf', 'Po'])\n",
    "    return ''.join(x for x in text\n",
    "                   if unicodedata.category(x) not in punctutation_cats)"
   ]
  },
  {
   "cell_type": "code",
   "execution_count": 185,
   "metadata": {
    "collapsed": false
   },
   "outputs": [],
   "source": [
    "mod_sentences = map(strip_punctuation, mod_sentences)"
   ]
  },
  {
   "cell_type": "code",
   "execution_count": 186,
   "metadata": {
    "collapsed": false
   },
   "outputs": [],
   "source": [
    "tokenized_sentences = [nltk.word_tokenize(sent) for sent in mod_sentences]"
   ]
  },
  {
   "cell_type": "code",
   "execution_count": 187,
   "metadata": {
    "collapsed": false
   },
   "outputs": [
    {
     "name": "stdout",
     "output_type": "stream",
     "text": [
      "Found 141209 unique words tokens.\n"
     ]
    }
   ],
   "source": [
    "# Count the word frequencies\n",
    "word_freq = nltk.FreqDist(itertools.chain(*tokenized_sentences))\n",
    "print \"Found %d unique words tokens.\" % len(word_freq.items())"
   ]
  },
  {
   "cell_type": "code",
   "execution_count": 193,
   "metadata": {
    "collapsed": false
   },
   "outputs": [],
   "source": [
    "word_freq = sorted(word_freq.items(), key=lambda i: i[1], reverse=True)"
   ]
  },
  {
   "cell_type": "code",
   "execution_count": 189,
   "metadata": {
    "collapsed": false
   },
   "outputs": [
    {
     "name": "stdout",
     "output_type": "stream",
     "text": [
      "Using vocabulary size 50000.\n",
      "The least frequent word in our vocabulary is 'smartmenucard' and appeared 2 times.\n"
     ]
    }
   ],
   "source": [
    "# Get the most common words and build index_to_word and word_to_index vectors\n",
    "vocab = word_freq.most_common(vocabulary_size-1)\n",
    "index_to_word = [x[0] for x in vocab]\n",
    "index_to_word.append(unknown_token)\n",
    "word_to_index = dict([(w,i) for i,w in enumerate(index_to_word)])\n",
    "\n",
    "print \"Using vocabulary size %d.\" % vocabulary_size\n",
    "print \"The least frequent word in our vocabulary is '%s' and appeared %d times.\" % (vocab[-1][0], vocab[-1][1])\n",
    "\n",
    "# Replace all words not in our vocabulary with the unknown token\n",
    "for i, sent in enumerate(tokenized_sentences):\n",
    "    tokenized_sentences[i] = [w if w in word_to_index else unknown_token for w in sent]\n",
    "    \n"
   ]
  },
  {
   "cell_type": "code",
   "execution_count": 202,
   "metadata": {
    "collapsed": false
   },
   "outputs": [
    {
     "data": {
      "text/plain": [
       "[0, 1]"
      ]
     },
     "execution_count": 202,
     "metadata": {},
     "output_type": "execute_result"
    }
   ],
   "source": [
    "word_to_index."
   ]
  },
  {
   "cell_type": "code",
   "execution_count": 205,
   "metadata": {
    "collapsed": false
   },
   "outputs": [
    {
     "data": {
      "text/plain": [
       "{u'SENTENCEEND': 1, u'and': 0}"
      ]
     },
     "execution_count": 205,
     "metadata": {},
     "output_type": "execute_result"
    }
   ],
   "source": [
    "{word_to_index.keys()[word_to_index.values().index(k)]: k for k in sorted(word_to_index.values())[:2]}"
   ]
  },
  {
   "cell_type": "code",
   "execution_count": 145,
   "metadata": {
    "collapsed": false
   },
   "outputs": [
    {
     "data": {
      "text/plain": [
       "[u'SENTENCE_START',\n",
       " 'UNKNOWN_TOKEN',\n",
       " u'technologies',\n",
       " u'is',\n",
       " u'a',\n",
       " u'sensor',\n",
       " u'and',\n",
       " u'services',\n",
       " u'company',\n",
       " u'focused',\n",
       " u'on',\n",
       " u'home',\n",
       " u'safety',\n",
       " u',',\n",
       " u'security',\n",
       " u',',\n",
       " u'and',\n",
       " u'loss',\n",
       " u'prevention',\n",
       " u'.',\n",
       " u'SENTENCE_END',\n",
       " u'SENTENCE_START',\n",
       " u'their',\n",
       " u'customers',\n",
       " u'use',\n",
       " u'their',\n",
       " u'devices',\n",
       " u',',\n",
       " u'in',\n",
       " u'connection',\n",
       " u'with',\n",
       " u'their',\n",
       " u'monitoring',\n",
       " u'service',\n",
       " u',',\n",
       " u'to',\n",
       " u'discover',\n",
       " u'and',\n",
       " u'alert',\n",
       " u'themselves',\n",
       " u'when',\n",
       " u'a',\n",
       " u'hazardous',\n",
       " u'event',\n",
       " u'occurs',\n",
       " u'in',\n",
       " u'their',\n",
       " u'home',\n",
       " u'.',\n",
       " u'SENTENCE_END',\n",
       " u'SENTENCE_START',\n",
       " 'UNKNOWN_TOKEN',\n",
       " u'(',\n",
       " u'sensor',\n",
       " u'network',\n",
       " u'utilizing',\n",
       " u'powerline',\n",
       " u'infrastructure',\n",
       " u')',\n",
       " u'technology',\n",
       " u'is',\n",
       " u'an',\n",
       " u'ultra-low-power',\n",
       " u',',\n",
       " u'general-purpose',\n",
       " u'wireless',\n",
       " u'sensing',\n",
       " u'platform',\n",
       " u'that',\n",
       " u'is',\n",
       " u'easily',\n",
       " u'used',\n",
       " u'and',\n",
       " u'maintained',\n",
       " u'by',\n",
       " u'leveraging',\n",
       " u'the',\n",
       " u'existing',\n",
       " u'electrical',\n",
       " u'wiring',\n",
       " u'as',\n",
       " u'a',\n",
       " u'whole',\n",
       " u'home',\n",
       " u'antenna',\n",
       " u'.',\n",
       " u'SENTENCE_END',\n",
       " u'SENTENCE_START',\n",
       " u'their',\n",
       " u'first',\n",
       " u'product',\n",
       " u',',\n",
       " 'UNKNOWN_TOKEN',\n",
       " u',',\n",
       " u'specifically',\n",
       " u'detects',\n",
       " u'environmental',\n",
       " u'hazards',\n",
       " u'by',\n",
       " u'monitoring',\n",
       " u'moisture',\n",
       " u',',\n",
       " u'temperature',\n",
       " u'and',\n",
       " u'humidity',\n",
       " u'changes',\n",
       " u'.',\n",
       " u'SENTENCE_END',\n",
       " u'SENTENCE_START',\n",
       " u'simply',\n",
       " u'place',\n",
       " u'sensors',\n",
       " u'with',\n",
       " u'your',\n",
       " u'appliances',\n",
       " u'or',\n",
       " u'in',\n",
       " 'UNKNOWN_TOKEN',\n",
       " u'spaces',\n",
       " u'and',\n",
       " u'wally',\n",
       " u'will',\n",
       " u'alert',\n",
       " u'you',\n",
       " u'of',\n",
       " u'impending',\n",
       " u'disasters',\n",
       " u'or',\n",
       " u'damages',\n",
       " u'as',\n",
       " u'soon',\n",
       " u'as',\n",
       " u'they',\n",
       " u'occur',\n",
       " u'.',\n",
       " u'SENTENCE_END',\n",
       " u'SENTENCE_START',\n",
       " u'a',\n",
       " u'text',\n",
       " u',',\n",
       " u'push',\n",
       " u'notification',\n",
       " u'or',\n",
       " u'email',\n",
       " u'from',\n",
       " u'wally',\n",
       " u'will',\n",
       " u'help',\n",
       " u'you',\n",
       " u'avoid',\n",
       " u'costly',\n",
       " u'repairs',\n",
       " u',',\n",
       " u'mold',\n",
       " u'and',\n",
       " u'property',\n",
       " u'loss',\n",
       " u'.',\n",
       " u'SENTENCE_END',\n",
       " u'SENTENCE_START',\n",
       " u'with',\n",
       " u'wally',\n",
       " u',',\n",
       " u'you',\n",
       " u'will',\n",
       " u'always',\n",
       " u'be',\n",
       " u'in',\n",
       " u'the',\n",
       " u'know',\n",
       " u'about',\n",
       " u'the',\n",
       " u'health',\n",
       " u'of',\n",
       " u'your',\n",
       " u'home',\n",
       " u'.',\n",
       " u'SENTENCE_END']"
      ]
     },
     "execution_count": 145,
     "metadata": {},
     "output_type": "execute_result"
    }
   ],
   "source": [
    "tokenized_sentences[0]"
   ]
  },
  {
   "cell_type": "code",
   "execution_count": null,
   "metadata": {
    "collapsed": true
   },
   "outputs": [],
   "source": [
    "X_train = np.asarray([[word_to_index[w] for w in sent[:-1]] for sent in tokenized_sentences])\n"
   ]
  }
 ],
 "metadata": {
  "kernelspec": {
   "display_name": "Python 2",
   "language": "python",
   "name": "python2"
  },
  "language_info": {
   "codemirror_mode": {
    "name": "ipython",
    "version": 2
   },
   "file_extension": ".py",
   "mimetype": "text/x-python",
   "name": "python",
   "nbconvert_exporter": "python",
   "pygments_lexer": "ipython2",
   "version": "2.7.11"
  }
 },
 "nbformat": 4,
 "nbformat_minor": 0
}
