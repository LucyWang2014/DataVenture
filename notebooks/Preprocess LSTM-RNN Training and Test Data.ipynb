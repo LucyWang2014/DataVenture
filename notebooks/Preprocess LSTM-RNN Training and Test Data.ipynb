{
 "cells": [
  {
   "cell_type": "code",
   "execution_count": 38,
   "metadata": {
    "collapsed": true
   },
   "outputs": [],
   "source": [
    "import pandas as pd\n",
    "import numpy as np\n",
    "import pandas as pd\n",
    "import numpy as np\n",
    "import matplotlib.pyplot as plt\n",
    "import seaborn as sn\n",
    "import pickle\n",
    "from sklearn.cross_validation import train_test_split\n",
    "from subprocess import Popen, PIPE\n",
    "%matplotlib inline "
   ]
  },
  {
   "cell_type": "code",
   "execution_count": 39,
   "metadata": {
    "collapsed": false
   },
   "outputs": [],
   "source": [
    "mypath = '/Users/Lucy/Google Drive/MSDS/2016Fall/DSGA1006/Data'\n",
    "f = open(mypath + '/lstm-rnn/lstm_data.pickle','rb')\n",
    "X_train, X_test, y_train, y_test = pickle.load(f)\n",
    "f.close()"
   ]
  },
  {
   "cell_type": "code",
   "execution_count": 42,
   "metadata": {
    "collapsed": false
   },
   "outputs": [],
   "source": [
    "test = X_train.clean_description[7]"
   ]
  },
  {
   "cell_type": "code",
   "execution_count": 43,
   "metadata": {
    "collapsed": false
   },
   "outputs": [
    {
     "data": {
      "text/plain": [
       "'Send A Job lets you manage any small to big field service businesses using a streamlined and simple workflow. You can leave your paper work, invoices and complex spreadsheets behind and start managing your filed crew from any device. Send A Job brings big business organization to small business and small business simplicity to big business.'"
      ]
     },
     "execution_count": 43,
     "metadata": {},
     "output_type": "execute_result"
    }
   ],
   "source": [
    "test"
   ]
  },
  {
   "cell_type": "code",
   "execution_count": 25,
   "metadata": {
    "collapsed": false
   },
   "outputs": [
    {
     "name": "stdout",
     "output_type": "stream",
     "text": [
      "Lodgify is an all-in-one SaaS solution that helps vacation rental owners and property managers to manage and market their accommodation business. The software allows both vacation rental owners and property managers to create their own mobile-friendly website with a Book Now function, manage reservations and availabilities efficiently, and instantly synchronize property information with listings on multiple external vacation rental portals. Lodgifys mission is to help vacation rental owners and managers to grow their accommodation business by empowering them with great technology that is accessible and affordable for everyone. Founded in June 2012, Lodgify is a Barcelona-based technology company that develops innovative software for the vacation rental industry.\n"
     ]
    }
   ],
   "source": [
    "print(test.decode('unicode_escape').encode('ascii','ignore'))"
   ]
  },
  {
   "cell_type": "code",
   "execution_count": 9,
   "metadata": {
    "collapsed": true
   },
   "outputs": [],
   "source": [
    "tokenizer_cmd = ['/Users/Lucy/Google Drive/MSDS/2015Fall/DSGA3001_NLP_Distributed_Representation/Project' \\\n",
    "'/scripts/mosesdecoder/scripts/tokenizer/tokenizer.perl', '-l', 'en', '-q', '-']"
   ]
  },
  {
   "cell_type": "code",
   "execution_count": 12,
   "metadata": {
    "collapsed": false
   },
   "outputs": [],
   "source": [
    "sentences = X_train.clean_description[:10]"
   ]
  },
  {
   "cell_type": "code",
   "execution_count": 15,
   "metadata": {
    "collapsed": false
   },
   "outputs": [],
   "source": [
    "text = \"\\n\".join(sentences)\n",
    "tokenizer = Popen(tokenizer_cmd, stdin=PIPE, stdout=PIPE,shell=True)\n",
    "tok_text, _ = tokenizer.communicate(text)\n",
    "toks = tok_text.split('\\n')[:-1]"
   ]
  },
  {
   "cell_type": "code",
   "execution_count": 20,
   "metadata": {
    "collapsed": false
   },
   "outputs": [
    {
     "data": {
      "text/plain": [
       "\"SNUPI Technologies is a sensor and services company focused on home safety, security, and loss prevention. Their customers use their devices, in connection with their monitoring service, to discover and alert themselves when a hazardous event occurs in their home. SNUPI (Sensor Network Utilizing Powerline Infrastructure) technology is an ultra-low-power, general-purpose wireless sensing platform that is easily used and maintained by leveraging the existing electrical wiring as a whole home antenna. Their first product, WallyHome, specifically detects environmental hazards by monitoring moisture, temperature and humidity changes. Simply place sensors with your appliances or in hazard-prone spaces and Wally will alert you of impending disasters or damages as soon as they occur. A text, push notification or email from Wally will help you avoid costly repairs, mold and property loss. With Wally, you will always be in the know about the health of your home.\\nAlertaPhone is an on-demand network of smartphone technicians. We offer same day on-site repairs in 1 hour or less with one click of a button. Based in Spain, we cover 15 major cities. We leverage software and our network of technicians to offer the fastest and most reliable solution to repair Android and iOS mobile devices. AlertaPhone is the first collaborative economy company for mobile device repairs in Europe. \\xe2\\x80\\xa2 Established partnerships with insurance companies in Spain. \\xe2\\x80\\xa2 Mobile device repair partnerships with Banks and retail stores in Spain. \\xe2\\x80\\xa2 Partnerships in China with parts providers and exclusive repair kit manufacturer. \\xe2\\x80\\xa2 AlertaPhone also provides with repair kits with step by step instructions and next day delivery for the territories that we do don\\xe2\\x80\\x99t currently cover. AlertaPhone evolved from the first e-commerce store dedicated to iPhone and iPad parts and accessories. During the first year of operation, more than 3000 units of the 1st Generation iPhone where repaired. Approximately 0.05% of the global production.\\nTapgage is a go-to mobile interstitial ad network. The core focus of the Tapgage Ad platform is to effectively and efficiently help mobile app and web developers monetize their user traffic. Tapgage offers full-serve client facing assistance and a self-serve dashboard for the educated consumers. With offices in North America and Asia, Tapgage offers a full service solution for developers of any size.\\nNavdy, it is the best way to use your phone while driving. Imagine if you could see your phone calls, messages, maps and music as a transparent image floating in front of your windshield.\\nLuminous Medical, Inc. develops glucose management systems for health care professionals to improve outcomes of critically ill patients. The company\\xe2\\x80\\x99s products include an automated blood glucose monitor that uses a glucose oxidase sensor to provide real-time whole blood glucose measurements. It offers its product for glycemic control in the intensive care units, operating rooms, and intermediate care units. The company was incorporated in 2005 and is headquartered in Carlsbad, California. Luminous Medical, Inc. is a former subsidiary of InLight Solutions, Inc.\\nSamba Ads is a video distribution platform in Latin America. It helps premium producers reach massive audiences by creating distribution window and monetization strategies across different sites, social networks, and screens. Samba Ads was launched in August 2012 and is based in Sao Paulo, Brazil.\\nSymtavision GmbH provides timing-analysis solutions for processors, control-units, buses, and integration for the automotive and consumer electronics markets. Its tool suite detects bottlenecks arising from software and system integration, understands and debugs timing errors, compare alternatives, and optimize systems. The company's products include analysis engine, plug-ins, and import and export interfaces. It also offers services, including customizations and special analyses, such as requirements analysis and product selection, realization of tool interfaces and integration into existing design flows, analysis libraries for special components, and plug-ins for increased productivity; and analysis and optimization services, including identification and selection of data, analysis and optimization of systems based on given data, and support for performance specification sheets between OEM and supplier. Symtavision GmbH was founded in 2005 and is based in Braunschweig, Germany.\\nWearMyTags.com solves the fashion/apparel industry\\xe2\\x80\\x99s global sourcing problems by offering an A to Z web-based international crowdsourcing platform with reputation rating system specifically developed for the fashion/apparel industry, the first of its kind. WearMyTags.com allows fashion industry professionals, in all facets of the industry, to crowdsource globally at the click of a button. Simply register, post your project and instantly have several companies competing for your business. Traditionally, in order to source, fashion industry professionals had to rely on\\xe2\\x80\\xa6 \\xe2\\x80\\xa2 Complicated Printed or Online Fashion directories with no rating system \\xe2\\x80\\xa2 Join Apparel marts and travel to them just to have the opportunity to buy in bulk at wholesale pricing \\xe2\\x80\\xa2 Travel and pay to attend large expensive Trades shows like Magic \\xe2\\x80\\xa2 Or travel overseas to source manufacturers in order to take advantage of better pricing so as to compete on a global level. Fashion Sourcing, in all aspects of the business, has always been an expensive, arduous trial and error process. WearMyTags.com eliminates these headaches by creating a fast, efficient, very effective, very healthy online competitive international crowdsourcing marketplace and environment with a sound reputation rating system along with the WMT guarantee from our screened preferred makers/suppliers. Everyone from big brand American fashion buyers, to small European boutiques and clothiers, to home-based fashion designers, to China based trim manufacturers, to India based textile companies, to New York fashion publicists can ALL benefit from our sourcing platform. We connect people internationally, break barriers and make business happen in the global fashion/apparel world. You can literally source everything related to the fashion industry - A to Z - in one easy POWERFUL online platform. Everything from\\xe2\\x80\\xa6. \\xe2\\x80\\xa2 Design Concept \\xe2\\x80\\xa2 To Full Product Production \\xe2\\x80\\xa2 To GLOBAL Distribution You can produce and market an entire fashion line or just have one simple design created using our platform. WearMyTags.com offers a lightning fast, super easy fashion sourcing solution to GET IT DONE! WearMyTags.com. Fashion Sourcing Made Easy!!!\\nVueLogic LLC provides revenue generation solutions for business that enable companies to analyze and trend customer data.The company was incorporated in 2007 and is based in Atlanta, Georgia.\\nFounder/CEO David Lowe created Uberpong, a company that would bring style and customization to table tennis and change the face of the game. He also realized that a social ping pong movement could improve society in the same way it has in England, China, Germany, the Philippines and his workplace. Until Uberpong, the words, \\xe2\\x80\\x9ccool paddle\\xe2\\x80\\x9d had probably never been uttered. But now, with personalized, stylish paddles, everyone can have a ping pong personality. Uberpong launched in November 2012 and has since garnered recognition from various business news and lifestyle publications and been featured on nationwide TV. In addition, Uberpong has worked with several companies \\xe2\\x80\\x93 including the world's biggest brands \\xe2\\x80\\x93 to design and deliver custom ping pong paddles for special events, corporate gifts, rewards & recognition, and employee engagement efforts.\""
      ]
     },
     "execution_count": 20,
     "metadata": {},
     "output_type": "execute_result"
    }
   ],
   "source": [
    "text"
   ]
  },
  {
   "cell_type": "code",
   "execution_count": null,
   "metadata": {
    "collapsed": true
   },
   "outputs": [],
   "source": []
  }
 ],
 "metadata": {
  "kernelspec": {
   "display_name": "Python 2",
   "language": "python",
   "name": "python2"
  },
  "language_info": {
   "codemirror_mode": {
    "name": "ipython",
    "version": 2
   },
   "file_extension": ".py",
   "mimetype": "text/x-python",
   "name": "python",
   "nbconvert_exporter": "python",
   "pygments_lexer": "ipython2",
   "version": "2.7.11"
  }
 },
 "nbformat": 4,
 "nbformat_minor": 0
}
