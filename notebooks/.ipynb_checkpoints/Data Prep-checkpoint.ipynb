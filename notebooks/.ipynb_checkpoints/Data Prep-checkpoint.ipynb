{
 "cells": [
  {
   "cell_type": "code",
   "execution_count": 1,
   "metadata": {
    "collapsed": true
   },
   "outputs": [],
   "source": [
    "import pandas as pd\n",
    "import numpy as np\n",
    "from os import listdir\n",
    "from os.path import isfile, join\n",
    "import matplotlib.pyplot as plt\n",
    "import seaborn as sn\n",
    "%matplotlib inline  "
   ]
  },
  {
   "cell_type": "code",
   "execution_count": 2,
   "metadata": {
    "collapsed": true
   },
   "outputs": [],
   "source": [
    "mypath = '/Users/Lucy/Google Drive/MSDS/2016Fall/DSGA1006/Data/csv_export'\n",
    "files = [f for f in listdir(mypath) if isfile(join(mypath, f))]"
   ]
  },
  {
   "cell_type": "code",
   "execution_count": 3,
   "metadata": {
    "collapsed": false
   },
   "outputs": [
    {
     "data": {
      "text/plain": [
       "['acquisitions.csv',\n",
       " 'category_groups.csv',\n",
       " 'competitors.csv',\n",
       " 'crunchbase_license.txt',\n",
       " 'customers.csv',\n",
       " 'event_relationships.csv',\n",
       " 'events.csv',\n",
       " 'funding_rounds.csv',\n",
       " 'funds.csv',\n",
       " 'investment_partners.csv',\n",
       " 'investments.csv',\n",
       " 'investors.csv',\n",
       " 'ipos.csv',\n",
       " 'jobs.csv',\n",
       " 'org_parents.csv',\n",
       " 'organization_descriptions.csv',\n",
       " 'organizations.csv',\n",
       " 'people.csv',\n",
       " 'people_descriptions.csv']"
      ]
     },
     "execution_count": 3,
     "metadata": {},
     "output_type": "execute_result"
    }
   ],
   "source": [
    "files[1:]"
   ]
  },
  {
   "cell_type": "code",
   "execution_count": 4,
   "metadata": {
    "collapsed": false
   },
   "outputs": [
    {
     "name": "stderr",
     "output_type": "stream",
     "text": [
      "/Users/Lucy/anaconda/lib/python2.7/site-packages/IPython/core/interactiveshell.py:2902: DtypeWarning: Columns (17,18) have mixed types. Specify dtype option on import or set low_memory=False.\n",
      "  interactivity=interactivity, compiler=compiler, result=result)\n"
     ]
    }
   ],
   "source": [
    "investments = pd.read_csv(mypath + '/investments.csv')\n",
    "orgs = pd.read_csv(mypath + '/organizations.csv')\n",
    "org_descs = pd.read_csv(mypath + '/organization_descriptions.csv')\n",
    "investors = pd.read_csv(mypath + '/investors.csv')\n",
    "rounds = pd.read_csv(mypath + '/funding_rounds.csv')\n",
    "funds = pd.read_csv(mypath + '/funds.csv')"
   ]
  },
  {
   "cell_type": "markdown",
   "metadata": {},
   "source": [
    "## Clean up orgs"
   ]
  },
  {
   "cell_type": "code",
   "execution_count": 5,
   "metadata": {
    "collapsed": false
   },
   "outputs": [
    {
     "data": {
      "text/plain": [
       "company_name                                                   Soko Glam\n",
       "primary_role                                                     company\n",
       "domain                                                      sokoglam.com\n",
       "homepage_url                                     http://www.sokoglam.com\n",
       "country_code                                                         USA\n",
       "state_code                                                            NY\n",
       "region                                                     New York City\n",
       "city                                                            New York\n",
       "zipcode                                                              NaN\n",
       "address                                                              NaN\n",
       "status                                                         operating\n",
       "short_description      An eCommerce beauty shop that thoughtfully cur...\n",
       "category_list                                beauty|cosmetics|e-commerce\n",
       "category_group_list                 commerce and shopping|consumer goods\n",
       "funding_rounds                                                         1\n",
       "funding_total_usd                                                  50000\n",
       "founded_on                                                    2012-12-01\n",
       "first_funding_on                                              0001-05-15\n",
       "last_funding_on                                               0001-05-15\n",
       "closed_on                                                            NaN\n",
       "employee_count                                                         -\n",
       "email                                                                NaN\n",
       "phone                                                                NaN\n",
       "facebook_url                            http://www.facebook.com/sokoglam\n",
       "cb_url                 https://www.crunchbase.com/organization/soko-glam\n",
       "logo_url               https://www.crunchbase.com/organization/soko-g...\n",
       "profile_image_url      http://public.crunchbase.com/t_api_images/v139...\n",
       "twitter_url                             https://www.twitter.com/sokoglam\n",
       "uuid                                ae274356-131d-e2ca-32fc-ea5badc3ea12\n",
       "created_at                                           2014-05-07 17:50:00\n",
       "updated_at                                    2016-08-23 20:21:56.740226\n",
       "Name: 0, dtype: object"
      ]
     },
     "execution_count": 5,
     "metadata": {},
     "output_type": "execute_result"
    }
   ],
   "source": [
    "orgs.loc[0]"
   ]
  },
  {
   "cell_type": "code",
   "execution_count": 6,
   "metadata": {
    "collapsed": false
   },
   "outputs": [],
   "source": [
    "orgs = pd.merge(orgs, org_descs, on = 'uuid')"
   ]
  },
  {
   "cell_type": "code",
   "execution_count": 7,
   "metadata": {
    "collapsed": false
   },
   "outputs": [
    {
     "data": {
      "text/plain": [
       "company_name                                                   Soko Glam\n",
       "primary_role                                                     company\n",
       "domain                                                      sokoglam.com\n",
       "homepage_url                                     http://www.sokoglam.com\n",
       "country_code                                                         USA\n",
       "state_code                                                            NY\n",
       "region                                                     New York City\n",
       "city                                                            New York\n",
       "zipcode                                                              NaN\n",
       "address                                                              NaN\n",
       "status                                                         operating\n",
       "short_description      An eCommerce beauty shop that thoughtfully cur...\n",
       "category_list                                beauty|cosmetics|e-commerce\n",
       "category_group_list                 commerce and shopping|consumer goods\n",
       "funding_rounds                                                         1\n",
       "funding_total_usd                                                  50000\n",
       "founded_on                                                    2012-12-01\n",
       "first_funding_on                                              0001-05-15\n",
       "last_funding_on                                               0001-05-15\n",
       "closed_on                                                            NaN\n",
       "employee_count                                                         -\n",
       "email                                                                NaN\n",
       "phone                                                                NaN\n",
       "facebook_url                            http://www.facebook.com/sokoglam\n",
       "cb_url                 https://www.crunchbase.com/organization/soko-glam\n",
       "logo_url               https://www.crunchbase.com/organization/soko-g...\n",
       "profile_image_url      http://public.crunchbase.com/t_api_images/v139...\n",
       "twitter_url                             https://www.twitter.com/sokoglam\n",
       "uuid                                ae274356-131d-e2ca-32fc-ea5badc3ea12\n",
       "created_at                                           2014-05-07 17:50:00\n",
       "updated_at                                    2016-08-23 20:21:56.740226\n",
       "description            Soko Glam is on a mission to make skincare fun...\n",
       "Name: 0, dtype: object"
      ]
     },
     "execution_count": 7,
     "metadata": {},
     "output_type": "execute_result"
    }
   ],
   "source": [
    "orgs.loc[0]"
   ]
  },
  {
   "cell_type": "code",
   "execution_count": null,
   "metadata": {
    "collapsed": true
   },
   "outputs": [],
   "source": [
    "set(orgs.primary_role)"
   ]
  },
  {
   "cell_type": "code",
   "execution_count": 8,
   "metadata": {
    "collapsed": false
   },
   "outputs": [
    {
     "data": {
      "text/plain": [
       "company_name            object\n",
       "primary_role            object\n",
       "domain                  object\n",
       "homepage_url            object\n",
       "country_code            object\n",
       "state_code              object\n",
       "region                  object\n",
       "city                    object\n",
       "zipcode                 object\n",
       "address                 object\n",
       "status                  object\n",
       "short_description       object\n",
       "category_list           object\n",
       "category_group_list     object\n",
       "funding_rounds           int64\n",
       "funding_total_usd      float64\n",
       "founded_on              object\n",
       "first_funding_on        object\n",
       "last_funding_on         object\n",
       "closed_on               object\n",
       "employee_count          object\n",
       "email                   object\n",
       "phone                   object\n",
       "facebook_url            object\n",
       "cb_url                  object\n",
       "logo_url                object\n",
       "profile_image_url       object\n",
       "twitter_url             object\n",
       "uuid                    object\n",
       "created_at              object\n",
       "updated_at              object\n",
       "description             object\n",
       "dtype: object"
      ]
     },
     "execution_count": 8,
     "metadata": {},
     "output_type": "execute_result"
    }
   ],
   "source": [
    "orgs.dtypes"
   ]
  },
  {
   "cell_type": "code",
   "execution_count": 9,
   "metadata": {
    "collapsed": false
   },
   "outputs": [],
   "source": [
    "orgs['founded_on'] = pd.to_datetime(orgs['founded_on'], errors = 'coerce')\n",
    "orgs['first_funding_on'] = pd.to_datetime(orgs['first_funding_on'], errors = 'coerce')\n",
    "orgs['last_funding_on'] = pd.to_datetime(orgs['last_funding_on'], errors = 'coerce')\n",
    "orgs['closed_on'] = pd.to_datetime(orgs['closed_on'], errors = 'coerce')\n",
    "orgs['founded_year'] = orgs.founded_on.dt.year"
   ]
  },
  {
   "cell_type": "code",
   "execution_count": 10,
   "metadata": {
    "collapsed": true
   },
   "outputs": [],
   "source": [
    "columns = orgs.columns"
   ]
  },
  {
   "cell_type": "code",
   "execution_count": 11,
   "metadata": {
    "collapsed": false
   },
   "outputs": [
    {
     "data": {
      "text/plain": [
       "array([[<matplotlib.axes._subplots.AxesSubplot object at 0x13dfc1410>]], dtype=object)"
      ]
     },
     "execution_count": 11,
     "metadata": {},
     "output_type": "execute_result"
    },
    {
     "data": {
      "image/png": "[encoded data removed]",
      "text/plain": [
       "<matplotlib.figure.Figure at 0x116211090>"
      ]
     },
     "metadata": {},
     "output_type": "display_data"
    }
   ],
   "source": [
    "orgs.hist(column = 'founded_year')"
   ]
  },
  {
   "cell_type": "code",
   "execution_count": 12,
   "metadata": {
    "collapsed": false
   },
   "outputs": [],
   "source": [
    "#get rid of organizations that were founded before 1990 and after 2016\n",
    "\n",
    "df = orgs[(orgs.founded_year >= 1990) & (orgs.founded_year <= 2016)].copy()"
   ]
  },
  {
   "cell_type": "code",
   "execution_count": 13,
   "metadata": {
    "collapsed": false
   },
   "outputs": [
    {
     "data": {
      "text/plain": [
       "array([[<matplotlib.axes._subplots.AxesSubplot object at 0x13df182d0>]], dtype=object)"
      ]
     },
     "execution_count": 13,
     "metadata": {},
     "output_type": "execute_result"
    },
    {
     "data": {
      "image/png": "[encoded data removed]",
      "text/plain": [
       "<matplotlib.figure.Figure at 0x13df090d0>"
      ]
     },
     "metadata": {},
     "output_type": "display_data"
    }
   ],
   "source": [
    "df.hist(column = 'founded_year',bins = 20)"
   ]
  },
  {
   "cell_type": "code",
   "execution_count": 14,
   "metadata": {
    "collapsed": false
   },
   "outputs": [
    {
     "data": {
      "text/plain": [
       "{0, 1, 2, 3, 4, 5, 6, 7, 8, 9, 10, 11, 12, 13, 14, 15, 16, 17, 18, 19, 20, 22}"
      ]
     },
     "execution_count": 14,
     "metadata": {},
     "output_type": "execute_result"
    }
   ],
   "source": [
    "set(df.funding_rounds)"
   ]
  },
  {
   "cell_type": "code",
   "execution_count": 15,
   "metadata": {
    "collapsed": false
   },
   "outputs": [
    {
     "data": {
      "text/plain": [
       "array([[<matplotlib.axes._subplots.AxesSubplot object at 0x13de95850>]], dtype=object)"
      ]
     },
     "execution_count": 15,
     "metadata": {},
     "output_type": "execute_result"
    },
    {
     "data": {
      "image/png": "[encoded data removed]",
      "text/plain": [
       "<matplotlib.figure.Figure at 0x13df19710>"
      ]
     },
     "metadata": {},
     "output_type": "display_data"
    }
   ],
   "source": [
    "df.hist(column = 'funding_rounds',bins = 20)"
   ]
  },
  {
   "cell_type": "code",
   "execution_count": 16,
   "metadata": {
    "collapsed": false
   },
   "outputs": [
    {
     "data": {
      "text/plain": [
       "array([[<matplotlib.axes._subplots.AxesSubplot object at 0x13dedb290>,\n",
       "        <matplotlib.axes._subplots.AxesSubplot object at 0x13de6ef10>,\n",
       "        <matplotlib.axes._subplots.AxesSubplot object at 0x13d05b410>,\n",
       "        <matplotlib.axes._subplots.AxesSubplot object at 0x13d045250>,\n",
       "        <matplotlib.axes._subplots.AxesSubplot object at 0x13d0ae890>,\n",
       "        <matplotlib.axes._subplots.AxesSubplot object at 0x13d09be10>],\n",
       "       [<matplotlib.axes._subplots.AxesSubplot object at 0x13d082890>,\n",
       "        <matplotlib.axes._subplots.AxesSubplot object at 0x13d076b50>,\n",
       "        <matplotlib.axes._subplots.AxesSubplot object at 0x13d154350>,\n",
       "        <matplotlib.axes._subplots.AxesSubplot object at 0x13d13acd0>,\n",
       "        <matplotlib.axes._subplots.AxesSubplot object at 0x13d12ef10>,\n",
       "        <matplotlib.axes._subplots.AxesSubplot object at 0x13d116490>],\n",
       "       [<matplotlib.axes._subplots.AxesSubplot object at 0x13d10db10>,\n",
       "        <matplotlib.axes._subplots.AxesSubplot object at 0x13d0ec790>,\n",
       "        <matplotlib.axes._subplots.AxesSubplot object at 0x13d0dc5d0>,\n",
       "        <matplotlib.axes._subplots.AxesSubplot object at 0x13d0cf4d0>,\n",
       "        <matplotlib.axes._subplots.AxesSubplot object at 0x13d0b8310>,\n",
       "        <matplotlib.axes._subplots.AxesSubplot object at 0x13d024a10>],\n",
       "       [<matplotlib.axes._subplots.AxesSubplot object at 0x13d007d10>,\n",
       "        <matplotlib.axes._subplots.AxesSubplot object at 0x13cfeeb10>,\n",
       "        <matplotlib.axes._subplots.AxesSubplot object at 0x13cfd97d0>,\n",
       "        <matplotlib.axes._subplots.AxesSubplot object at 0x13cfc1610>,\n",
       "        <matplotlib.axes._subplots.AxesSubplot object at 0x13cfad7d0>,\n",
       "        <matplotlib.axes._subplots.AxesSubplot object at 0x13cf93910>],\n",
       "       [<matplotlib.axes._subplots.AxesSubplot object at 0x13cf87c90>,\n",
       "        <matplotlib.axes._subplots.AxesSubplot object at 0x13cea5050>,\n",
       "        <matplotlib.axes._subplots.AxesSubplot object at 0x13aab43d0>,\n",
       "        <matplotlib.axes._subplots.AxesSubplot object at 0x13ab21e10>,\n",
       "        <matplotlib.axes._subplots.AxesSubplot object at 0x13ab0bb50>,\n",
       "        <matplotlib.axes._subplots.AxesSubplot object at 0x13aaf9510>]], dtype=object)"
      ]
     },
     "execution_count": 16,
     "metadata": {},
     "output_type": "execute_result"
    },
    {
     "data": {
      "image/png": "[encoded data removed]",
      "text/plain": [
       "<matplotlib.figure.Figure at 0x13df21f50>"
      ]
     },
     "metadata": {},
     "output_type": "display_data"
    }
   ],
   "source": [
    "df.hist(column = \"funding_rounds\", by = 'founded_year', figsize = (20,16),layout = (5,6))"
   ]
  },
  {
   "cell_type": "code",
   "execution_count": 17,
   "metadata": {
    "collapsed": false
   },
   "outputs": [
    {
     "data": {
      "text/plain": [
       "funding_rounds\n",
       "0     137710\n",
       "1      36971\n",
       "2      12932\n",
       "3       6396\n",
       "4       3335\n",
       "5       1814\n",
       "6        981\n",
       "7        539\n",
       "8        305\n",
       "9        170\n",
       "10        99\n",
       "11        71\n",
       "12        37\n",
       "13        25\n",
       "14        18\n",
       "15         6\n",
       "16         5\n",
       "17         1\n",
       "18         3\n",
       "19         3\n",
       "20         1\n",
       "22         3\n",
       "dtype: int64"
      ]
     },
     "execution_count": 17,
     "metadata": {},
     "output_type": "execute_result"
    }
   ],
   "source": [
    "df.groupby('funding_rounds').size()"
   ]
  },
  {
   "cell_type": "markdown",
   "metadata": {},
   "source": [
    "## Clean up Investors"
   ]
  },
  {
   "cell_type": "code",
   "execution_count": 18,
   "metadata": {
    "collapsed": false
   },
   "outputs": [
    {
     "data": {
      "text/plain": [
       "investor_name                                          Sequoia Capital\n",
       "primary_role                                                  investor\n",
       "domain                                                  sequoiacap.com\n",
       "country_code                                                       USA\n",
       "state_code                                                          CA\n",
       "region                                                     SF Bay Area\n",
       "city                                                        Menlo Park\n",
       "investor_type                                          venture_capital\n",
       "investment_count                                                  1242\n",
       "total_funding_usd                                          3.40041e+10\n",
       "founded_on                                                  1972-11-01\n",
       "closed_on                                                          NaN\n",
       "cb_url               https://www.crunchbase.com/organization/sequoi...\n",
       "logo_url             https://www.crunchbase.com/organization/sequoi...\n",
       "profile_image_url    http://public.crunchbase.com/t_api_images/v141...\n",
       "twitter_url                            https://www.twitter.com/sequoia\n",
       "facebook_url                        http://www.facebook.com/sequoiacap\n",
       "uuid                              0c867fde-2b9a-df10-fdb9-66b74f355f91\n",
       "updated_at                                  2016-09-28 11:51:26.860329\n",
       "Name: 0, dtype: object"
      ]
     },
     "execution_count": 18,
     "metadata": {},
     "output_type": "execute_result"
    }
   ],
   "source": [
    "investors.loc[0]"
   ]
  },
  {
   "cell_type": "code",
   "execution_count": 19,
   "metadata": {
    "collapsed": false
   },
   "outputs": [
    {
     "data": {
      "text/plain": [
       "<matplotlib.axes._subplots.AxesSubplot at 0x13abb8e50>"
      ]
     },
     "execution_count": 19,
     "metadata": {},
     "output_type": "execute_result"
    },
    {
     "data": {
      "image/png": "[encoded data removed]",
      "text/plain": [
       "<matplotlib.figure.Figure at 0x13abcbc10>"
      ]
     },
     "metadata": {},
     "output_type": "display_data"
    }
   ],
   "source": [
    "investors.groupby('investor_type').size().plot(kind = 'bar',figsize = (20,8))"
   ]
  },
  {
   "cell_type": "code",
   "execution_count": 20,
   "metadata": {
    "collapsed": true
   },
   "outputs": [],
   "source": [
    "#we will only predict on well known individuals, angel groups, corporate venture capital, family office, micro vc\n",
    "#and venture capital\n",
    "\n",
    "accepted_types = ['angel_group','corporate_venture_capital','family_investment_office','individual','micro_vc',\n",
    "                  'venture_capital']"
   ]
  },
  {
   "cell_type": "code",
   "execution_count": 21,
   "metadata": {
    "collapsed": true
   },
   "outputs": [],
   "source": [
    "investors_df = investors[investors.investor_type.isin(accepted_types)].copy()"
   ]
  },
  {
   "cell_type": "code",
   "execution_count": 22,
   "metadata": {
    "collapsed": false
   },
   "outputs": [
    {
     "data": {
      "text/plain": [
       "<matplotlib.axes._subplots.AxesSubplot at 0x138454710>"
      ]
     },
     "execution_count": 22,
     "metadata": {},
     "output_type": "execute_result"
    },
    {
     "data": {
      "image/png": "[encoded data removed]",
      "text/plain": [
       "<matplotlib.figure.Figure at 0x138478a50>"
      ]
     },
     "metadata": {},
     "output_type": "display_data"
    }
   ],
   "source": [
    "investors_df.groupby('investor_type').size().plot(kind = 'bar',figsize = (20,8))"
   ]
  },
  {
   "cell_type": "code",
   "execution_count": 23,
   "metadata": {
    "collapsed": false
   },
   "outputs": [
    {
     "data": {
      "text/plain": [
       "array([[<matplotlib.axes._subplots.AxesSubplot object at 0x13ce98d50>]], dtype=object)"
      ]
     },
     "execution_count": 23,
     "metadata": {},
     "output_type": "execute_result"
    },
    {
     "data": {
      "image/png": "[encoded data removed]",
      "text/plain": [
       "<matplotlib.figure.Figure at 0x13d0922d0>"
      ]
     },
     "metadata": {},
     "output_type": "display_data"
    }
   ],
   "source": [
    "investors_df[investors_df.investment_count > 0].hist(column = 'investment_count',bins = 100, figsize = (20,8))"
   ]
  },
  {
   "cell_type": "code",
   "execution_count": 24,
   "metadata": {
    "collapsed": true
   },
   "outputs": [],
   "source": [
    "#get date of investment for each investment"
   ]
  },
  {
   "cell_type": "code",
   "execution_count": 25,
   "metadata": {
    "collapsed": false
   },
   "outputs": [
    {
     "data": {
      "text/html": [
       "<div>\n",
       "<table border=\"1\" class=\"dataframe\">\n",
       "  <thead>\n",
       "    <tr style=\"text-align: right;\">\n",
       "      <th></th>\n",
       "      <th>funding_round_uuid</th>\n",
       "      <th>investor_uuid</th>\n",
       "      <th>is_lead_investor</th>\n",
       "    </tr>\n",
       "  </thead>\n",
       "  <tbody>\n",
       "    <tr>\n",
       "      <th>0</th>\n",
       "      <td>0008d7cd-2233-7ac0-499f-d6bd79322751</td>\n",
       "      <td>ea5de28f-7493-f605-c3fd-51965a5b5aba</td>\n",
       "      <td>t</td>\n",
       "    </tr>\n",
       "    <tr>\n",
       "      <th>1</th>\n",
       "      <td>0015f710-ec05-371e-e658-dd1e46c497eb</td>\n",
       "      <td>c54493d1-89e8-db3c-bab3-ba4da8ee376f</td>\n",
       "      <td>t</td>\n",
       "    </tr>\n",
       "    <tr>\n",
       "      <th>2</th>\n",
       "      <td>003f45e1-1db5-5f91-35b4-b1ee9ca232f3</td>\n",
       "      <td>c61ec917-13b1-fa86-cf7d-88006a947914</td>\n",
       "      <td>f</td>\n",
       "    </tr>\n",
       "    <tr>\n",
       "      <th>3</th>\n",
       "      <td>003f45e1-1db5-5f91-35b4-b1ee9ca232f3</td>\n",
       "      <td>4884e025-054d-47d6-3c7e-6c397eee22cd</td>\n",
       "      <td>f</td>\n",
       "    </tr>\n",
       "    <tr>\n",
       "      <th>4</th>\n",
       "      <td>0044d614-0716-1a9b-8c31-9310b0c336bc</td>\n",
       "      <td>9e3a486a-99d5-1925-3339-57b6695133b0</td>\n",
       "      <td>t</td>\n",
       "    </tr>\n",
       "  </tbody>\n",
       "</table>\n",
       "</div>"
      ],
      "text/plain": [
       "                     funding_round_uuid                         investor_uuid  \\\n",
       "0  0008d7cd-2233-7ac0-499f-d6bd79322751  ea5de28f-7493-f605-c3fd-51965a5b5aba   \n",
       "1  0015f710-ec05-371e-e658-dd1e46c497eb  c54493d1-89e8-db3c-bab3-ba4da8ee376f   \n",
       "2  003f45e1-1db5-5f91-35b4-b1ee9ca232f3  c61ec917-13b1-fa86-cf7d-88006a947914   \n",
       "3  003f45e1-1db5-5f91-35b4-b1ee9ca232f3  4884e025-054d-47d6-3c7e-6c397eee22cd   \n",
       "4  0044d614-0716-1a9b-8c31-9310b0c336bc  9e3a486a-99d5-1925-3339-57b6695133b0   \n",
       "\n",
       "  is_lead_investor  \n",
       "0                t  \n",
       "1                t  \n",
       "2                f  \n",
       "3                f  \n",
       "4                t  "
      ]
     },
     "execution_count": 25,
     "metadata": {},
     "output_type": "execute_result"
    }
   ],
   "source": [
    "investments.head()"
   ]
  },
  {
   "cell_type": "code",
   "execution_count": 26,
   "metadata": {
    "collapsed": true
   },
   "outputs": [],
   "source": [
    "rounds['announced_on'] = pd.to_datetime(rounds['announced_on'], errors = 'coerce')"
   ]
  },
  {
   "cell_type": "code",
   "execution_count": 27,
   "metadata": {
    "collapsed": false
   },
   "outputs": [],
   "source": [
    "investment_dates = pd.merge(investments,rounds[['funding_round_uuid','announced_on']], on = 'funding_round_uuid')"
   ]
  },
  {
   "cell_type": "code",
   "execution_count": 28,
   "metadata": {
    "collapsed": false
   },
   "outputs": [],
   "source": [
    "# get the last investment an investor made\n",
    "most_recent_investment = pd.DataFrame(investment_dates.groupby('investor_uuid')['announced_on'].max()).reset_index()"
   ]
  },
  {
   "cell_type": "code",
   "execution_count": 29,
   "metadata": {
    "collapsed": false
   },
   "outputs": [],
   "source": [
    "most_recent_investment.head()\n",
    "most_recent_investment.columns = ['uuid','most_recent_investment']"
   ]
  },
  {
   "cell_type": "code",
   "execution_count": 30,
   "metadata": {
    "collapsed": false
   },
   "outputs": [
    {
     "data": {
      "text/html": [
       "<div>\n",
       "<table border=\"1\" class=\"dataframe\">\n",
       "  <thead>\n",
       "    <tr style=\"text-align: right;\">\n",
       "      <th></th>\n",
       "      <th>uuid</th>\n",
       "      <th>most_recent_investment</th>\n",
       "    </tr>\n",
       "  </thead>\n",
       "  <tbody>\n",
       "    <tr>\n",
       "      <th>0</th>\n",
       "      <td>0005e438-8f64-d01c-822d-a2de10690fed</td>\n",
       "      <td>2011-08-09</td>\n",
       "    </tr>\n",
       "    <tr>\n",
       "      <th>1</th>\n",
       "      <td>000a3a71-e224-c35d-6476-65e0d6579830</td>\n",
       "      <td>2016-03-01</td>\n",
       "    </tr>\n",
       "    <tr>\n",
       "      <th>2</th>\n",
       "      <td>000c5688-ea1a-1abd-ed38-a36ad1fc47c8</td>\n",
       "      <td>2016-09-03</td>\n",
       "    </tr>\n",
       "    <tr>\n",
       "      <th>3</th>\n",
       "      <td>000ede33-6c08-c865-e88e-0a59ec5daee8</td>\n",
       "      <td>2015-04-05</td>\n",
       "    </tr>\n",
       "    <tr>\n",
       "      <th>4</th>\n",
       "      <td>00121759-7d9c-dc31-d0a7-60581cb33bb9</td>\n",
       "      <td>2013-05-31</td>\n",
       "    </tr>\n",
       "  </tbody>\n",
       "</table>\n",
       "</div>"
      ],
      "text/plain": [
       "                                   uuid most_recent_investment\n",
       "0  0005e438-8f64-d01c-822d-a2de10690fed             2011-08-09\n",
       "1  000a3a71-e224-c35d-6476-65e0d6579830             2016-03-01\n",
       "2  000c5688-ea1a-1abd-ed38-a36ad1fc47c8             2016-09-03\n",
       "3  000ede33-6c08-c865-e88e-0a59ec5daee8             2015-04-05\n",
       "4  00121759-7d9c-dc31-d0a7-60581cb33bb9             2013-05-31"
      ]
     },
     "execution_count": 30,
     "metadata": {},
     "output_type": "execute_result"
    }
   ],
   "source": [
    "most_recent_investment.head()"
   ]
  },
  {
   "cell_type": "code",
   "execution_count": 31,
   "metadata": {
    "collapsed": false
   },
   "outputs": [],
   "source": [
    "investors_df = pd.merge(investors_df,most_recent_investment, on = 'uuid')"
   ]
  },
  {
   "cell_type": "code",
   "execution_count": 32,
   "metadata": {
    "collapsed": false
   },
   "outputs": [
    {
     "data": {
      "text/html": [
       "<div>\n",
       "<table border=\"1\" class=\"dataframe\">\n",
       "  <thead>\n",
       "    <tr style=\"text-align: right;\">\n",
       "      <th></th>\n",
       "      <th>investor_name</th>\n",
       "      <th>primary_role</th>\n",
       "      <th>domain</th>\n",
       "      <th>country_code</th>\n",
       "      <th>state_code</th>\n",
       "      <th>region</th>\n",
       "      <th>city</th>\n",
       "      <th>investor_type</th>\n",
       "      <th>investment_count</th>\n",
       "      <th>total_funding_usd</th>\n",
       "      <th>founded_on</th>\n",
       "      <th>closed_on</th>\n",
       "      <th>cb_url</th>\n",
       "      <th>logo_url</th>\n",
       "      <th>profile_image_url</th>\n",
       "      <th>twitter_url</th>\n",
       "      <th>facebook_url</th>\n",
       "      <th>uuid</th>\n",
       "      <th>updated_at</th>\n",
       "      <th>most_recent_investment</th>\n",
       "    </tr>\n",
       "  </thead>\n",
       "  <tbody>\n",
       "    <tr>\n",
       "      <th>0</th>\n",
       "      <td>Sequoia Capital</td>\n",
       "      <td>investor</td>\n",
       "      <td>sequoiacap.com</td>\n",
       "      <td>USA</td>\n",
       "      <td>CA</td>\n",
       "      <td>SF Bay Area</td>\n",
       "      <td>Menlo Park</td>\n",
       "      <td>venture_capital</td>\n",
       "      <td>1242</td>\n",
       "      <td>3.400411e+10</td>\n",
       "      <td>1972-11-01</td>\n",
       "      <td>NaN</td>\n",
       "      <td>https://www.crunchbase.com/organization/sequoi...</td>\n",
       "      <td>https://www.crunchbase.com/organization/sequoi...</td>\n",
       "      <td>http://public.crunchbase.com/t_api_images/v141...</td>\n",
       "      <td>https://www.twitter.com/sequoia</td>\n",
       "      <td>http://www.facebook.com/sequoiacap</td>\n",
       "      <td>0c867fde-2b9a-df10-fdb9-66b74f355f91</td>\n",
       "      <td>2016-09-28 11:51:26.860329</td>\n",
       "      <td>2016-09-28</td>\n",
       "    </tr>\n",
       "    <tr>\n",
       "      <th>1</th>\n",
       "      <td>New Enterprise Associates</td>\n",
       "      <td>investor</td>\n",
       "      <td>nea.com</td>\n",
       "      <td>USA</td>\n",
       "      <td>CA</td>\n",
       "      <td>SF Bay Area</td>\n",
       "      <td>Menlo Park</td>\n",
       "      <td>venture_capital</td>\n",
       "      <td>1114</td>\n",
       "      <td>2.756342e+10</td>\n",
       "      <td>1977-01-01</td>\n",
       "      <td>NaN</td>\n",
       "      <td>https://www.crunchbase.com/organization/new-en...</td>\n",
       "      <td>https://www.crunchbase.com/organization/new-en...</td>\n",
       "      <td>http://public.crunchbase.com/t_api_images/v145...</td>\n",
       "      <td>https://www.twitter.com/neavc</td>\n",
       "      <td>http://www.facebook.com/neavc</td>\n",
       "      <td>47b84763-9727-7cdf-b194-2742e3963147</td>\n",
       "      <td>2016-09-28 13:52:29.052392</td>\n",
       "      <td>2016-09-26</td>\n",
       "    </tr>\n",
       "    <tr>\n",
       "      <th>2</th>\n",
       "      <td>Intel Capital</td>\n",
       "      <td>investor</td>\n",
       "      <td>intelcapital.com</td>\n",
       "      <td>USA</td>\n",
       "      <td>CA</td>\n",
       "      <td>SF Bay Area</td>\n",
       "      <td>Santa Clara</td>\n",
       "      <td>corporate_venture_capital</td>\n",
       "      <td>1053</td>\n",
       "      <td>2.379451e+10</td>\n",
       "      <td>1991-01-01</td>\n",
       "      <td>NaN</td>\n",
       "      <td>https://www.crunchbase.com/organization/intel-...</td>\n",
       "      <td>https://www.crunchbase.com/organization/intel-...</td>\n",
       "      <td>http://public.crunchbase.com/t_api_images/v139...</td>\n",
       "      <td>https://www.twitter.com/intelcapital</td>\n",
       "      <td>NaN</td>\n",
       "      <td>f3716725-552d-b9b5-59ad-de4ec64b1751</td>\n",
       "      <td>2016-09-29 07:09:45.592806</td>\n",
       "      <td>2016-09-19</td>\n",
       "    </tr>\n",
       "    <tr>\n",
       "      <th>3</th>\n",
       "      <td>Accel Partners</td>\n",
       "      <td>investor</td>\n",
       "      <td>accel.com</td>\n",
       "      <td>USA</td>\n",
       "      <td>CA</td>\n",
       "      <td>SF Bay Area</td>\n",
       "      <td>Palo Alto</td>\n",
       "      <td>venture_capital</td>\n",
       "      <td>952</td>\n",
       "      <td>2.219778e+10</td>\n",
       "      <td>1983-01-01</td>\n",
       "      <td>NaN</td>\n",
       "      <td>https://www.crunchbase.com/organization/accel-...</td>\n",
       "      <td>https://www.crunchbase.com/organization/accel-...</td>\n",
       "      <td>http://public.crunchbase.com/t_api_images/v144...</td>\n",
       "      <td>https://www.twitter.com/accel</td>\n",
       "      <td>http://www.facebook.com/accel</td>\n",
       "      <td>b08efc27-da40-505a-6f9d-c9e14247bf36</td>\n",
       "      <td>2016-09-28 03:50:11.161651</td>\n",
       "      <td>2016-09-27</td>\n",
       "    </tr>\n",
       "    <tr>\n",
       "      <th>4</th>\n",
       "      <td>Kleiner Perkins Caufield &amp; Byers</td>\n",
       "      <td>investor</td>\n",
       "      <td>kpcb.com</td>\n",
       "      <td>USA</td>\n",
       "      <td>CA</td>\n",
       "      <td>SF Bay Area</td>\n",
       "      <td>Menlo Park</td>\n",
       "      <td>venture_capital</td>\n",
       "      <td>840</td>\n",
       "      <td>2.685646e+10</td>\n",
       "      <td>1972-03-01</td>\n",
       "      <td>NaN</td>\n",
       "      <td>https://www.crunchbase.com/organization/kleine...</td>\n",
       "      <td>https://www.crunchbase.com/organization/kleine...</td>\n",
       "      <td>http://public.crunchbase.com/t_api_images/v139...</td>\n",
       "      <td>https://www.twitter.com/kpcb</td>\n",
       "      <td>http://www.facebook.com/kpcbprofile</td>\n",
       "      <td>2d0a5bf0-e53e-9a07-2243-9bcd561421ec</td>\n",
       "      <td>2016-09-28 10:58:01.290589</td>\n",
       "      <td>2016-09-21</td>\n",
       "    </tr>\n",
       "  </tbody>\n",
       "</table>\n",
       "</div>"
      ],
      "text/plain": [
       "                      investor_name primary_role            domain  \\\n",
       "0                   Sequoia Capital     investor    sequoiacap.com   \n",
       "1         New Enterprise Associates     investor           nea.com   \n",
       "2                     Intel Capital     investor  intelcapital.com   \n",
       "3                    Accel Partners     investor         accel.com   \n",
       "4  Kleiner Perkins Caufield & Byers     investor          kpcb.com   \n",
       "\n",
       "  country_code state_code       region         city  \\\n",
       "0          USA         CA  SF Bay Area   Menlo Park   \n",
       "1          USA         CA  SF Bay Area   Menlo Park   \n",
       "2          USA         CA  SF Bay Area  Santa Clara   \n",
       "3          USA         CA  SF Bay Area    Palo Alto   \n",
       "4          USA         CA  SF Bay Area   Menlo Park   \n",
       "\n",
       "               investor_type  investment_count  total_funding_usd  founded_on  \\\n",
       "0            venture_capital              1242       3.400411e+10  1972-11-01   \n",
       "1            venture_capital              1114       2.756342e+10  1977-01-01   \n",
       "2  corporate_venture_capital              1053       2.379451e+10  1991-01-01   \n",
       "3            venture_capital               952       2.219778e+10  1983-01-01   \n",
       "4            venture_capital               840       2.685646e+10  1972-03-01   \n",
       "\n",
       "  closed_on                                             cb_url  \\\n",
       "0       NaN  https://www.crunchbase.com/organization/sequoi...   \n",
       "1       NaN  https://www.crunchbase.com/organization/new-en...   \n",
       "2       NaN  https://www.crunchbase.com/organization/intel-...   \n",
       "3       NaN  https://www.crunchbase.com/organization/accel-...   \n",
       "4       NaN  https://www.crunchbase.com/organization/kleine...   \n",
       "\n",
       "                                            logo_url  \\\n",
       "0  https://www.crunchbase.com/organization/sequoi...   \n",
       "1  https://www.crunchbase.com/organization/new-en...   \n",
       "2  https://www.crunchbase.com/organization/intel-...   \n",
       "3  https://www.crunchbase.com/organization/accel-...   \n",
       "4  https://www.crunchbase.com/organization/kleine...   \n",
       "\n",
       "                                   profile_image_url  \\\n",
       "0  http://public.crunchbase.com/t_api_images/v141...   \n",
       "1  http://public.crunchbase.com/t_api_images/v145...   \n",
       "2  http://public.crunchbase.com/t_api_images/v139...   \n",
       "3  http://public.crunchbase.com/t_api_images/v144...   \n",
       "4  http://public.crunchbase.com/t_api_images/v139...   \n",
       "\n",
       "                            twitter_url                         facebook_url  \\\n",
       "0       https://www.twitter.com/sequoia   http://www.facebook.com/sequoiacap   \n",
       "1         https://www.twitter.com/neavc        http://www.facebook.com/neavc   \n",
       "2  https://www.twitter.com/intelcapital                                  NaN   \n",
       "3         https://www.twitter.com/accel        http://www.facebook.com/accel   \n",
       "4          https://www.twitter.com/kpcb  http://www.facebook.com/kpcbprofile   \n",
       "\n",
       "                                   uuid                  updated_at  \\\n",
       "0  0c867fde-2b9a-df10-fdb9-66b74f355f91  2016-09-28 11:51:26.860329   \n",
       "1  47b84763-9727-7cdf-b194-2742e3963147  2016-09-28 13:52:29.052392   \n",
       "2  f3716725-552d-b9b5-59ad-de4ec64b1751  2016-09-29 07:09:45.592806   \n",
       "3  b08efc27-da40-505a-6f9d-c9e14247bf36  2016-09-28 03:50:11.161651   \n",
       "4  2d0a5bf0-e53e-9a07-2243-9bcd561421ec  2016-09-28 10:58:01.290589   \n",
       "\n",
       "  most_recent_investment  \n",
       "0             2016-09-28  \n",
       "1             2016-09-26  \n",
       "2             2016-09-19  \n",
       "3             2016-09-27  \n",
       "4             2016-09-21  "
      ]
     },
     "execution_count": 32,
     "metadata": {},
     "output_type": "execute_result"
    }
   ],
   "source": [
    "investors_df.head()"
   ]
  },
  {
   "cell_type": "code",
   "execution_count": 33,
   "metadata": {
    "collapsed": false
   },
   "outputs": [],
   "source": [
    "investors_df['most_recent_active_year'] = investors_df['most_recent_investment'].dt.year\n"
   ]
  },
  {
   "cell_type": "code",
   "execution_count": 34,
   "metadata": {
    "collapsed": false
   },
   "outputs": [
    {
     "data": {
      "text/plain": [
       "array([[<matplotlib.axes._subplots.AxesSubplot object at 0x13849d890>]], dtype=object)"
      ]
     },
     "execution_count": 34,
     "metadata": {},
     "output_type": "execute_result"
    },
    {
     "data": {
      "image/png": "[encoded data removed]",
      "text/plain": [
       "<matplotlib.figure.Figure at 0x1383fb290>"
      ]
     },
     "metadata": {},
     "output_type": "display_data"
    }
   ],
   "source": [
    "investors_df.hist(column = 'most_recent_active_year',bins = 20, figsize = (20,8))"
   ]
  },
  {
   "cell_type": "code",
   "execution_count": 35,
   "metadata": {
    "collapsed": false
   },
   "outputs": [],
   "source": [
    "#take only investors that have been active in the past year and have made more than 5 investments\n",
    "\n",
    "investors_df = investors_df[(investors_df.most_recent_investment >= '2015-10-15') & \n",
    "                            (investors_df.investment_count > 5)].copy()"
   ]
  },
  {
   "cell_type": "code",
   "execution_count": 36,
   "metadata": {
    "collapsed": false
   },
   "outputs": [
    {
     "data": {
      "text/plain": [
       "2441"
      ]
     },
     "execution_count": 36,
     "metadata": {},
     "output_type": "execute_result"
    }
   ],
   "source": [
    "investors_df.shape[0]"
   ]
  },
  {
   "cell_type": "markdown",
   "metadata": {},
   "source": [
    "## Clean up Rounds"
   ]
  },
  {
   "cell_type": "code",
   "execution_count": 37,
   "metadata": {
    "collapsed": false
   },
   "outputs": [
    {
     "data": {
      "text/plain": [
       "company_name                                                                 Apsiyon\n",
       "country_code                                                                     TUR\n",
       "state_code                                                                       NaN\n",
       "region                                                                      Istanbul\n",
       "city                                                                        Istanbul\n",
       "company_category_list                                                  SaaS|Software\n",
       "funding_round_type                                                           venture\n",
       "funding_round_code                                                                 A\n",
       "announced_on                                                     2016-09-29 00:00:00\n",
       "raised_amount_usd                                                            2.5e+06\n",
       "raised_amount                                                                    NaN\n",
       "raised_amount_currency_code                                                      NaN\n",
       "target_money_raised_usd                                                          NaN\n",
       "target_money_raised                                                              NaN\n",
       "target_money_raised_currency_code                                                NaN\n",
       "post_money_valuation_usd                                                         NaN\n",
       "post_money_valuation                                                             NaN\n",
       "post_money_currency_code                                                         NaN\n",
       "investor_count                                                                     1\n",
       "investor_names                                             Earlybird Venture Capital\n",
       "cb_url                               https://www.crunchbase.com/organization/apsiyon\n",
       "company_uuid                                    2593028d-6633-21c4-6eb0-fa483675754c\n",
       "funding_round_uuid                              ab185d05-1855-a770-8fc8-8fd420b22386\n",
       "created_at                                                2016-09-29 09:14:04.958203\n",
       "updated_at                                                2016-09-29 09:15:40.491379\n",
       "Name: 0, dtype: object"
      ]
     },
     "execution_count": 37,
     "metadata": {},
     "output_type": "execute_result"
    }
   ],
   "source": [
    "rounds.loc[0]"
   ]
  },
  {
   "cell_type": "code",
   "execution_count": 38,
   "metadata": {
    "collapsed": false
   },
   "outputs": [
    {
     "data": {
      "text/plain": [
       "company_name                                 object\n",
       "country_code                                 object\n",
       "state_code                                   object\n",
       "region                                       object\n",
       "city                                         object\n",
       "company_category_list                        object\n",
       "funding_round_type                           object\n",
       "funding_round_code                           object\n",
       "announced_on                         datetime64[ns]\n",
       "raised_amount_usd                           float64\n",
       "raised_amount                               float64\n",
       "raised_amount_currency_code                  object\n",
       "target_money_raised_usd                     float64\n",
       "target_money_raised                         float64\n",
       "target_money_raised_currency_code            object\n",
       "post_money_valuation_usd                    float64\n",
       "post_money_valuation                        float64\n",
       "post_money_currency_code                    float64\n",
       "investor_count                                int64\n",
       "investor_names                               object\n",
       "cb_url                                       object\n",
       "company_uuid                                 object\n",
       "funding_round_uuid                           object\n",
       "created_at                                   object\n",
       "updated_at                                   object\n",
       "dtype: object"
      ]
     },
     "execution_count": 38,
     "metadata": {},
     "output_type": "execute_result"
    }
   ],
   "source": [
    "rounds.dtypes"
   ]
  },
  {
   "cell_type": "code",
   "execution_count": 39,
   "metadata": {
    "collapsed": true
   },
   "outputs": [],
   "source": [
    "rounds['announced_on'] = pd.to_datetime(rounds['announced_on'], errors = 'coerce')"
   ]
  },
  {
   "cell_type": "code",
   "execution_count": 40,
   "metadata": {
    "collapsed": true
   },
   "outputs": [],
   "source": [
    "rounds['announced_year'] = rounds['announced_on'].dt.year"
   ]
  },
  {
   "cell_type": "code",
   "execution_count": 41,
   "metadata": {
    "collapsed": false
   },
   "outputs": [],
   "source": [
    "#get only rounds from companies in cleaned up orgs\n",
    "rounds_df = rounds[rounds.company_uuid.isin(df.uuid)].copy()\n",
    "rounds_df = rounds_df[(rounds_df.announced_year >= 1990) & (rounds_df.announced_year <= 2016)].copy()"
   ]
  },
  {
   "cell_type": "code",
   "execution_count": 42,
   "metadata": {
    "collapsed": false
   },
   "outputs": [
    {
     "name": "stdout",
     "output_type": "stream",
     "text": [
      "original rounds: 145132, new count of rounds: 121227\n"
     ]
    }
   ],
   "source": [
    "print 'original rounds: %s, new count of rounds: %s' %(rounds.shape[0], rounds_df.shape[0])"
   ]
  },
  {
   "cell_type": "code",
   "execution_count": 43,
   "metadata": {
    "collapsed": false
   },
   "outputs": [
    {
     "data": {
      "text/plain": [
       "array([[<matplotlib.axes._subplots.AxesSubplot object at 0x1383c0f50>]], dtype=object)"
      ]
     },
     "execution_count": 43,
     "metadata": {},
     "output_type": "execute_result"
    },
    {
     "data": {
      "image/png": "[encoded data removed]",
      "text/plain": [
       "<matplotlib.figure.Figure at 0x1383d3190>"
      ]
     },
     "metadata": {},
     "output_type": "display_data"
    }
   ],
   "source": [
    "rounds.hist(column = 'announced_year',bins = 10, figsize = (20,8))"
   ]
  },
  {
   "cell_type": "code",
   "execution_count": 44,
   "metadata": {
    "collapsed": false
   },
   "outputs": [
    {
     "data": {
      "text/plain": [
       "array([[<matplotlib.axes._subplots.AxesSubplot object at 0x135feda10>]], dtype=object)"
      ]
     },
     "execution_count": 44,
     "metadata": {},
     "output_type": "execute_result"
    },
    {
     "data": {
      "image/png": "[encoded data removed]",
      "text/plain": [
       "<matplotlib.figure.Figure at 0x135efab50>"
      ]
     },
     "metadata": {},
     "output_type": "display_data"
    }
   ],
   "source": [
    "rounds_df.hist(column = 'announced_year',bins = 27, figsize = (20,8))"
   ]
  },
  {
   "cell_type": "code",
   "execution_count": 45,
   "metadata": {
    "collapsed": false
   },
   "outputs": [
    {
     "data": {
      "text/plain": [
       "18184.05"
      ]
     },
     "execution_count": 45,
     "metadata": {},
     "output_type": "execute_result"
    }
   ],
   "source": [
    "rounds_df.shape[0] * 0.15"
   ]
  },
  {
   "cell_type": "code",
   "execution_count": 79,
   "metadata": {
    "collapsed": false
   },
   "outputs": [
    {
     "data": {
      "text/plain": [
       "17824"
      ]
     },
     "execution_count": 79,
     "metadata": {},
     "output_type": "execute_result"
    }
   ],
   "source": [
    "rounds_df[(rounds_df.announced_on >= '2015-08-01')].shape[0]"
   ]
  },
  {
   "cell_type": "markdown",
   "metadata": {},
   "source": [
    "## Classification labels"
   ]
  },
  {
   "cell_type": "code",
   "execution_count": 47,
   "metadata": {
    "collapsed": false
   },
   "outputs": [],
   "source": [
    "#create a matrix where each row is a round and each column is an investor from the cleaned up investor list\n",
    "labels = investments.copy()\n",
    "labels['invested'] = 1"
   ]
  },
  {
   "cell_type": "code",
   "execution_count": 50,
   "metadata": {
    "collapsed": false
   },
   "outputs": [
    {
     "data": {
      "text/html": [
       "<div>\n",
       "<table border=\"1\" class=\"dataframe\">\n",
       "  <thead>\n",
       "    <tr style=\"text-align: right;\">\n",
       "      <th></th>\n",
       "      <th>funding_round_uuid</th>\n",
       "      <th>investor_uuid</th>\n",
       "      <th>is_lead_investor</th>\n",
       "      <th>invested</th>\n",
       "    </tr>\n",
       "  </thead>\n",
       "  <tbody>\n",
       "    <tr>\n",
       "      <th>0</th>\n",
       "      <td>0008d7cd-2233-7ac0-499f-d6bd79322751</td>\n",
       "      <td>ea5de28f-7493-f605-c3fd-51965a5b5aba</td>\n",
       "      <td>t</td>\n",
       "      <td>1</td>\n",
       "    </tr>\n",
       "    <tr>\n",
       "      <th>1</th>\n",
       "      <td>0015f710-ec05-371e-e658-dd1e46c497eb</td>\n",
       "      <td>c54493d1-89e8-db3c-bab3-ba4da8ee376f</td>\n",
       "      <td>t</td>\n",
       "      <td>1</td>\n",
       "    </tr>\n",
       "    <tr>\n",
       "      <th>2</th>\n",
       "      <td>003f45e1-1db5-5f91-35b4-b1ee9ca232f3</td>\n",
       "      <td>c61ec917-13b1-fa86-cf7d-88006a947914</td>\n",
       "      <td>f</td>\n",
       "      <td>1</td>\n",
       "    </tr>\n",
       "    <tr>\n",
       "      <th>3</th>\n",
       "      <td>003f45e1-1db5-5f91-35b4-b1ee9ca232f3</td>\n",
       "      <td>4884e025-054d-47d6-3c7e-6c397eee22cd</td>\n",
       "      <td>f</td>\n",
       "      <td>1</td>\n",
       "    </tr>\n",
       "    <tr>\n",
       "      <th>4</th>\n",
       "      <td>0044d614-0716-1a9b-8c31-9310b0c336bc</td>\n",
       "      <td>9e3a486a-99d5-1925-3339-57b6695133b0</td>\n",
       "      <td>t</td>\n",
       "      <td>1</td>\n",
       "    </tr>\n",
       "  </tbody>\n",
       "</table>\n",
       "</div>"
      ],
      "text/plain": [
       "                     funding_round_uuid                         investor_uuid  \\\n",
       "0  0008d7cd-2233-7ac0-499f-d6bd79322751  ea5de28f-7493-f605-c3fd-51965a5b5aba   \n",
       "1  0015f710-ec05-371e-e658-dd1e46c497eb  c54493d1-89e8-db3c-bab3-ba4da8ee376f   \n",
       "2  003f45e1-1db5-5f91-35b4-b1ee9ca232f3  c61ec917-13b1-fa86-cf7d-88006a947914   \n",
       "3  003f45e1-1db5-5f91-35b4-b1ee9ca232f3  4884e025-054d-47d6-3c7e-6c397eee22cd   \n",
       "4  0044d614-0716-1a9b-8c31-9310b0c336bc  9e3a486a-99d5-1925-3339-57b6695133b0   \n",
       "\n",
       "  is_lead_investor  invested  \n",
       "0                t         1  \n",
       "1                t         1  \n",
       "2                f         1  \n",
       "3                f         1  \n",
       "4                t         1  "
      ]
     },
     "execution_count": 50,
     "metadata": {},
     "output_type": "execute_result"
    }
   ],
   "source": [
    "labels.head()"
   ]
  },
  {
   "cell_type": "code",
   "execution_count": 52,
   "metadata": {
    "collapsed": false
   },
   "outputs": [],
   "source": [
    "labels_dedupe = labels.drop_duplicates(['funding_round_uuid','investor_uuid'])\n",
    "labels_dedupe = labels_dedupe[labels_dedupe.investor_uuid.isin(investors_df.uuid)].copy()"
   ]
  },
  {
   "cell_type": "code",
   "execution_count": 57,
   "metadata": {
    "collapsed": false
   },
   "outputs": [],
   "source": [
    "classes = labels_dedupe.pivot('funding_round_uuid','investor_uuid','invested')"
   ]
  },
  {
   "cell_type": "code",
   "execution_count": 60,
   "metadata": {
    "collapsed": false
   },
   "outputs": [],
   "source": [
    "classes.fillna(0,inplace = True)"
   ]
  },
  {
   "cell_type": "code",
   "execution_count": 68,
   "metadata": {
    "collapsed": false
   },
   "outputs": [],
   "source": [
    "lead_classes = labels_dedupe.pivot('funding_round_uuid','investor_uuid','is_lead_investor')"
   ]
  },
  {
   "cell_type": "code",
   "execution_count": 71,
   "metadata": {
    "collapsed": false
   },
   "outputs": [],
   "source": [
    "lead_classes.fillna(0,inplace = True)\n",
    "lead_classes[lead_classes == 't'] = 1"
   ]
  },
  {
   "cell_type": "code",
   "execution_count": 75,
   "metadata": {
    "collapsed": false
   },
   "outputs": [
    {
     "data": {
      "text/html": [
       "<div>\n",
       "<table border=\"1\" class=\"dataframe\">\n",
       "  <thead>\n",
       "    <tr style=\"text-align: right;\">\n",
       "      <th>investor_uuid</th>\n",
       "      <th>000a3a71-e224-c35d-6476-65e0d6579830</th>\n",
       "      <th>001487fa-9faf-6670-b692-c008b942baca</th>\n",
       "      <th>0034fcc5-e029-cc48-38b2-b7f4cc40f396</th>\n",
       "      <th>00512295-30cd-2ec6-2ded-ea51b3aed16d</th>\n",
       "      <th>0052417e-c052-ff17-ca0a-8ae397a1704f</th>\n",
       "      <th>00812ee6-2cdd-72be-a91a-810b83c46bf3</th>\n",
       "      <th>00873222-a031-1b69-93ca-3e91541fcd78</th>\n",
       "      <th>010e4d0e-45f7-3be3-8fba-c3f096b8a97e</th>\n",
       "      <th>01565767-a50c-b1f4-4b61-50cd459df7b7</th>\n",
       "      <th>015901e2-9702-2a56-c441-160a147f21b3</th>\n",
       "      <th>...</th>\n",
       "      <th>ff2a97e6-9b14-979c-d224-e2101c008362</th>\n",
       "      <th>ff3bca40-e819-c402-1ad8-5091e645a788</th>\n",
       "      <th>ff4dac03-cf4e-80bb-508b-b2e17f8099c0</th>\n",
       "      <th>ff57828c-3799-0deb-6c99-d45b74dc7018</th>\n",
       "      <th>ff5b794b-eea9-20bd-e8d8-69f84308b5dc</th>\n",
       "      <th>ff5d7781-999a-b2f7-097c-5d39998fd021</th>\n",
       "      <th>ffc52aea-1d0e-5ce4-f098-e3dfa07d731f</th>\n",
       "      <th>ffd1b775-b4cd-4f13-6f9c-6995901bbc50</th>\n",
       "      <th>ffdfc425-c8da-8a83-32d5-e64d18166bd1</th>\n",
       "      <th>fff53b21-253e-41fe-a366-bc0458911e12</th>\n",
       "    </tr>\n",
       "    <tr>\n",
       "      <th>funding_round_uuid</th>\n",
       "      <th></th>\n",
       "      <th></th>\n",
       "      <th></th>\n",
       "      <th></th>\n",
       "      <th></th>\n",
       "      <th></th>\n",
       "      <th></th>\n",
       "      <th></th>\n",
       "      <th></th>\n",
       "      <th></th>\n",
       "      <th></th>\n",
       "      <th></th>\n",
       "      <th></th>\n",
       "      <th></th>\n",
       "      <th></th>\n",
       "      <th></th>\n",
       "      <th></th>\n",
       "      <th></th>\n",
       "      <th></th>\n",
       "      <th></th>\n",
       "      <th></th>\n",
       "    </tr>\n",
       "  </thead>\n",
       "  <tbody>\n",
       "    <tr>\n",
       "      <th>0001cbd1-f7e2-4a56-607c-c57f46cc7dcb</th>\n",
       "      <td>0.0</td>\n",
       "      <td>0.0</td>\n",
       "      <td>0.0</td>\n",
       "      <td>0.0</td>\n",
       "      <td>0.0</td>\n",
       "      <td>0.0</td>\n",
       "      <td>0.0</td>\n",
       "      <td>0.0</td>\n",
       "      <td>0.0</td>\n",
       "      <td>0.0</td>\n",
       "      <td>...</td>\n",
       "      <td>0.0</td>\n",
       "      <td>0.0</td>\n",
       "      <td>0.0</td>\n",
       "      <td>0.0</td>\n",
       "      <td>0.0</td>\n",
       "      <td>0.0</td>\n",
       "      <td>0.0</td>\n",
       "      <td>0.0</td>\n",
       "      <td>0.0</td>\n",
       "      <td>0.0</td>\n",
       "    </tr>\n",
       "  </tbody>\n",
       "</table>\n",
       "<p>1 rows × 2441 columns</p>\n",
       "</div>"
      ],
      "text/plain": [
       "investor_uuid                         000a3a71-e224-c35d-6476-65e0d6579830  \\\n",
       "funding_round_uuid                                                           \n",
       "0001cbd1-f7e2-4a56-607c-c57f46cc7dcb                                   0.0   \n",
       "\n",
       "investor_uuid                         001487fa-9faf-6670-b692-c008b942baca  \\\n",
       "funding_round_uuid                                                           \n",
       "0001cbd1-f7e2-4a56-607c-c57f46cc7dcb                                   0.0   \n",
       "\n",
       "investor_uuid                         0034fcc5-e029-cc48-38b2-b7f4cc40f396  \\\n",
       "funding_round_uuid                                                           \n",
       "0001cbd1-f7e2-4a56-607c-c57f46cc7dcb                                   0.0   \n",
       "\n",
       "investor_uuid                         00512295-30cd-2ec6-2ded-ea51b3aed16d  \\\n",
       "funding_round_uuid                                                           \n",
       "0001cbd1-f7e2-4a56-607c-c57f46cc7dcb                                   0.0   \n",
       "\n",
       "investor_uuid                         0052417e-c052-ff17-ca0a-8ae397a1704f  \\\n",
       "funding_round_uuid                                                           \n",
       "0001cbd1-f7e2-4a56-607c-c57f46cc7dcb                                   0.0   \n",
       "\n",
       "investor_uuid                         00812ee6-2cdd-72be-a91a-810b83c46bf3  \\\n",
       "funding_round_uuid                                                           \n",
       "0001cbd1-f7e2-4a56-607c-c57f46cc7dcb                                   0.0   \n",
       "\n",
       "investor_uuid                         00873222-a031-1b69-93ca-3e91541fcd78  \\\n",
       "funding_round_uuid                                                           \n",
       "0001cbd1-f7e2-4a56-607c-c57f46cc7dcb                                   0.0   \n",
       "\n",
       "investor_uuid                         010e4d0e-45f7-3be3-8fba-c3f096b8a97e  \\\n",
       "funding_round_uuid                                                           \n",
       "0001cbd1-f7e2-4a56-607c-c57f46cc7dcb                                   0.0   \n",
       "\n",
       "investor_uuid                         01565767-a50c-b1f4-4b61-50cd459df7b7  \\\n",
       "funding_round_uuid                                                           \n",
       "0001cbd1-f7e2-4a56-607c-c57f46cc7dcb                                   0.0   \n",
       "\n",
       "investor_uuid                         015901e2-9702-2a56-c441-160a147f21b3  \\\n",
       "funding_round_uuid                                                           \n",
       "0001cbd1-f7e2-4a56-607c-c57f46cc7dcb                                   0.0   \n",
       "\n",
       "investor_uuid                                         ...                   \\\n",
       "funding_round_uuid                                    ...                    \n",
       "0001cbd1-f7e2-4a56-607c-c57f46cc7dcb                  ...                    \n",
       "\n",
       "investor_uuid                         ff2a97e6-9b14-979c-d224-e2101c008362  \\\n",
       "funding_round_uuid                                                           \n",
       "0001cbd1-f7e2-4a56-607c-c57f46cc7dcb                                   0.0   \n",
       "\n",
       "investor_uuid                         ff3bca40-e819-c402-1ad8-5091e645a788  \\\n",
       "funding_round_uuid                                                           \n",
       "0001cbd1-f7e2-4a56-607c-c57f46cc7dcb                                   0.0   \n",
       "\n",
       "investor_uuid                         ff4dac03-cf4e-80bb-508b-b2e17f8099c0  \\\n",
       "funding_round_uuid                                                           \n",
       "0001cbd1-f7e2-4a56-607c-c57f46cc7dcb                                   0.0   \n",
       "\n",
       "investor_uuid                         ff57828c-3799-0deb-6c99-d45b74dc7018  \\\n",
       "funding_round_uuid                                                           \n",
       "0001cbd1-f7e2-4a56-607c-c57f46cc7dcb                                   0.0   \n",
       "\n",
       "investor_uuid                         ff5b794b-eea9-20bd-e8d8-69f84308b5dc  \\\n",
       "funding_round_uuid                                                           \n",
       "0001cbd1-f7e2-4a56-607c-c57f46cc7dcb                                   0.0   \n",
       "\n",
       "investor_uuid                         ff5d7781-999a-b2f7-097c-5d39998fd021  \\\n",
       "funding_round_uuid                                                           \n",
       "0001cbd1-f7e2-4a56-607c-c57f46cc7dcb                                   0.0   \n",
       "\n",
       "investor_uuid                         ffc52aea-1d0e-5ce4-f098-e3dfa07d731f  \\\n",
       "funding_round_uuid                                                           \n",
       "0001cbd1-f7e2-4a56-607c-c57f46cc7dcb                                   0.0   \n",
       "\n",
       "investor_uuid                         ffd1b775-b4cd-4f13-6f9c-6995901bbc50  \\\n",
       "funding_round_uuid                                                           \n",
       "0001cbd1-f7e2-4a56-607c-c57f46cc7dcb                                   0.0   \n",
       "\n",
       "investor_uuid                         ffdfc425-c8da-8a83-32d5-e64d18166bd1  \\\n",
       "funding_round_uuid                                                           \n",
       "0001cbd1-f7e2-4a56-607c-c57f46cc7dcb                                   0.0   \n",
       "\n",
       "investor_uuid                         fff53b21-253e-41fe-a366-bc0458911e12  \n",
       "funding_round_uuid                                                          \n",
       "0001cbd1-f7e2-4a56-607c-c57f46cc7dcb                                   0.0  \n",
       "\n",
       "[1 rows x 2441 columns]"
      ]
     },
     "execution_count": 75,
     "metadata": {},
     "output_type": "execute_result"
    }
   ],
   "source": [
    "classes.head(1)"
   ]
  },
  {
   "cell_type": "markdown",
   "metadata": {},
   "source": [
    "## Train and Test Data "
   ]
  },
  {
   "cell_type": "code",
   "execution_count": 108,
   "metadata": {
    "collapsed": false
   },
   "outputs": [
    {
     "data": {
      "text/plain": [
       "company_name                                                                 Apsiyon\n",
       "country_code                                                                     TUR\n",
       "state_code                                                                       NaN\n",
       "region                                                                      Istanbul\n",
       "city                                                                        Istanbul\n",
       "company_category_list                                                  SaaS|Software\n",
       "funding_round_type                                                           venture\n",
       "funding_round_code                                                                 A\n",
       "announced_on                                                     2016-09-29 00:00:00\n",
       "raised_amount_usd                                                            2.5e+06\n",
       "raised_amount                                                                    NaN\n",
       "raised_amount_currency_code                                                      NaN\n",
       "target_money_raised_usd                                                          NaN\n",
       "target_money_raised                                                              NaN\n",
       "target_money_raised_currency_code                                                NaN\n",
       "post_money_valuation_usd                                                         NaN\n",
       "post_money_valuation                                                             NaN\n",
       "post_money_currency_code                                                         NaN\n",
       "investor_count                                                                     1\n",
       "investor_names                                             Earlybird Venture Capital\n",
       "cb_url                               https://www.crunchbase.com/organization/apsiyon\n",
       "company_uuid                                    2593028d-6633-21c4-6eb0-fa483675754c\n",
       "funding_round_uuid                              ab185d05-1855-a770-8fc8-8fd420b22386\n",
       "created_at                                                2016-09-29 09:14:04.958203\n",
       "updated_at                                                2016-09-29 09:15:40.491379\n",
       "announced_year                                                                  2016\n",
       "Name: 0, dtype: object"
      ]
     },
     "execution_count": 108,
     "metadata": {},
     "output_type": "execute_result"
    }
   ],
   "source": [
    "rounds_df.loc[0]"
   ]
  },
  {
   "cell_type": "code",
   "execution_count": 102,
   "metadata": {
    "collapsed": false
   },
   "outputs": [],
   "source": [
    "classification_df = rounds_df[['company_name','country_code','state_code','region','city','company_category_list',\n",
    "                              'funding_round_type','funding_round_code','announced_on','raised_amount_usd',\n",
    "                              'company_uuid','funding_round_uuid']].copy()"
   ]
  },
  {
   "cell_type": "code",
   "execution_count": 103,
   "metadata": {
    "collapsed": true
   },
   "outputs": [],
   "source": [
    "classification_orgs = df[['primary_role','zipcode','status','short_description','description','category_group_list',\n",
    "                         'founded_on','founded_year','uuid']]"
   ]
  },
  {
   "cell_type": "code",
   "execution_count": 116,
   "metadata": {
    "collapsed": false
   },
   "outputs": [],
   "source": [
    "classification_data = pd.merge(classification_df,classification_orgs,left_on = 'company_uuid',right_on = 'uuid',\n",
    "                              how = 'left')"
   ]
  },
  {
   "cell_type": "code",
   "execution_count": 117,
   "metadata": {
    "collapsed": false
   },
   "outputs": [],
   "source": [
    "cols = ['funding_round_uuid','company_uuid','company_name','country_code','state_code','region','city','zipcode',\n",
    "        'company_category_list','category_group_list','short_description','description','founded_on','founded_year',\n",
    "        'funding_round_type','funding_round_code','raised_amount_usd','announced_on','primary_role']"
   ]
  },
  {
   "cell_type": "code",
   "execution_count": 118,
   "metadata": {
    "collapsed": false
   },
   "outputs": [
    {
     "data": {
      "text/plain": [
       "primary_role\n",
       "company     120710\n",
       "group           16\n",
       "investor       472\n",
       "school          29\n",
       "dtype: int64"
      ]
     },
     "execution_count": 118,
     "metadata": {},
     "output_type": "execute_result"
    }
   ],
   "source": [
    "classification_data.groupby('primary_role').size()"
   ]
  },
  {
   "cell_type": "code",
   "execution_count": 119,
   "metadata": {
    "collapsed": false
   },
   "outputs": [],
   "source": [
    "classification_data = classification_data[cols].copy()"
   ]
  },
  {
   "cell_type": "code",
   "execution_count": 120,
   "metadata": {
    "collapsed": false
   },
   "outputs": [],
   "source": [
    "classification_data = classification_data[classification_data.primary_role == 'company'].copy()"
   ]
  },
  {
   "cell_type": "code",
   "execution_count": 121,
   "metadata": {
    "collapsed": false
   },
   "outputs": [
    {
     "data": {
      "text/html": [
       "<div>\n",
       "<table border=\"1\" class=\"dataframe\">\n",
       "  <thead>\n",
       "    <tr style=\"text-align: right;\">\n",
       "      <th></th>\n",
       "      <th>funding_round_uuid</th>\n",
       "      <th>company_uuid</th>\n",
       "      <th>company_name</th>\n",
       "      <th>country_code</th>\n",
       "      <th>state_code</th>\n",
       "      <th>region</th>\n",
       "      <th>city</th>\n",
       "      <th>zipcode</th>\n",
       "      <th>company_category_list</th>\n",
       "      <th>category_group_list</th>\n",
       "      <th>short_description</th>\n",
       "      <th>description</th>\n",
       "      <th>founded_on</th>\n",
       "      <th>founded_year</th>\n",
       "      <th>funding_round_type</th>\n",
       "      <th>funding_round_code</th>\n",
       "      <th>raised_amount_usd</th>\n",
       "      <th>announced_on</th>\n",
       "      <th>primary_role</th>\n",
       "    </tr>\n",
       "  </thead>\n",
       "  <tbody>\n",
       "    <tr>\n",
       "      <th>0</th>\n",
       "      <td>ab185d05-1855-a770-8fc8-8fd420b22386</td>\n",
       "      <td>2593028d-6633-21c4-6eb0-fa483675754c</td>\n",
       "      <td>Apsiyon</td>\n",
       "      <td>TUR</td>\n",
       "      <td>NaN</td>\n",
       "      <td>Istanbul</td>\n",
       "      <td>Istanbul</td>\n",
       "      <td>34843</td>\n",
       "      <td>SaaS|Software</td>\n",
       "      <td>software</td>\n",
       "      <td>Online residence property management</td>\n",
       "      <td>Apsiyon is an internet startup offering softwa...</td>\n",
       "      <td>2011-06-01</td>\n",
       "      <td>2011.0</td>\n",
       "      <td>venture</td>\n",
       "      <td>A</td>\n",
       "      <td>2500000.0</td>\n",
       "      <td>2016-09-29</td>\n",
       "      <td>company</td>\n",
       "    </tr>\n",
       "    <tr>\n",
       "      <th>1</th>\n",
       "      <td>f9a1b02c-1c66-df76-3135-924570949e03</td>\n",
       "      <td>fe57be45-36ee-ed64-289a-a06ac3f10142</td>\n",
       "      <td>Fastudent</td>\n",
       "      <td>NaN</td>\n",
       "      <td>NaN</td>\n",
       "      <td>NaN</td>\n",
       "      <td>NaN</td>\n",
       "      <td>NaN</td>\n",
       "      <td>Education</td>\n",
       "      <td>education</td>\n",
       "      <td>Fastudent is the largest education portal in I...</td>\n",
       "      <td>Our mission is to provide efficient and effect...</td>\n",
       "      <td>2013-01-01</td>\n",
       "      <td>2013.0</td>\n",
       "      <td>seed</td>\n",
       "      <td>NaN</td>\n",
       "      <td>NaN</td>\n",
       "      <td>2016-09-29</td>\n",
       "      <td>company</td>\n",
       "    </tr>\n",
       "  </tbody>\n",
       "</table>\n",
       "</div>"
      ],
      "text/plain": [
       "                     funding_round_uuid                          company_uuid  \\\n",
       "0  ab185d05-1855-a770-8fc8-8fd420b22386  2593028d-6633-21c4-6eb0-fa483675754c   \n",
       "1  f9a1b02c-1c66-df76-3135-924570949e03  fe57be45-36ee-ed64-289a-a06ac3f10142   \n",
       "\n",
       "  company_name country_code state_code    region      city zipcode  \\\n",
       "0      Apsiyon          TUR        NaN  Istanbul  Istanbul   34843   \n",
       "1    Fastudent          NaN        NaN       NaN       NaN     NaN   \n",
       "\n",
       "  company_category_list category_group_list  \\\n",
       "0         SaaS|Software            software   \n",
       "1             Education           education   \n",
       "\n",
       "                                   short_description  \\\n",
       "0               Online residence property management   \n",
       "1  Fastudent is the largest education portal in I...   \n",
       "\n",
       "                                         description founded_on  founded_year  \\\n",
       "0  Apsiyon is an internet startup offering softwa... 2011-06-01        2011.0   \n",
       "1  Our mission is to provide efficient and effect... 2013-01-01        2013.0   \n",
       "\n",
       "  funding_round_type funding_round_code  raised_amount_usd announced_on  \\\n",
       "0            venture                  A          2500000.0   2016-09-29   \n",
       "1               seed                NaN                NaN   2016-09-29   \n",
       "\n",
       "  primary_role  \n",
       "0      company  \n",
       "1      company  "
      ]
     },
     "execution_count": 121,
     "metadata": {},
     "output_type": "execute_result"
    }
   ],
   "source": [
    "classification_data.head(2)"
   ]
  },
  {
   "cell_type": "code",
   "execution_count": 123,
   "metadata": {
    "collapsed": false
   },
   "outputs": [],
   "source": [
    "#split train and test data, based on rounds data, train on everything before 2015-08-01\n",
    "train_rounds = classification_data[(classification_data.announced_on < '2015-08-01')].funding_round_uuid\n",
    "test_rounds = classification_data[(classification_data.announced_on >= '2015-08-01')].funding_round_uuid"
   ]
  },
  {
   "cell_type": "code",
   "execution_count": 124,
   "metadata": {
    "collapsed": true
   },
   "outputs": [],
   "source": [
    "mypath = '/Users/Lucy/Google Drive/MSDS/2016Fall/DSGA1006/Data/classification'\n",
    "classes.to_csv(mypath+'/investment_classes.csv')\n",
    "lead_classes.to_csv(mypath + '/investment_lead_classes.csv')\n",
    "train_rounds.to_csv(mypath + '/train_rounds.csv')\n",
    "test_rounds.to_csv(mypath + '/test_rounds.csv')\n",
    "classification_data.to_csv(mypath + '/classification_data.csv')"
   ]
  },
  {
   "cell_type": "markdown",
   "metadata": {},
   "source": [
    "## Clustering Data"
   ]
  },
  {
   "cell_type": "code",
   "execution_count": 125,
   "metadata": {
    "collapsed": true
   },
   "outputs": [],
   "source": [
    "mypath = '/Users/Lucy/Google Drive/MSDS/2016Fall/DSGA1006/Data/csv_export'\n",
    "comps = pd.read_csv(mypath + '/competitors.csv')"
   ]
  },
  {
   "cell_type": "code",
   "execution_count": 128,
   "metadata": {
    "collapsed": false
   },
   "outputs": [
    {
     "data": {
      "text/plain": [
       "funding_round_uuid                    ab185d05-1855-a770-8fc8-8fd420b22386\n",
       "company_uuid                          2593028d-6633-21c4-6eb0-fa483675754c\n",
       "company_name                                                       Apsiyon\n",
       "country_code                                                           TUR\n",
       "state_code                                                             NaN\n",
       "region                                                            Istanbul\n",
       "city                                                              Istanbul\n",
       "zipcode                                                              34843\n",
       "company_category_list                                        SaaS|Software\n",
       "category_group_list                                               software\n",
       "short_description                     Online residence property management\n",
       "description              Apsiyon is an internet startup offering softwa...\n",
       "founded_on                                             2011-06-01 00:00:00\n",
       "founded_year                                                          2011\n",
       "funding_round_type                                                 venture\n",
       "funding_round_code                                                       A\n",
       "raised_amount_usd                                                  2.5e+06\n",
       "announced_on                                           2016-09-29 00:00:00\n",
       "primary_role                                                       company\n",
       "Name: 0, dtype: object"
      ]
     },
     "execution_count": 128,
     "metadata": {},
     "output_type": "execute_result"
    }
   ],
   "source": [
    "classification_data.loc[0]"
   ]
  },
  {
   "cell_type": "code",
   "execution_count": 135,
   "metadata": {
    "collapsed": true
   },
   "outputs": [],
   "source": [
    "clustering_df = classification_data[['company_uuid','company_name','company_category_list','category_group_list',\n",
    "                                    'short_description','description','founded_on']].copy()\n",
    "clustering_df.drop_duplicates('company_uuid',inplace = True)"
   ]
  },
  {
   "cell_type": "code",
   "execution_count": 142,
   "metadata": {
    "collapsed": false
   },
   "outputs": [],
   "source": [
    "comps_df = comps[(comps.entity_uuid.isin(df.uuid)) & (comps.competitor_uuid.isin(df.uuid))].copy()\n",
    "comps_df = pd.merge(comps_df,df[['uuid','company_name']],left_on = 'entity_uuid',right_on = 'uuid',how = 'left')\n",
    "comps_df = pd.merge(comps_df,df[['uuid','company_name']],left_on = 'competitor_uuid',right_on = 'uuid',how = 'left')\n"
   ]
  },
  {
   "cell_type": "code",
   "execution_count": 144,
   "metadata": {
    "collapsed": false
   },
   "outputs": [],
   "source": [
    "comps_df = comps_df[['entity_uuid','competitor_uuid','company_name_x','company_name_y']]"
   ]
  },
  {
   "cell_type": "code",
   "execution_count": 146,
   "metadata": {
    "collapsed": false
   },
   "outputs": [],
   "source": [
    "comps_df.rename(columns={'company_name_x': 'company_name','company_name_y': 'competitor_name'}, inplace=True)"
   ]
  },
  {
   "cell_type": "code",
   "execution_count": 148,
   "metadata": {
    "collapsed": false
   },
   "outputs": [],
   "source": [
    "comps_df.drop_duplicates(['entity_uuid','competitor_uuid'],inplace = True)"
   ]
  },
  {
   "cell_type": "code",
   "execution_count": 150,
   "metadata": {
    "collapsed": false
   },
   "outputs": [],
   "source": [
    "mypath = '/Users/Lucy/Google Drive/MSDS/2016Fall/DSGA1006/Data/unsupervised'\n",
    "clustering_df.to_csv(mypath + '/clustering_data.csv')\n",
    "comps_df.to_csv(mypath + '/competitors.csv')"
   ]
  },
  {
   "cell_type": "code",
   "execution_count": null,
   "metadata": {
    "collapsed": true
   },
   "outputs": [],
   "source": []
  }
 ],
 "metadata": {
  "kernelspec": {
   "display_name": "Python 2",
   "language": "python",
   "name": "python2"
  },
  "language_info": {
   "codemirror_mode": {
    "name": "ipython",
    "version": 2
   },
   "file_extension": ".py",
   "mimetype": "text/x-python",
   "name": "python",
   "nbconvert_exporter": "python",
   "pygments_lexer": "ipython2",
   "version": "2.7.12"
  }
 },
 "nbformat": 4,
 "nbformat_minor": 0
}
