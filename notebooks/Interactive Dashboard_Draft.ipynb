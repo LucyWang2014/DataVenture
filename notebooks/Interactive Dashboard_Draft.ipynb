{
 "cells": [
  {
   "cell_type": "code",
   "execution_count": 226,
   "metadata": {
    "collapsed": false
   },
   "outputs": [],
   "source": [
    "%matplotlib notebook\n",
    "import pandas as pd\n",
    "import matplotlib.pyplot as plt\n",
    "from ipywidgets import *\n",
    "from IPython.display import display\n",
    "from IPython.html import widgets\n",
    "import seaborn as sn\n",
    "import pickle\n",
    "from sklearn.feature_extraction.text import TfidfVectorizer\n",
    "from urlparse import urlparse\n",
    "from sklearn.metrics.pairwise import cosine_similarity\n",
    "from tabulate import tabulate\n",
    "#plt.style.use('ggplot')\n"
   ]
  },
  {
   "cell_type": "code",
   "execution_count": 227,
   "metadata": {
    "collapsed": false
   },
   "outputs": [],
   "source": [
    "#load data tables and models\n",
    "path = '/Users/Lucy/Google Drive/MSDS/2016Fall/DSGA1006/Data'\n",
    "\n",
    "#competition, investment files\n",
    "orgs = pd.read_csv(path + '/unsupervised/trunc_clustering.csv',index_col = 0)\n",
    "comps = pd.read_csv(path + '/csv_export/competitors.csv')\n",
    "rounds = pd.read_csv(path + '/csv_export/funding_rounds.csv')\n",
    "investors = pd.read_csv(path + '/csv_export/investors.csv')\n",
    "investments = pd.read_csv(path + '/csv_export/investments.csv')\n",
    "\n",
    "#load model\n",
    "vectorizer = TfidfVectorizer(max_df=0.5, max_features=1000, min_df=2, stop_words='english',use_idf=True)"
   ]
  },
  {
   "cell_type": "code",
   "execution_count": 228,
   "metadata": {
    "collapsed": false
   },
   "outputs": [],
   "source": [
    "def url_validator(x):\n",
    "    try:\n",
    "        result = urlparse(x)\n",
    "        if result.scheme == \"\" or result.netloc == \"\":\n",
    "            return False\n",
    "        else :\n",
    "            return True\n",
    "    except:\n",
    "        return False\n",
    "    \n",
    "def get_investors(companies,index = None):\n",
    "    if index == None:\n",
    "        clean_companies = companies.copy()\n",
    "    else:\n",
    "        _comps = comps[comps.entity_uuid == companies.loc[index].company_uuid]\n",
    "        clean_companies = companies[~companies.company_uuid.isin(_comps.competitor_uuid)]\n",
    "    \n",
    "    _rounds = rounds[rounds.company_uuid.isin(clean_companies.company_uuid)]\n",
    "    _invests = investments[investments.funding_round_uuid.isin(_rounds.funding_round_uuid)]\n",
    "    _investors = pd.DataFrame(_invests.groupby('investor_uuid').size().sort_values(ascending = False)).reset_index()\n",
    "    _investors.columns = ['investor_uuid','count']\n",
    "    rec_investors = investors[investors.uuid.isin(_investors.investor_uuid)]\n",
    "    rec_investors = pd.merge(rec_investors,_investors, left_on = 'uuid',right_on = 'investor_uuid')\n",
    "    rec_investors = rec_investors.sort_values('count',ascending = False)\n",
    "    \n",
    "    return rec_investors"
   ]
  },
  {
   "cell_type": "code",
   "execution_count": 229,
   "metadata": {
    "collapsed": false
   },
   "outputs": [],
   "source": [
    "desc = widgets.Textarea(\n",
    "    placeholder='company name or description',\n",
    "    description='Company website or long description: ',\n",
    "    disabled=False,\n",
    "    width = 400)\n",
    "button = widgets.Button(description=\"Submit\")\n",
    "input_container = widgets.Box(children=[desc, button])\n",
    "#display(cb_container)\n",
    "\n",
    "text_input = desc.value\n",
    "\n",
    "company_output = widgets.HTML(value= \"No results yet\")\n",
    "investor_output = widgets.HTML(value = 'No results yet')\n",
    "\n",
    "def handle_submit(sender):\n",
    "    if url_validator(desc.value):\n",
    "        orgs['lower_company_name'] = orgs.company_name.str.lower()\n",
    "        index = orgs[orgs['lower_company_name'].str.contains(text_input.lower(),na=False)].index[0]\n",
    "        X = vectorizer.fit_transform(orgs.description.astype(str))\n",
    "        results = cosine_similarity(X[index:index+1], X).flatten()\n",
    "        indices = results.argsort()[::-1][1:31]\n",
    "\n",
    "    else:\n",
    "        all_text = [desc.value] + list(orgs.description.astype(str))\n",
    "        X = vectorizer.fit_transform(all_text)\n",
    "        related_indices = cosine_similarity(X[0:1], X).flatten().argsort()[::-1][1:31]\n",
    "        indices = [x - 1 for x in related_indices]\n",
    "        index = None\n",
    "    \n",
    "    most_similar = orgs.iloc[indices]\n",
    "    \n",
    "    pd.set_option('display.max_colwidth', -1)\n",
    "    #display(most_similar[['company_name','short_description','founded_on','homepage_url']].head())\n",
    "    company_output = most_similar[['company_name','short_description','founded_on','homepage_url']].head()\n",
    "    display(company_output)\n",
    "    \n",
    "    print '\\n'\n",
    "    print '-----------------------------------------------------------------------------------------------------'\n",
    "    print '\\n'\n",
    "    #pt_companies = PrettyTable(print_companies, center=True)\n",
    "    \n",
    "    #company_container = widgets.VBox()\n",
    "    #display(company_container)\n",
    "    #print_companies = []\n",
    "    #for index, row in most_similar.head(5).iterrows():\n",
    "    #    print_companies.append([widgets.HBox([row.company_name, row.short_description, \n",
    "    #                                          row.founded_on, row.homepage_url])])\n",
    "    #company_container.children=[i for i in print_companies]\n",
    "    #widgets.HBox([widgets.VBox([items[0], items[1]]), widgets.VBox([items[2], items[3]])])\n",
    "    #sim_companies = widgets.VBox([HTML('<h2>Top 10 Similar Companies</h2>'),\n",
    "    #                              HTML(company_results.style.set_table_attributes('class = \"table\"').render())])\n",
    "    #print most_similar.head(10)\n",
    "    try:\n",
    "        rec_investors = get_investors(most_similar,index = index)\n",
    "        #display(rec_investors[['investor_name','country_code','investor_type','count']].head())\n",
    "        investor_output = rec_investors[['investor_name','country_code','investor_type','count']].head()\n",
    "        display(investor_output)\n",
    "    except:\n",
    "        print \"no investor recommended\"\n",
    "\n",
    "button.on_click(handle_submit)\n",
    "\n",
    "accord = widgets.Accordion(children=[input_container, company_output, investor_output], width=400)\n",
    "display(accord)\n",
    "\n",
    "accord.set_title(0, 'input')\n",
    "accord.set_title(1, 'similar companies')\n",
    "accord.set_title(2, 'recommended investors')"
   ]
  },
  {
   "cell_type": "code",
   "execution_count": null,
   "metadata": {
    "collapsed": true
   },
   "outputs": [],
   "source": []
  }
 ],
 "metadata": {
  "kernelspec": {
   "display_name": "Python 2",
   "language": "python",
   "name": "python2"
  },
  "language_info": {
   "codemirror_mode": {
    "name": "ipython",
    "version": 2
   },
   "file_extension": ".py",
   "mimetype": "text/x-python",
   "name": "python",
   "nbconvert_exporter": "python",
   "pygments_lexer": "ipython2",
   "version": "2.7.11"
  }
 },
 "nbformat": 4,
 "nbformat_minor": 0
}
