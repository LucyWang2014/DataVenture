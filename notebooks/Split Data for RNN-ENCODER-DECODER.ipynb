{
 "cells": [
  {
   "cell_type": "code",
   "execution_count": 1,
   "metadata": {
    "collapsed": false
   },
   "outputs": [
    {
     "name": "stderr",
     "output_type": "stream",
     "text": [
      "/Users/Lucy/anaconda/envs/capstone/lib/python2.7/site-packages/sklearn/cross_validation.py:44: DeprecationWarning: This module was deprecated in version 0.18 in favor of the model_selection module into which all the refactored classes and functions are moved. Also note that the interface of the new CV iterators are different from that of this module. This module will be removed in 0.20.\n",
      "  \"This module will be removed in 0.20.\", DeprecationWarning)\n"
     ]
    }
   ],
   "source": [
    "import pandas as pd\n",
    "import numpy as np\n",
    "import pandas as pd\n",
    "import numpy as np\n",
    "import matplotlib.pyplot as plt\n",
    "import seaborn as sn\n",
    "import pickle\n",
    "from sklearn.cross_validation import train_test_split\n",
    "import string\n",
    "%matplotlib inline "
   ]
  },
  {
   "cell_type": "code",
   "execution_count": 2,
   "metadata": {
    "collapsed": false
   },
   "outputs": [
    {
     "name": "stderr",
     "output_type": "stream",
     "text": [
      "/Users/Lucy/anaconda/envs/capstone/lib/python2.7/site-packages/IPython/core/interactiveshell.py:2717: DtypeWarning: Columns (17,18) have mixed types. Specify dtype option on import or set low_memory=False.\n",
      "  interactivity=interactivity, compiler=compiler, result=result)\n"
     ]
    }
   ],
   "source": [
    "mypath = '/Users/Lucy/Google Drive/MSDS/2016Fall/DSGA1006/Data'\n",
    "orgs = pd.read_csv(mypath + '/csv_export/organizations.csv')\n",
    "df = pd.read_csv(mypath + '/unsupervised/clustering_data.csv',index_col = 0,encoding = 'utf8')\n",
    "cats = pd.read_csv(mypath + '/csv_export/category_groups.csv')"
   ]
  },
  {
   "cell_type": "code",
   "execution_count": 4,
   "metadata": {
    "collapsed": false
   },
   "outputs": [
    {
     "data": {
      "text/html": [
       "<div>\n",
       "<table border=\"1\" class=\"dataframe\">\n",
       "  <thead>\n",
       "    <tr style=\"text-align: right;\">\n",
       "      <th></th>\n",
       "      <th>company_uuid</th>\n",
       "      <th>company_name</th>\n",
       "      <th>company_category_list</th>\n",
       "      <th>category_group_list</th>\n",
       "      <th>short_description</th>\n",
       "      <th>description</th>\n",
       "      <th>founded_on</th>\n",
       "    </tr>\n",
       "  </thead>\n",
       "  <tbody>\n",
       "    <tr>\n",
       "      <th>0</th>\n",
       "      <td>2593028d-6633-21c4-6eb0-fa483675754c</td>\n",
       "      <td>Apsiyon</td>\n",
       "      <td>SaaS|Software</td>\n",
       "      <td>software</td>\n",
       "      <td>Online residence property management</td>\n",
       "      <td>Apsiyon is an internet startup offering softwa...</td>\n",
       "      <td>2011-06-01</td>\n",
       "    </tr>\n",
       "    <tr>\n",
       "      <th>1</th>\n",
       "      <td>fe57be45-36ee-ed64-289a-a06ac3f10142</td>\n",
       "      <td>Fastudent</td>\n",
       "      <td>Education</td>\n",
       "      <td>education</td>\n",
       "      <td>Fastudent is the largest education portal in I...</td>\n",
       "      <td>Our mission is to provide efficient and effect...</td>\n",
       "      <td>2013-01-01</td>\n",
       "    </tr>\n",
       "    <tr>\n",
       "      <th>2</th>\n",
       "      <td>6948c23e-1c82-6813-997f-d68dadd1aba4</td>\n",
       "      <td>Kalaage Creations Pvt Ltd</td>\n",
       "      <td>Social Network</td>\n",
       "      <td>NaN</td>\n",
       "      <td>A social network for writers and publications ...</td>\n",
       "      <td>A social network for writers and publications ...</td>\n",
       "      <td>2015-03-14</td>\n",
       "    </tr>\n",
       "    <tr>\n",
       "      <th>3</th>\n",
       "      <td>a2cbba96-bddd-09a2-76a8-9926b847faea</td>\n",
       "      <td>Lydia</td>\n",
       "      <td>Apps|FinTech|Mobile Payments|Software</td>\n",
       "      <td>apps|financial services|mobile|payments|software</td>\n",
       "      <td>Lydia's iPhone and Android apps enable you to ...</td>\n",
       "      <td>Lydia's iPhone and Android apps enable you to ...</td>\n",
       "      <td>2013-06-01</td>\n",
       "    </tr>\n",
       "    <tr>\n",
       "      <th>4</th>\n",
       "      <td>231686ac-6311-465d-d96c-267505d7824a</td>\n",
       "      <td>Owtware</td>\n",
       "      <td>Cyber Security|Enterprise Software|Virtualization</td>\n",
       "      <td>hardware|information technology|privacy and se...</td>\n",
       "      <td>Web-scale enterprise private cloud platform</td>\n",
       "      <td>Web-scale enterprise private cloud platform.</td>\n",
       "      <td>2011-12-11</td>\n",
       "    </tr>\n",
       "  </tbody>\n",
       "</table>\n",
       "</div>"
      ],
      "text/plain": [
       "                           company_uuid               company_name  \\\n",
       "0  2593028d-6633-21c4-6eb0-fa483675754c                    Apsiyon   \n",
       "1  fe57be45-36ee-ed64-289a-a06ac3f10142                  Fastudent   \n",
       "2  6948c23e-1c82-6813-997f-d68dadd1aba4  Kalaage Creations Pvt Ltd   \n",
       "3  a2cbba96-bddd-09a2-76a8-9926b847faea                      Lydia   \n",
       "4  231686ac-6311-465d-d96c-267505d7824a                    Owtware   \n",
       "\n",
       "                               company_category_list  \\\n",
       "0                                      SaaS|Software   \n",
       "1                                          Education   \n",
       "2                                     Social Network   \n",
       "3              Apps|FinTech|Mobile Payments|Software   \n",
       "4  Cyber Security|Enterprise Software|Virtualization   \n",
       "\n",
       "                                 category_group_list  \\\n",
       "0                                           software   \n",
       "1                                          education   \n",
       "2                                                NaN   \n",
       "3   apps|financial services|mobile|payments|software   \n",
       "4  hardware|information technology|privacy and se...   \n",
       "\n",
       "                                   short_description  \\\n",
       "0               Online residence property management   \n",
       "1  Fastudent is the largest education portal in I...   \n",
       "2  A social network for writers and publications ...   \n",
       "3  Lydia's iPhone and Android apps enable you to ...   \n",
       "4        Web-scale enterprise private cloud platform   \n",
       "\n",
       "                                         description  founded_on  \n",
       "0  Apsiyon is an internet startup offering softwa...  2011-06-01  \n",
       "1  Our mission is to provide efficient and effect...  2013-01-01  \n",
       "2  A social network for writers and publications ...  2015-03-14  \n",
       "3  Lydia's iPhone and Android apps enable you to ...  2013-06-01  \n",
       "4       Web-scale enterprise private cloud platform.  2011-12-11  "
      ]
     },
     "execution_count": 4,
     "metadata": {},
     "output_type": "execute_result"
    }
   ],
   "source": [
    "df.head()"
   ]
  },
  {
   "cell_type": "markdown",
   "metadata": {},
   "source": [
    "## Clean long and short description"
   ]
  },
  {
   "cell_type": "code",
   "execution_count": 5,
   "metadata": {
    "collapsed": true
   },
   "outputs": [],
   "source": [
    "model_data = df[['company_uuid','company_name','short_description','description','founded_on']].copy()"
   ]
  },
  {
   "cell_type": "code",
   "execution_count": 6,
   "metadata": {
    "collapsed": true
   },
   "outputs": [],
   "source": [
    "model_data['clean_description'] = model_data.description.apply(lambda x:  ' '.join(x.split()))\n",
    "model_data['clean_description'] = model_data.clean_description.apply(lambda x:\n",
    "                                                                   x.encode('ascii','ignore'))"
   ]
  },
  {
   "cell_type": "code",
   "execution_count": 7,
   "metadata": {
    "collapsed": true
   },
   "outputs": [],
   "source": [
    "model_data['clean_short_description'] = model_data.short_description.apply(lambda x:  ' '.join(x.split()))\n",
    "model_data['clean_short_description'] = model_data.clean_short_description.apply(lambda x:\n",
    "                                                                   x.encode('ascii','ignore'))"
   ]
  },
  {
   "cell_type": "code",
   "execution_count": 8,
   "metadata": {
    "collapsed": false
   },
   "outputs": [
    {
     "data": {
      "text/html": [
       "<div>\n",
       "<table border=\"1\" class=\"dataframe\">\n",
       "  <thead>\n",
       "    <tr style=\"text-align: right;\">\n",
       "      <th></th>\n",
       "      <th>company_uuid</th>\n",
       "      <th>company_name</th>\n",
       "      <th>short_description</th>\n",
       "      <th>description</th>\n",
       "      <th>founded_on</th>\n",
       "      <th>clean_description</th>\n",
       "      <th>clean_short_description</th>\n",
       "    </tr>\n",
       "  </thead>\n",
       "  <tbody>\n",
       "    <tr>\n",
       "      <th>0</th>\n",
       "      <td>2593028d-6633-21c4-6eb0-fa483675754c</td>\n",
       "      <td>Apsiyon</td>\n",
       "      <td>Online residence property management</td>\n",
       "      <td>Apsiyon is an internet startup offering softwa...</td>\n",
       "      <td>2011-06-01</td>\n",
       "      <td>Apsiyon is an internet startup offering softwa...</td>\n",
       "      <td>Online residence property management</td>\n",
       "    </tr>\n",
       "    <tr>\n",
       "      <th>1</th>\n",
       "      <td>fe57be45-36ee-ed64-289a-a06ac3f10142</td>\n",
       "      <td>Fastudent</td>\n",
       "      <td>Fastudent is the largest education portal in I...</td>\n",
       "      <td>Our mission is to provide efficient and effect...</td>\n",
       "      <td>2013-01-01</td>\n",
       "      <td>Our mission is to provide efficient and effect...</td>\n",
       "      <td>Fastudent is the largest education portal in I...</td>\n",
       "    </tr>\n",
       "    <tr>\n",
       "      <th>2</th>\n",
       "      <td>6948c23e-1c82-6813-997f-d68dadd1aba4</td>\n",
       "      <td>Kalaage Creations Pvt Ltd</td>\n",
       "      <td>A social network for writers and publications ...</td>\n",
       "      <td>A social network for writers and publications ...</td>\n",
       "      <td>2015-03-14</td>\n",
       "      <td>A social network for writers and publications ...</td>\n",
       "      <td>A social network for writers and publications ...</td>\n",
       "    </tr>\n",
       "    <tr>\n",
       "      <th>3</th>\n",
       "      <td>a2cbba96-bddd-09a2-76a8-9926b847faea</td>\n",
       "      <td>Lydia</td>\n",
       "      <td>Lydia's iPhone and Android apps enable you to ...</td>\n",
       "      <td>Lydia's iPhone and Android apps enable you to ...</td>\n",
       "      <td>2013-06-01</td>\n",
       "      <td>Lydia's iPhone and Android apps enable you to ...</td>\n",
       "      <td>Lydia's iPhone and Android apps enable you to ...</td>\n",
       "    </tr>\n",
       "    <tr>\n",
       "      <th>4</th>\n",
       "      <td>231686ac-6311-465d-d96c-267505d7824a</td>\n",
       "      <td>Owtware</td>\n",
       "      <td>Web-scale enterprise private cloud platform</td>\n",
       "      <td>Web-scale enterprise private cloud platform.</td>\n",
       "      <td>2011-12-11</td>\n",
       "      <td>Web-scale enterprise private cloud platform.</td>\n",
       "      <td>Web-scale enterprise private cloud platform</td>\n",
       "    </tr>\n",
       "  </tbody>\n",
       "</table>\n",
       "</div>"
      ],
      "text/plain": [
       "                           company_uuid               company_name  \\\n",
       "0  2593028d-6633-21c4-6eb0-fa483675754c                    Apsiyon   \n",
       "1  fe57be45-36ee-ed64-289a-a06ac3f10142                  Fastudent   \n",
       "2  6948c23e-1c82-6813-997f-d68dadd1aba4  Kalaage Creations Pvt Ltd   \n",
       "3  a2cbba96-bddd-09a2-76a8-9926b847faea                      Lydia   \n",
       "4  231686ac-6311-465d-d96c-267505d7824a                    Owtware   \n",
       "\n",
       "                                   short_description  \\\n",
       "0               Online residence property management   \n",
       "1  Fastudent is the largest education portal in I...   \n",
       "2  A social network for writers and publications ...   \n",
       "3  Lydia's iPhone and Android apps enable you to ...   \n",
       "4        Web-scale enterprise private cloud platform   \n",
       "\n",
       "                                         description  founded_on  \\\n",
       "0  Apsiyon is an internet startup offering softwa...  2011-06-01   \n",
       "1  Our mission is to provide efficient and effect...  2013-01-01   \n",
       "2  A social network for writers and publications ...  2015-03-14   \n",
       "3  Lydia's iPhone and Android apps enable you to ...  2013-06-01   \n",
       "4       Web-scale enterprise private cloud platform.  2011-12-11   \n",
       "\n",
       "                                   clean_description  \\\n",
       "0  Apsiyon is an internet startup offering softwa...   \n",
       "1  Our mission is to provide efficient and effect...   \n",
       "2  A social network for writers and publications ...   \n",
       "3  Lydia's iPhone and Android apps enable you to ...   \n",
       "4       Web-scale enterprise private cloud platform.   \n",
       "\n",
       "                             clean_short_description  \n",
       "0               Online residence property management  \n",
       "1  Fastudent is the largest education portal in I...  \n",
       "2  A social network for writers and publications ...  \n",
       "3  Lydia's iPhone and Android apps enable you to ...  \n",
       "4        Web-scale enterprise private cloud platform  "
      ]
     },
     "execution_count": 8,
     "metadata": {},
     "output_type": "execute_result"
    }
   ],
   "source": [
    "model_data.head()"
   ]
  },
  {
   "cell_type": "markdown",
   "metadata": {},
   "source": [
    "## Split into Train and Test - random sample"
   ]
  },
  {
   "cell_type": "code",
   "execution_count": 9,
   "metadata": {
    "collapsed": true
   },
   "outputs": [],
   "source": [
    "index = np.array(model_data.index)\n",
    "np.random.shuffle(index)"
   ]
  },
  {
   "cell_type": "code",
   "execution_count": 17,
   "metadata": {
    "collapsed": false
   },
   "outputs": [],
   "source": [
    "train_index = int(len(index) * 0.8)"
   ]
  },
  {
   "cell_type": "code",
   "execution_count": 20,
   "metadata": {
    "collapsed": false
   },
   "outputs": [],
   "source": [
    "train = model_data.loc[index[:train_index]]\n",
    "test = model_data.loc[index[train_index:]]"
   ]
  },
  {
   "cell_type": "code",
   "execution_count": 22,
   "metadata": {
    "collapsed": false
   },
   "outputs": [],
   "source": [
    "#train, test = train_test_split(model_data, test_size=0.2, random_state=7)"
   ]
  },
  {
   "cell_type": "code",
   "execution_count": 23,
   "metadata": {
    "collapsed": false
   },
   "outputs": [],
   "source": [
    "f = open(mypath + '/rnn-encoder-decoder/lstm_data.pickle','wb')\n",
    "pickle.dump((train, test), f, -1)\n",
    "f.close()"
   ]
  },
  {
   "cell_type": "code",
   "execution_count": 24,
   "metadata": {
    "collapsed": false
   },
   "outputs": [
    {
     "data": {
      "text/html": [
       "<div>\n",
       "<table border=\"1\" class=\"dataframe\">\n",
       "  <thead>\n",
       "    <tr style=\"text-align: right;\">\n",
       "      <th></th>\n",
       "      <th>company_uuid</th>\n",
       "      <th>company_name</th>\n",
       "      <th>short_description</th>\n",
       "      <th>description</th>\n",
       "      <th>founded_on</th>\n",
       "      <th>clean_description</th>\n",
       "      <th>clean_short_description</th>\n",
       "    </tr>\n",
       "  </thead>\n",
       "  <tbody>\n",
       "    <tr>\n",
       "      <th>4635</th>\n",
       "      <td>a1f100c4-49ce-cb02-625d-f3ec55c91e8e</td>\n",
       "      <td>ProGlove</td>\n",
       "      <td>A smart glove that helps workers in logistics ...</td>\n",
       "      <td>ProGlove is a professional wearable tool for p...</td>\n",
       "      <td>2014-12-30</td>\n",
       "      <td>ProGlove is a professional wearable tool for p...</td>\n",
       "      <td>A smart glove that helps workers in logistics ...</td>\n",
       "    </tr>\n",
       "    <tr>\n",
       "      <th>118053</th>\n",
       "      <td>ce9524dc-fb48-9e64-5a63-09ac6d5aedb2</td>\n",
       "      <td>Passlogix</td>\n",
       "      <td>Passlogix provides fast and secure access to e...</td>\n",
       "      <td>Passlogix, Inc., specializes in providing fast...</td>\n",
       "      <td>1996-01-01</td>\n",
       "      <td>Passlogix, Inc., specializes in providing fast...</td>\n",
       "      <td>Passlogix provides fast and secure access to e...</td>\n",
       "    </tr>\n",
       "    <tr>\n",
       "      <th>13505</th>\n",
       "      <td>ed0dacca-57c4-c1cf-00e0-0a3804b88219</td>\n",
       "      <td>SunFarmer</td>\n",
       "      <td>We're on a mission to provide reliable solar e...</td>\n",
       "      <td>SunFarmer is a nonprofit that provides the cap...</td>\n",
       "      <td>2013-03-01</td>\n",
       "      <td>SunFarmer is a nonprofit that provides the cap...</td>\n",
       "      <td>We're on a mission to provide reliable solar e...</td>\n",
       "    </tr>\n",
       "    <tr>\n",
       "      <th>76275</th>\n",
       "      <td>61834199-5997-0ee6-1a04-a339ecd13d40</td>\n",
       "      <td>Haus Bioceuticals</td>\n",
       "      <td>Haus Bioceuticals is a specialty pharmaceutica...</td>\n",
       "      <td>Haus Bioceuticals is a specialty pharmaceutica...</td>\n",
       "      <td>2009-01-01</td>\n",
       "      <td>Haus Bioceuticals is a specialty pharmaceutica...</td>\n",
       "      <td>Haus Bioceuticals is a specialty pharmaceutica...</td>\n",
       "    </tr>\n",
       "    <tr>\n",
       "      <th>118811</th>\n",
       "      <td>c56a2d51-a1f8-d797-56b1-fc953b7b185b</td>\n",
       "      <td>Kivera</td>\n",
       "      <td>Kivera foresaw the emergence of the wireless l...</td>\n",
       "      <td>In 1997, the founders of Kivera foresaw the em...</td>\n",
       "      <td>1997-01-01</td>\n",
       "      <td>In 1997, the founders of Kivera foresaw the em...</td>\n",
       "      <td>Kivera foresaw the emergence of the wireless l...</td>\n",
       "    </tr>\n",
       "  </tbody>\n",
       "</table>\n",
       "</div>"
      ],
      "text/plain": [
       "                                company_uuid       company_name  \\\n",
       "4635    a1f100c4-49ce-cb02-625d-f3ec55c91e8e           ProGlove   \n",
       "118053  ce9524dc-fb48-9e64-5a63-09ac6d5aedb2          Passlogix   \n",
       "13505   ed0dacca-57c4-c1cf-00e0-0a3804b88219          SunFarmer   \n",
       "76275   61834199-5997-0ee6-1a04-a339ecd13d40  Haus Bioceuticals   \n",
       "118811  c56a2d51-a1f8-d797-56b1-fc953b7b185b             Kivera   \n",
       "\n",
       "                                        short_description  \\\n",
       "4635    A smart glove that helps workers in logistics ...   \n",
       "118053  Passlogix provides fast and secure access to e...   \n",
       "13505   We're on a mission to provide reliable solar e...   \n",
       "76275   Haus Bioceuticals is a specialty pharmaceutica...   \n",
       "118811  Kivera foresaw the emergence of the wireless l...   \n",
       "\n",
       "                                              description  founded_on  \\\n",
       "4635    ProGlove is a professional wearable tool for p...  2014-12-30   \n",
       "118053  Passlogix, Inc., specializes in providing fast...  1996-01-01   \n",
       "13505   SunFarmer is a nonprofit that provides the cap...  2013-03-01   \n",
       "76275   Haus Bioceuticals is a specialty pharmaceutica...  2009-01-01   \n",
       "118811  In 1997, the founders of Kivera foresaw the em...  1997-01-01   \n",
       "\n",
       "                                        clean_description  \\\n",
       "4635    ProGlove is a professional wearable tool for p...   \n",
       "118053  Passlogix, Inc., specializes in providing fast...   \n",
       "13505   SunFarmer is a nonprofit that provides the cap...   \n",
       "76275   Haus Bioceuticals is a specialty pharmaceutica...   \n",
       "118811  In 1997, the founders of Kivera foresaw the em...   \n",
       "\n",
       "                                  clean_short_description  \n",
       "4635    A smart glove that helps workers in logistics ...  \n",
       "118053  Passlogix provides fast and secure access to e...  \n",
       "13505   We're on a mission to provide reliable solar e...  \n",
       "76275   Haus Bioceuticals is a specialty pharmaceutica...  \n",
       "118811  Kivera foresaw the emergence of the wireless l...  "
      ]
     },
     "execution_count": 24,
     "metadata": {},
     "output_type": "execute_result"
    }
   ],
   "source": [
    "train.head()"
   ]
  },
  {
   "cell_type": "code",
   "execution_count": null,
   "metadata": {
    "collapsed": true
   },
   "outputs": [],
   "source": []
  }
 ],
 "metadata": {
  "kernelspec": {
   "display_name": "Python 2",
   "language": "python",
   "name": "python2"
  },
  "language_info": {
   "codemirror_mode": {
    "name": "ipython",
    "version": 2
   },
   "file_extension": ".py",
   "mimetype": "text/x-python",
   "name": "python",
   "nbconvert_exporter": "python",
   "pygments_lexer": "ipython2",
   "version": "2.7.12"
  }
 },
 "nbformat": 4,
 "nbformat_minor": 0
}
